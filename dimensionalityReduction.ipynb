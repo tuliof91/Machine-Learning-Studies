{
 "cells": [
  {
   "cell_type": "markdown",
   "id": "bb149c27-6c0b-46a2-b281-6f9ed5cea151",
   "metadata": {
    "tags": []
   },
   "source": [
    "# Dimensionality Reduction"
   ]
  },
  {
   "cell_type": "markdown",
   "id": "50ef5554-32b7-4adc-98be-fd86500e3251",
   "metadata": {},
   "source": []
  },
  {
   "cell_type": "markdown",
   "id": "81bb7294-3aec-4f0f-be95-59844d67c4ad",
   "metadata": {},
   "source": [
    "## PCA in dimensionality Reduction\n",
    "\n",
    "PCA stands for Principal Component Analysis.\n",
    "\n",
    "PCA is a unsupervised dimentionality reduction technique used to reduce a high dimensional dataset into a smaller subset of principal components (PC), wich explains most of the variability observed in the original dataset.\n",
    "\n",
    "In other words: A linear combination of the input variables in thee dataset that maximizes the variance.\n",
    "\n",
    "Each PC is a linear combination of the input features, orthogonal to the other componets and maximizes the remainning variance wich is left unexplainned by previous PCs.We can build as many PCs as variables in the dataset but it is often possible for a few of the first  PCs to capture most of the information in the original dataset, as well as most of its relationship to the target.\n",
    "\n",
    "**notes:**\n",
    "- PCA assumes that variables are continuous\n",
    "- It is a **bad practice** to apply PCA in **cathegorical variables**, even after using one hot encoding or ordinal encoding (there are better methods).\n",
    "\n",
    "**Applying PCA in Dimensionality reduction can:**\n",
    "- Avoid the dimensionality curse\n",
    "- Train faster models (more efficient), after all, there is less data.\n",
    "- Make input variables with no colinearity (some estimators assume no colinearity)\n",
    "\n",
    "\n",
    "\n",
    "**colocar imagem aqui**\n",
    "\n",
    "### bjectives:\n",
    "- Reduce the number of input features\n",
    "- Identify features that are not relevant\n",
    "- Noise reduction (excluding less relevant input features)\n",
    "- Reduce overfitting probability\n",
    "- Can increse model score\n",
    "- Make vdata visualization easyer\n",
    "- Make new features based on existing features\n",
    "\n",
    "The main objective of applying PCA in your data is to make a new array of features based that is smaller and can keep the properties of the original data.\n",
    "\n",
    "To get there, PCA uses a linear combination to transform a an array of input features X into a new array X'\n",
    "\n"
   ]
  },
  {
   "cell_type": "markdown",
   "id": "c319b882-e95e-43d4-9a6b-217eece6efa2",
   "metadata": {
    "tags": []
   },
   "source": [
    "# Step by Step"
   ]
  },
  {
   "cell_type": "markdown",
   "id": "e36c8e8a-ac90-4b1b-8196-8bde60e5bd95",
   "metadata": {
    "tags": []
   },
   "source": [
    "## PCA in a simple dataset"
   ]
  },
  {
   "cell_type": "code",
   "execution_count": 2,
   "id": "ea5fd9dc-f00d-4f0b-a33e-119883c5b56c",
   "metadata": {},
   "outputs": [],
   "source": [
    "# import basic libraries\n",
    "import numpy as np\n",
    "import pandas as pd\n",
    "\n",
    "# import data viz libraries\n",
    "import matplotlib.pyplot as plt\n",
    "import seaborn as sns\n",
    "\n",
    "# import sklearn modules\n",
    "from sklearn import datasets\n",
    "from sklearn.model_selection import train_test_split\n",
    "\n",
    "# load iris dataset\n",
    "iris = datasets.load_iris(as_frame=True)\n",
    "\n",
    "# set up features and target\n",
    "X = iris.data\n",
    "y = iris.target\n",
    "\n",
    "# train test split\n",
    "X_train, X_test,y_train, y_test = train_test_split(X, y,test_size=0.2,\n",
    "                                                   random_state=42, stratify=y)"
   ]
  },
  {
   "cell_type": "code",
   "execution_count": 3,
   "id": "91f95817-9ce0-481a-9b3d-aa2427de752f",
   "metadata": {},
   "outputs": [
    {
     "data": {
      "text/html": [
       "<div>\n",
       "<style scoped>\n",
       "    .dataframe tbody tr th:only-of-type {\n",
       "        vertical-align: middle;\n",
       "    }\n",
       "\n",
       "    .dataframe tbody tr th {\n",
       "        vertical-align: top;\n",
       "    }\n",
       "\n",
       "    .dataframe thead th {\n",
       "        text-align: right;\n",
       "    }\n",
       "</style>\n",
       "<table border=\"1\" class=\"dataframe\">\n",
       "  <thead>\n",
       "    <tr style=\"text-align: right;\">\n",
       "      <th></th>\n",
       "      <th>sepal length (cm)</th>\n",
       "      <th>sepal width (cm)</th>\n",
       "      <th>petal length (cm)</th>\n",
       "      <th>petal width (cm)</th>\n",
       "    </tr>\n",
       "  </thead>\n",
       "  <tbody>\n",
       "    <tr>\n",
       "      <th>8</th>\n",
       "      <td>4.4</td>\n",
       "      <td>2.9</td>\n",
       "      <td>1.4</td>\n",
       "      <td>0.2</td>\n",
       "    </tr>\n",
       "    <tr>\n",
       "      <th>106</th>\n",
       "      <td>4.9</td>\n",
       "      <td>2.5</td>\n",
       "      <td>4.5</td>\n",
       "      <td>1.7</td>\n",
       "    </tr>\n",
       "    <tr>\n",
       "      <th>76</th>\n",
       "      <td>6.8</td>\n",
       "      <td>2.8</td>\n",
       "      <td>4.8</td>\n",
       "      <td>1.4</td>\n",
       "    </tr>\n",
       "    <tr>\n",
       "      <th>9</th>\n",
       "      <td>4.9</td>\n",
       "      <td>3.1</td>\n",
       "      <td>1.5</td>\n",
       "      <td>0.1</td>\n",
       "    </tr>\n",
       "    <tr>\n",
       "      <th>89</th>\n",
       "      <td>5.5</td>\n",
       "      <td>2.5</td>\n",
       "      <td>4.0</td>\n",
       "      <td>1.3</td>\n",
       "    </tr>\n",
       "  </tbody>\n",
       "</table>\n",
       "</div>"
      ],
      "text/plain": [
       "     sepal length (cm)  sepal width (cm)  petal length (cm)  petal width (cm)\n",
       "8                  4.4               2.9                1.4               0.2\n",
       "106                4.9               2.5                4.5               1.7\n",
       "76                 6.8               2.8                4.8               1.4\n",
       "9                  4.9               3.1                1.5               0.1\n",
       "89                 5.5               2.5                4.0               1.3"
      ]
     },
     "execution_count": 3,
     "metadata": {},
     "output_type": "execute_result"
    }
   ],
   "source": [
    "X_train.head()"
   ]
  },
  {
   "cell_type": "markdown",
   "id": "d8fb26ee-f5c1-49cb-8a5b-1fb25fd856ff",
   "metadata": {},
   "source": [
    "The iris dataset has 4 features.\n",
    "\n",
    "Now apply PCA to find the PC.\n",
    "\n",
    "It's important to note that PCA requires the standardized data.\n",
    "\n",
    "Use StandardScaler"
   ]
  },
  {
   "cell_type": "code",
   "execution_count": 4,
   "id": "afcc786a-0e73-4e09-a06d-b000fa45b62d",
   "metadata": {},
   "outputs": [
    {
     "data": {
      "text/html": [
       "<div>\n",
       "<style scoped>\n",
       "    .dataframe tbody tr th:only-of-type {\n",
       "        vertical-align: middle;\n",
       "    }\n",
       "\n",
       "    .dataframe tbody tr th {\n",
       "        vertical-align: top;\n",
       "    }\n",
       "\n",
       "    .dataframe thead th {\n",
       "        text-align: right;\n",
       "    }\n",
       "</style>\n",
       "<table border=\"1\" class=\"dataframe\">\n",
       "  <thead>\n",
       "    <tr style=\"text-align: right;\">\n",
       "      <th></th>\n",
       "      <th>sepal length (cm)</th>\n",
       "      <th>sepal width (cm)</th>\n",
       "      <th>petal length (cm)</th>\n",
       "      <th>petal width (cm)</th>\n",
       "    </tr>\n",
       "  </thead>\n",
       "  <tbody>\n",
       "    <tr>\n",
       "      <th>0</th>\n",
       "      <td>-1.721568</td>\n",
       "      <td>-0.332101</td>\n",
       "      <td>-1.345722</td>\n",
       "      <td>-1.323276</td>\n",
       "    </tr>\n",
       "    <tr>\n",
       "      <th>1</th>\n",
       "      <td>-1.124492</td>\n",
       "      <td>-1.227655</td>\n",
       "      <td>0.414505</td>\n",
       "      <td>0.651763</td>\n",
       "    </tr>\n",
       "    <tr>\n",
       "      <th>2</th>\n",
       "      <td>1.144395</td>\n",
       "      <td>-0.555990</td>\n",
       "      <td>0.584850</td>\n",
       "      <td>0.256755</td>\n",
       "    </tr>\n",
       "    <tr>\n",
       "      <th>3</th>\n",
       "      <td>-1.124492</td>\n",
       "      <td>0.115676</td>\n",
       "      <td>-1.288941</td>\n",
       "      <td>-1.454945</td>\n",
       "    </tr>\n",
       "    <tr>\n",
       "      <th>4</th>\n",
       "      <td>-0.408002</td>\n",
       "      <td>-1.227655</td>\n",
       "      <td>0.130598</td>\n",
       "      <td>0.125086</td>\n",
       "    </tr>\n",
       "  </tbody>\n",
       "</table>\n",
       "</div>"
      ],
      "text/plain": [
       "   sepal length (cm)  sepal width (cm)  petal length (cm)  petal width (cm)\n",
       "0          -1.721568         -0.332101          -1.345722         -1.323276\n",
       "1          -1.124492         -1.227655           0.414505          0.651763\n",
       "2           1.144395         -0.555990           0.584850          0.256755\n",
       "3          -1.124492          0.115676          -1.288941         -1.454945\n",
       "4          -0.408002         -1.227655           0.130598          0.125086"
      ]
     },
     "execution_count": 4,
     "metadata": {},
     "output_type": "execute_result"
    }
   ],
   "source": [
    "# import Standard Scaler\n",
    "from sklearn.preprocessing import StandardScaler\n",
    "\n",
    "# instantiate scale\n",
    "standardScaler = StandardScaler()\n",
    "\n",
    "# fit_transform the features\n",
    "X_scaled = standardScaler.fit_transform(X_train)\n",
    "\n",
    "# make a pandas dataframe with scaled data\n",
    "X_scaled = pd.DataFrame(X_scaled, columns=X_train.columns)\n",
    "\n",
    "X_scaled.head()"
   ]
  },
  {
   "cell_type": "code",
   "execution_count": 5,
   "id": "b509f7c4-9cf1-493e-bb6a-c178a0cc3fb2",
   "metadata": {},
   "outputs": [
    {
     "data": {
      "text/html": [
       "<style>#sk-container-id-1 {color: black;background-color: white;}#sk-container-id-1 pre{padding: 0;}#sk-container-id-1 div.sk-toggleable {background-color: white;}#sk-container-id-1 label.sk-toggleable__label {cursor: pointer;display: block;width: 100%;margin-bottom: 0;padding: 0.3em;box-sizing: border-box;text-align: center;}#sk-container-id-1 label.sk-toggleable__label-arrow:before {content: \"▸\";float: left;margin-right: 0.25em;color: #696969;}#sk-container-id-1 label.sk-toggleable__label-arrow:hover:before {color: black;}#sk-container-id-1 div.sk-estimator:hover label.sk-toggleable__label-arrow:before {color: black;}#sk-container-id-1 div.sk-toggleable__content {max-height: 0;max-width: 0;overflow: hidden;text-align: left;background-color: #f0f8ff;}#sk-container-id-1 div.sk-toggleable__content pre {margin: 0.2em;color: black;border-radius: 0.25em;background-color: #f0f8ff;}#sk-container-id-1 input.sk-toggleable__control:checked~div.sk-toggleable__content {max-height: 200px;max-width: 100%;overflow: auto;}#sk-container-id-1 input.sk-toggleable__control:checked~label.sk-toggleable__label-arrow:before {content: \"▾\";}#sk-container-id-1 div.sk-estimator input.sk-toggleable__control:checked~label.sk-toggleable__label {background-color: #d4ebff;}#sk-container-id-1 div.sk-label input.sk-toggleable__control:checked~label.sk-toggleable__label {background-color: #d4ebff;}#sk-container-id-1 input.sk-hidden--visually {border: 0;clip: rect(1px 1px 1px 1px);clip: rect(1px, 1px, 1px, 1px);height: 1px;margin: -1px;overflow: hidden;padding: 0;position: absolute;width: 1px;}#sk-container-id-1 div.sk-estimator {font-family: monospace;background-color: #f0f8ff;border: 1px dotted black;border-radius: 0.25em;box-sizing: border-box;margin-bottom: 0.5em;}#sk-container-id-1 div.sk-estimator:hover {background-color: #d4ebff;}#sk-container-id-1 div.sk-parallel-item::after {content: \"\";width: 100%;border-bottom: 1px solid gray;flex-grow: 1;}#sk-container-id-1 div.sk-label:hover label.sk-toggleable__label {background-color: #d4ebff;}#sk-container-id-1 div.sk-serial::before {content: \"\";position: absolute;border-left: 1px solid gray;box-sizing: border-box;top: 0;bottom: 0;left: 50%;z-index: 0;}#sk-container-id-1 div.sk-serial {display: flex;flex-direction: column;align-items: center;background-color: white;padding-right: 0.2em;padding-left: 0.2em;position: relative;}#sk-container-id-1 div.sk-item {position: relative;z-index: 1;}#sk-container-id-1 div.sk-parallel {display: flex;align-items: stretch;justify-content: center;background-color: white;position: relative;}#sk-container-id-1 div.sk-item::before, #sk-container-id-1 div.sk-parallel-item::before {content: \"\";position: absolute;border-left: 1px solid gray;box-sizing: border-box;top: 0;bottom: 0;left: 50%;z-index: -1;}#sk-container-id-1 div.sk-parallel-item {display: flex;flex-direction: column;z-index: 1;position: relative;background-color: white;}#sk-container-id-1 div.sk-parallel-item:first-child::after {align-self: flex-end;width: 50%;}#sk-container-id-1 div.sk-parallel-item:last-child::after {align-self: flex-start;width: 50%;}#sk-container-id-1 div.sk-parallel-item:only-child::after {width: 0;}#sk-container-id-1 div.sk-dashed-wrapped {border: 1px dashed gray;margin: 0 0.4em 0.5em 0.4em;box-sizing: border-box;padding-bottom: 0.4em;background-color: white;}#sk-container-id-1 div.sk-label label {font-family: monospace;font-weight: bold;display: inline-block;line-height: 1.2em;}#sk-container-id-1 div.sk-label-container {text-align: center;}#sk-container-id-1 div.sk-container {/* jupyter's `normalize.less` sets `[hidden] { display: none; }` but bootstrap.min.css set `[hidden] { display: none !important; }` so we also need the `!important` here to be able to override the default hidden behavior on the sphinx rendered scikit-learn.org. See: https://github.com/scikit-learn/scikit-learn/issues/21755 */display: inline-block !important;position: relative;}#sk-container-id-1 div.sk-text-repr-fallback {display: none;}</style><div id=\"sk-container-id-1\" class=\"sk-top-container\"><div class=\"sk-text-repr-fallback\"><pre>PCA()</pre><b>In a Jupyter environment, please rerun this cell to show the HTML representation or trust the notebook. <br />On GitHub, the HTML representation is unable to render, please try loading this page with nbviewer.org.</b></div><div class=\"sk-container\" hidden><div class=\"sk-item\"><div class=\"sk-estimator sk-toggleable\"><input class=\"sk-toggleable__control sk-hidden--visually\" id=\"sk-estimator-id-1\" type=\"checkbox\" checked><label for=\"sk-estimator-id-1\" class=\"sk-toggleable__label sk-toggleable__label-arrow\">PCA</label><div class=\"sk-toggleable__content\"><pre>PCA()</pre></div></div></div></div></div>"
      ],
      "text/plain": [
       "PCA()"
      ]
     },
     "execution_count": 5,
     "metadata": {},
     "output_type": "execute_result"
    }
   ],
   "source": [
    "# apply PCA with n_componets\n",
    "\n",
    "# import decomposition.PCA\n",
    "from sklearn.decomposition import PCA\n",
    "\n",
    "# instantiate PCA\n",
    "pca = PCA()\n",
    "\n",
    "# fit PCA\n",
    "pca.fit(X_scaled)"
   ]
  },
  {
   "cell_type": "code",
   "execution_count": 6,
   "id": "e3178bee-abac-4563-b765-9cf225be655e",
   "metadata": {},
   "outputs": [
    {
     "data": {
      "text/html": [
       "<style>#sk-container-id-2 {color: black;background-color: white;}#sk-container-id-2 pre{padding: 0;}#sk-container-id-2 div.sk-toggleable {background-color: white;}#sk-container-id-2 label.sk-toggleable__label {cursor: pointer;display: block;width: 100%;margin-bottom: 0;padding: 0.3em;box-sizing: border-box;text-align: center;}#sk-container-id-2 label.sk-toggleable__label-arrow:before {content: \"▸\";float: left;margin-right: 0.25em;color: #696969;}#sk-container-id-2 label.sk-toggleable__label-arrow:hover:before {color: black;}#sk-container-id-2 div.sk-estimator:hover label.sk-toggleable__label-arrow:before {color: black;}#sk-container-id-2 div.sk-toggleable__content {max-height: 0;max-width: 0;overflow: hidden;text-align: left;background-color: #f0f8ff;}#sk-container-id-2 div.sk-toggleable__content pre {margin: 0.2em;color: black;border-radius: 0.25em;background-color: #f0f8ff;}#sk-container-id-2 input.sk-toggleable__control:checked~div.sk-toggleable__content {max-height: 200px;max-width: 100%;overflow: auto;}#sk-container-id-2 input.sk-toggleable__control:checked~label.sk-toggleable__label-arrow:before {content: \"▾\";}#sk-container-id-2 div.sk-estimator input.sk-toggleable__control:checked~label.sk-toggleable__label {background-color: #d4ebff;}#sk-container-id-2 div.sk-label input.sk-toggleable__control:checked~label.sk-toggleable__label {background-color: #d4ebff;}#sk-container-id-2 input.sk-hidden--visually {border: 0;clip: rect(1px 1px 1px 1px);clip: rect(1px, 1px, 1px, 1px);height: 1px;margin: -1px;overflow: hidden;padding: 0;position: absolute;width: 1px;}#sk-container-id-2 div.sk-estimator {font-family: monospace;background-color: #f0f8ff;border: 1px dotted black;border-radius: 0.25em;box-sizing: border-box;margin-bottom: 0.5em;}#sk-container-id-2 div.sk-estimator:hover {background-color: #d4ebff;}#sk-container-id-2 div.sk-parallel-item::after {content: \"\";width: 100%;border-bottom: 1px solid gray;flex-grow: 1;}#sk-container-id-2 div.sk-label:hover label.sk-toggleable__label {background-color: #d4ebff;}#sk-container-id-2 div.sk-serial::before {content: \"\";position: absolute;border-left: 1px solid gray;box-sizing: border-box;top: 0;bottom: 0;left: 50%;z-index: 0;}#sk-container-id-2 div.sk-serial {display: flex;flex-direction: column;align-items: center;background-color: white;padding-right: 0.2em;padding-left: 0.2em;position: relative;}#sk-container-id-2 div.sk-item {position: relative;z-index: 1;}#sk-container-id-2 div.sk-parallel {display: flex;align-items: stretch;justify-content: center;background-color: white;position: relative;}#sk-container-id-2 div.sk-item::before, #sk-container-id-2 div.sk-parallel-item::before {content: \"\";position: absolute;border-left: 1px solid gray;box-sizing: border-box;top: 0;bottom: 0;left: 50%;z-index: -1;}#sk-container-id-2 div.sk-parallel-item {display: flex;flex-direction: column;z-index: 1;position: relative;background-color: white;}#sk-container-id-2 div.sk-parallel-item:first-child::after {align-self: flex-end;width: 50%;}#sk-container-id-2 div.sk-parallel-item:last-child::after {align-self: flex-start;width: 50%;}#sk-container-id-2 div.sk-parallel-item:only-child::after {width: 0;}#sk-container-id-2 div.sk-dashed-wrapped {border: 1px dashed gray;margin: 0 0.4em 0.5em 0.4em;box-sizing: border-box;padding-bottom: 0.4em;background-color: white;}#sk-container-id-2 div.sk-label label {font-family: monospace;font-weight: bold;display: inline-block;line-height: 1.2em;}#sk-container-id-2 div.sk-label-container {text-align: center;}#sk-container-id-2 div.sk-container {/* jupyter's `normalize.less` sets `[hidden] { display: none; }` but bootstrap.min.css set `[hidden] { display: none !important; }` so we also need the `!important` here to be able to override the default hidden behavior on the sphinx rendered scikit-learn.org. See: https://github.com/scikit-learn/scikit-learn/issues/21755 */display: inline-block !important;position: relative;}#sk-container-id-2 div.sk-text-repr-fallback {display: none;}</style><div id=\"sk-container-id-2\" class=\"sk-top-container\"><div class=\"sk-text-repr-fallback\"><pre>PCA(n_components=2)</pre><b>In a Jupyter environment, please rerun this cell to show the HTML representation or trust the notebook. <br />On GitHub, the HTML representation is unable to render, please try loading this page with nbviewer.org.</b></div><div class=\"sk-container\" hidden><div class=\"sk-item\"><div class=\"sk-estimator sk-toggleable\"><input class=\"sk-toggleable__control sk-hidden--visually\" id=\"sk-estimator-id-2\" type=\"checkbox\" checked><label for=\"sk-estimator-id-2\" class=\"sk-toggleable__label sk-toggleable__label-arrow\">PCA</label><div class=\"sk-toggleable__content\"><pre>PCA(n_components=2)</pre></div></div></div></div></div>"
      ],
      "text/plain": [
       "PCA(n_components=2)"
      ]
     },
     "execution_count": 6,
     "metadata": {},
     "output_type": "execute_result"
    }
   ],
   "source": [
    "# apply pca with 2 input features\n",
    "pca2 = PCA(n_components=2)\n",
    "\n",
    "# fit PCA\n",
    "pca2.fit(X_scaled)"
   ]
  },
  {
   "cell_type": "markdown",
   "id": "6a0498c3-2d26-4348-b8b3-096dc80e4281",
   "metadata": {},
   "source": [
    "Alguns atributos do pca"
   ]
  },
  {
   "cell_type": "code",
   "execution_count": 7,
   "id": "bdd86c96-711f-48ac-a4d9-c75649225748",
   "metadata": {},
   "outputs": [
    {
     "data": {
      "text/plain": [
       "array(['sepal length (cm)', 'sepal width (cm)', 'petal length (cm)',\n",
       "       'petal width (cm)'], dtype=object)"
      ]
     },
     "execution_count": 7,
     "metadata": {},
     "output_type": "execute_result"
    }
   ],
   "source": [
    "# nome das features de entrada\n",
    "pca.feature_names_in_"
   ]
  },
  {
   "cell_type": "code",
   "execution_count": 8,
   "id": "a82246cc-3839-4432-a2c9-815747a3f137",
   "metadata": {},
   "outputs": [
    {
     "data": {
      "text/plain": [
       "(4, 2)"
      ]
     },
     "execution_count": 8,
     "metadata": {},
     "output_type": "execute_result"
    }
   ],
   "source": [
    "# n_components_: quantidade de componentes\n",
    "pca.n_components_, pca2.n_components_"
   ]
  },
  {
   "cell_type": "code",
   "execution_count": 9,
   "id": "dfac4820-d12c-44b2-80bd-6cd9965c9d09",
   "metadata": {},
   "outputs": [
    {
     "data": {
      "text/plain": [
       "array([[ 0.52679335, -0.25307206,  0.58186918,  0.56557189],\n",
       "       [ 0.34813945,  0.93470791,  0.02689438,  0.06630793],\n",
       "       [-0.72745724,  0.22196252,  0.1386138 ,  0.6342908 ],\n",
       "       [ 0.26850263, -0.11405393, -0.80093144,  0.52288323]])"
      ]
     },
     "execution_count": 9,
     "metadata": {},
     "output_type": "execute_result"
    }
   ],
   "source": [
    "# components_: coeficientes da combinaćão linear\n",
    "pca.components_"
   ]
  },
  {
   "cell_type": "markdown",
   "id": "adbc7066-db8f-4b26-a1cd-e8505fc7068f",
   "metadata": {},
   "source": [
    "the atribute components_ returns the $\\alpha_{i, k}$ that determines the linear componets of each PC."
   ]
  },
  {
   "cell_type": "code",
   "execution_count": 10,
   "id": "ed7bbe85-5739-4148-a6d7-da9429962fed",
   "metadata": {},
   "outputs": [
    {
     "data": {
      "text/plain": [
       "array([2.93151868, 0.93042018, 0.15254729, 0.01912729])"
      ]
     },
     "execution_count": 10,
     "metadata": {},
     "output_type": "execute_result"
    }
   ],
   "source": [
    "# quantidade de variância explicada por cada um dos componentes\n",
    "pca.explained_variance_"
   ]
  },
  {
   "cell_type": "code",
   "execution_count": 11,
   "id": "8a725c17-d84f-419b-9edb-22711be51961",
   "metadata": {},
   "outputs": [
    {
     "data": {
      "text/plain": [
       "array([0.72677234, 0.23066667, 0.03781901, 0.00474197])"
      ]
     },
     "execution_count": 11,
     "metadata": {},
     "output_type": "execute_result"
    }
   ],
   "source": [
    "# porcentagem de variância explicada por cada uma das componentes\n",
    "pca.explained_variance_ratio_"
   ]
  },
  {
   "cell_type": "code",
   "execution_count": 12,
   "id": "f63c0e82-fd71-481b-b7bf-8431ed646bb8",
   "metadata": {},
   "outputs": [
    {
     "data": {
      "text/plain": [
       "array([0.72677234, 0.95743901, 0.99525803, 1.        ])"
      ]
     },
     "execution_count": 12,
     "metadata": {},
     "output_type": "execute_result"
    }
   ],
   "source": [
    "# ver a porcentagem acumulada da variância\n",
    "pca.explained_variance_ratio_.cumsum()"
   ]
  },
  {
   "cell_type": "markdown",
   "id": "99d492f1-b006-4209-84c9-5f313d258f5c",
   "metadata": {},
   "source": [
    "Para melhor visualizar, vamos plotar os resultados acima:"
   ]
  },
  {
   "cell_type": "code",
   "execution_count": 13,
   "id": "0de1b14d-be2b-4010-acfe-8bc65f1d8625",
   "metadata": {},
   "outputs": [
    {
     "data": {
      "image/png": "[encoded data removed]",
      "text/plain": [
       "<Figure size 432x288 with 1 Axes>"
      ]
     },
     "metadata": {
      "needs_background": "light"
     },
     "output_type": "display_data"
    }
   ],
   "source": [
    "# cria labels para o eixo x\n",
    "labels = [f'PC{i+1}' for i in range(X_train.shape[1])]\n",
    "\n",
    "# make bar graph of explained_variance_ratio_\n",
    "plt.bar(labels, pca.explained_variance_ratio_)\n",
    "plt.show;"
   ]
  },
  {
   "cell_type": "markdown",
   "id": "38d4beb3-69e7-4634-87d6-e3cf7089257a",
   "metadata": {},
   "source": [
    "Esse gráfico é conhecido como **scree plot**."
   ]
  },
  {
   "cell_type": "code",
   "execution_count": 14,
   "id": "f599e8aa-072a-42fc-9dce-19f1a09c738f",
   "metadata": {},
   "outputs": [
    {
     "data": {
      "image/png": "[encoded data removed]",
      "text/plain": [
       "<Figure size 432x288 with 1 Axes>"
      ]
     },
     "metadata": {
      "needs_background": "light"
     },
     "output_type": "display_data"
    }
   ],
   "source": [
    "# gráfico de barras do pca.explained_variance_ratio.cumsum()\n",
    "plt.bar(labels, pca.explained_variance_ratio_.cumsum())\n",
    "plt.show;"
   ]
  },
  {
   "cell_type": "code",
   "execution_count": 15,
   "id": "eed54866-0682-4466-8e47-48065e40f254",
   "metadata": {},
   "outputs": [
    {
     "data": {
      "image/png": "[encoded data removed]",
      "text/plain": [
       "<Figure size 432x288 with 1 Axes>"
      ]
     },
     "metadata": {
      "needs_background": "light"
     },
     "output_type": "display_data"
    }
   ],
   "source": [
    "# try with seaborn\n",
    "sns.barplot(x=labels, y=pca.explained_variance_ratio_);"
   ]
  },
  {
   "cell_type": "markdown",
   "id": "d401af8e-ecf8-485c-a3ec-562cfe7ddc7c",
   "metadata": {},
   "source": [
    "O pca não elimina features, estamos tentando simplificar o modelo criando componentes (combinaćão linear das features) e o trade off é a perda de precisão.\n",
    "\n",
    "usando esses dois gráficos é possível definir quantas componentes principais queremos no nosso modelo."
   ]
  },
  {
   "cell_type": "markdown",
   "id": "f4ecdadd-1b83-4da1-8e67-f2078231bceb",
   "metadata": {},
   "source": [
    "## Escolher o número de componentes\n",
    "\n",
    "se o scree plot apresentar autovalores com valores similares, concluímos que os nossos dados já esrtão projetados em um bom espaćo e não precisamos transforma-los.\n",
    "\n",
    "Vamos incorporar o PCA em nossa pipeline"
   ]
  },
  {
   "cell_type": "markdown",
   "id": "740d83d0-40b0-4c6d-a5bf-7256df3a77c0",
   "metadata": {},
   "source": [
    "## PCA in a pipeline"
   ]
  },
  {
   "cell_type": "code",
   "execution_count": 16,
   "id": "e35b747b-e971-4fd4-8be3-db3d4ca54874",
   "metadata": {},
   "outputs": [],
   "source": [
    "# make classification metrics function\n",
    "\n",
    "# import classification metrics\n",
    "from sklearn.metrics import classification_report, ConfusionMatrixDisplay\n",
    "\n",
    "#classification metrics function\n",
    "def classification_metrics(estimator, X_train, X_test, y_train, y_test):\n",
    "    '''\n",
    "    this function returns classification metrics\n",
    "    '''\n",
    "    \n",
    "    # train metrics\n",
    "    print(\"\\nTrain Metrics:\")\n",
    "    \n",
    "    y_pred_train = estimator.predict(X_train)\n",
    "    \n",
    "    # make confusion matrix\n",
    "    ConfusionMatrixDisplay.from_predictions(y_train, y_pred_train)\n",
    "    plt.show();\n",
    "    \n",
    "    # make classification report\n",
    "    print(classification_report(y_train, y_pred_train))\n",
    "    \n",
    "    # test metrics\n",
    "    print(\"\\n Test Metrics:\")\n",
    "    y_pred_test = estimator.predict(X_test)\n",
    "    \n",
    "    # make confusion matrix\n",
    "    ConfusionMatrixDisplay.from_predictions(y_test, y_pred_test)\n",
    "    plt.show();\n",
    "    \n",
    "    # make classification report\n",
    "    print(classification_report(y_test, y_pred_test))\n",
    "    "
   ]
  },
  {
   "cell_type": "code",
   "execution_count": 17,
   "id": "35dfca85-12d9-4121-9c1e-0eb64f2a2add",
   "metadata": {},
   "outputs": [],
   "source": [
    "# import sklearn modules\n",
    "from sklearn.pipeline import Pipeline\n",
    "from sklearn.linear_model import LogisticRegression"
   ]
  },
  {
   "cell_type": "code",
   "execution_count": 18,
   "id": "bba58cd3-203f-484a-94bc-a6cdde68e946",
   "metadata": {},
   "outputs": [
    {
     "name": "stdout",
     "output_type": "stream",
     "text": [
      "\n",
      "Train Metrics:\n"
     ]
    },
    {
     "data": {
      "image/png": "[encoded data removed]",
      "text/plain": [
       "<Figure size 432x288 with 2 Axes>"
      ]
     },
     "metadata": {
      "needs_background": "light"
     },
     "output_type": "display_data"
    },
    {
     "name": "stdout",
     "output_type": "stream",
     "text": [
      "              precision    recall  f1-score   support\n",
      "\n",
      "           0       1.00      1.00      1.00        40\n",
      "           1       0.97      0.95      0.96        40\n",
      "           2       0.95      0.97      0.96        40\n",
      "\n",
      "    accuracy                           0.97       120\n",
      "   macro avg       0.98      0.97      0.97       120\n",
      "weighted avg       0.98      0.97      0.97       120\n",
      "\n",
      "\n",
      " Test Metrics:\n"
     ]
    },
    {
     "data": {
      "image/png": "[encoded data removed]",
      "text/plain": [
       "<Figure size 432x288 with 2 Axes>"
      ]
     },
     "metadata": {
      "needs_background": "light"
     },
     "output_type": "display_data"
    },
    {
     "name": "stdout",
     "output_type": "stream",
     "text": [
      "              precision    recall  f1-score   support\n",
      "\n",
      "           0       1.00      1.00      1.00        10\n",
      "           1       1.00      0.90      0.95        10\n",
      "           2       0.91      1.00      0.95        10\n",
      "\n",
      "    accuracy                           0.97        30\n",
      "   macro avg       0.97      0.97      0.97        30\n",
      "weighted avg       0.97      0.97      0.97        30\n",
      "\n"
     ]
    }
   ],
   "source": [
    "# LogisticRegression pipeline\n",
    "pipeline = Pipeline([\n",
    "    ('model', LogisticRegression(random_state=42))\n",
    "])\n",
    "\n",
    "#fit do pipe no treino e teste\n",
    "pipeline.fit(X_train, y_train)\n",
    "\n",
    "# print classification metrics\n",
    "classification_metrics(pipeline, X_train, X_test, y_train, y_test)"
   ]
  },
  {
   "cell_type": "markdown",
   "id": "988f0f83-9abb-46a1-9fae-861c74c739f8",
   "metadata": {},
   "source": [
    "Comparando com 2 componentes"
   ]
  },
  {
   "cell_type": "code",
   "execution_count": 19,
   "id": "3105bdd8-67d2-423e-a8e8-e42ec378715e",
   "metadata": {},
   "outputs": [
    {
     "name": "stdout",
     "output_type": "stream",
     "text": [
      "\n",
      "Train Metrics:\n"
     ]
    },
    {
     "data": {
      "image/png": "[encoded data removed]",
      "text/plain": [
       "<Figure size 432x288 with 2 Axes>"
      ]
     },
     "metadata": {
      "needs_background": "light"
     },
     "output_type": "display_data"
    },
    {
     "name": "stdout",
     "output_type": "stream",
     "text": [
      "              precision    recall  f1-score   support\n",
      "\n",
      "           0       1.00      1.00      1.00        40\n",
      "           1       0.92      0.88      0.90        40\n",
      "           2       0.88      0.93      0.90        40\n",
      "\n",
      "    accuracy                           0.93       120\n",
      "   macro avg       0.93      0.93      0.93       120\n",
      "weighted avg       0.93      0.93      0.93       120\n",
      "\n",
      "\n",
      " Test Metrics:\n"
     ]
    },
    {
     "data": {
      "image/png": "[encoded data removed]",
      "text/plain": [
       "<Figure size 432x288 with 2 Axes>"
      ]
     },
     "metadata": {
      "needs_background": "light"
     },
     "output_type": "display_data"
    },
    {
     "name": "stdout",
     "output_type": "stream",
     "text": [
      "              precision    recall  f1-score   support\n",
      "\n",
      "           0       1.00      1.00      1.00        10\n",
      "           1       0.82      0.90      0.86        10\n",
      "           2       0.89      0.80      0.84        10\n",
      "\n",
      "    accuracy                           0.90        30\n",
      "   macro avg       0.90      0.90      0.90        30\n",
      "weighted avg       0.90      0.90      0.90        30\n",
      "\n"
     ]
    }
   ],
   "source": [
    "# pipeline with 2 components\n",
    "pipeline2 = Pipeline([\n",
    "    ('scaler', StandardScaler()),\n",
    "    ('pca', PCA(n_components=2)),\n",
    "    ('model', LogisticRegression(random_state=42))\n",
    "])\n",
    "\n",
    "# fit pipeline2\n",
    "pipeline2.fit(X_train, y_train)\n",
    "\n",
    "# print classification metrics\n",
    "classification_metrics(pipeline2, X_train, X_test, y_train, y_test)"
   ]
  },
  {
   "cell_type": "code",
   "execution_count": 20,
   "id": "9f869844-86ec-483a-ac7e-b72f02fab48b",
   "metadata": {},
   "outputs": [
    {
     "data": {
      "text/plain": [
       "{'memory': None,\n",
       " 'steps': [('scaler', StandardScaler()),\n",
       "  ('pca', PCA(n_components=2)),\n",
       "  ('model', LogisticRegression(random_state=42))],\n",
       " 'verbose': False,\n",
       " 'scaler': StandardScaler(),\n",
       " 'pca': PCA(n_components=2),\n",
       " 'model': LogisticRegression(random_state=42),\n",
       " 'scaler__copy': True,\n",
       " 'scaler__with_mean': True,\n",
       " 'scaler__with_std': True,\n",
       " 'pca__copy': True,\n",
       " 'pca__iterated_power': 'auto',\n",
       " 'pca__n_components': 2,\n",
       " 'pca__n_oversamples': 10,\n",
       " 'pca__power_iteration_normalizer': 'auto',\n",
       " 'pca__random_state': None,\n",
       " 'pca__svd_solver': 'auto',\n",
       " 'pca__tol': 0.0,\n",
       " 'pca__whiten': False,\n",
       " 'model__C': 1.0,\n",
       " 'model__class_weight': None,\n",
       " 'model__dual': False,\n",
       " 'model__fit_intercept': True,\n",
       " 'model__intercept_scaling': 1,\n",
       " 'model__l1_ratio': None,\n",
       " 'model__max_iter': 100,\n",
       " 'model__multi_class': 'auto',\n",
       " 'model__n_jobs': None,\n",
       " 'model__penalty': 'l2',\n",
       " 'model__random_state': 42,\n",
       " 'model__solver': 'lbfgs',\n",
       " 'model__tol': 0.0001,\n",
       " 'model__verbose': 0,\n",
       " 'model__warm_start': False}"
      ]
     },
     "execution_count": 20,
     "metadata": {},
     "output_type": "execute_result"
    }
   ],
   "source": [
    "pipeline2.get_params()"
   ]
  },
  {
   "cell_type": "code",
   "execution_count": 21,
   "id": "53383d9c-b336-41ca-b733-a0e3d58f3807",
   "metadata": {},
   "outputs": [
    {
     "data": {
      "text/plain": [
       "2"
      ]
     },
     "execution_count": 21,
     "metadata": {},
     "output_type": "execute_result"
    }
   ],
   "source": [
    "pipeline2['pca'].n_components_"
   ]
  },
  {
   "cell_type": "markdown",
   "id": "232f37ab-eb89-4c05-b7a2-0ac61a7da5c3",
   "metadata": {},
   "source": [
    "## Working with MNIST\n",
    "\n",
    "[MNIST](https://www.kaggle.com/c/digit-recognizer/data) is a database with 42k (28 x 28 px)  handwritten digits from 0 to 9. For each image there are **28² = 784 px** that can be represented in a features matrix. $$X(42000, 784)$$\n",
    "Each pixel is represented as a distinct feature and has a values between 0(white) and 255(black).\n",
    "\n",
    "The target is a vector in wich the components are integers from 0 to 9  that represents the handwritten digits."
   ]
  },
  {
   "cell_type": "code",
   "execution_count": 22,
   "id": "0c4d6f79-dede-4a64-9786-b23520fa2074",
   "metadata": {},
   "outputs": [],
   "source": [
    "# import basic libraries\n",
    "import random, itertools\n",
    "random.seed=42"
   ]
  },
  {
   "cell_type": "code",
   "execution_count": 30,
   "id": "3b875ce5-e418-42bf-9a49-7d6c67866227",
   "metadata": {},
   "outputs": [],
   "source": [
    "# read dataset\n",
    "train = pd.read_csv('./data/mnist_train.csv')\n",
    "\n",
    "# determine target and features\n",
    "y = train['label']\n",
    "X = train.drop(\"label\", axis='columns')\n",
    "\n",
    "# apply train test split\n",
    "X_train, X_test, y_train, y_test = train_test_split(X, y, test_size=0.2, random_state=42)"
   ]
  },
  {
   "cell_type": "code",
   "execution_count": 31,
   "id": "529f52f2-4ca2-4f08-84a1-4e5ea13cd34d",
   "metadata": {},
   "outputs": [
    {
     "data": {
      "text/html": [
       "<div>\n",
       "<style scoped>\n",
       "    .dataframe tbody tr th:only-of-type {\n",
       "        vertical-align: middle;\n",
       "    }\n",
       "\n",
       "    .dataframe tbody tr th {\n",
       "        vertical-align: top;\n",
       "    }\n",
       "\n",
       "    .dataframe thead th {\n",
       "        text-align: right;\n",
       "    }\n",
       "</style>\n",
       "<table border=\"1\" class=\"dataframe\">\n",
       "  <thead>\n",
       "    <tr style=\"text-align: right;\">\n",
       "      <th></th>\n",
       "      <th>label</th>\n",
       "      <th>pixel0</th>\n",
       "      <th>pixel1</th>\n",
       "      <th>pixel2</th>\n",
       "      <th>pixel3</th>\n",
       "      <th>pixel4</th>\n",
       "      <th>pixel5</th>\n",
       "      <th>pixel6</th>\n",
       "      <th>pixel7</th>\n",
       "      <th>pixel8</th>\n",
       "      <th>...</th>\n",
       "      <th>pixel774</th>\n",
       "      <th>pixel775</th>\n",
       "      <th>pixel776</th>\n",
       "      <th>pixel777</th>\n",
       "      <th>pixel778</th>\n",
       "      <th>pixel779</th>\n",
       "      <th>pixel780</th>\n",
       "      <th>pixel781</th>\n",
       "      <th>pixel782</th>\n",
       "      <th>pixel783</th>\n",
       "    </tr>\n",
       "  </thead>\n",
       "  <tbody>\n",
       "    <tr>\n",
       "      <th>0</th>\n",
       "      <td>1</td>\n",
       "      <td>0</td>\n",
       "      <td>0</td>\n",
       "      <td>0</td>\n",
       "      <td>0</td>\n",
       "      <td>0</td>\n",
       "      <td>0</td>\n",
       "      <td>0</td>\n",
       "      <td>0</td>\n",
       "      <td>0</td>\n",
       "      <td>...</td>\n",
       "      <td>0</td>\n",
       "      <td>0</td>\n",
       "      <td>0</td>\n",
       "      <td>0</td>\n",
       "      <td>0</td>\n",
       "      <td>0</td>\n",
       "      <td>0</td>\n",
       "      <td>0</td>\n",
       "      <td>0</td>\n",
       "      <td>0</td>\n",
       "    </tr>\n",
       "    <tr>\n",
       "      <th>1</th>\n",
       "      <td>0</td>\n",
       "      <td>0</td>\n",
       "      <td>0</td>\n",
       "      <td>0</td>\n",
       "      <td>0</td>\n",
       "      <td>0</td>\n",
       "      <td>0</td>\n",
       "      <td>0</td>\n",
       "      <td>0</td>\n",
       "      <td>0</td>\n",
       "      <td>...</td>\n",
       "      <td>0</td>\n",
       "      <td>0</td>\n",
       "      <td>0</td>\n",
       "      <td>0</td>\n",
       "      <td>0</td>\n",
       "      <td>0</td>\n",
       "      <td>0</td>\n",
       "      <td>0</td>\n",
       "      <td>0</td>\n",
       "      <td>0</td>\n",
       "    </tr>\n",
       "    <tr>\n",
       "      <th>2</th>\n",
       "      <td>1</td>\n",
       "      <td>0</td>\n",
       "      <td>0</td>\n",
       "      <td>0</td>\n",
       "      <td>0</td>\n",
       "      <td>0</td>\n",
       "      <td>0</td>\n",
       "      <td>0</td>\n",
       "      <td>0</td>\n",
       "      <td>0</td>\n",
       "      <td>...</td>\n",
       "      <td>0</td>\n",
       "      <td>0</td>\n",
       "      <td>0</td>\n",
       "      <td>0</td>\n",
       "      <td>0</td>\n",
       "      <td>0</td>\n",
       "      <td>0</td>\n",
       "      <td>0</td>\n",
       "      <td>0</td>\n",
       "      <td>0</td>\n",
       "    </tr>\n",
       "    <tr>\n",
       "      <th>3</th>\n",
       "      <td>4</td>\n",
       "      <td>0</td>\n",
       "      <td>0</td>\n",
       "      <td>0</td>\n",
       "      <td>0</td>\n",
       "      <td>0</td>\n",
       "      <td>0</td>\n",
       "      <td>0</td>\n",
       "      <td>0</td>\n",
       "      <td>0</td>\n",
       "      <td>...</td>\n",
       "      <td>0</td>\n",
       "      <td>0</td>\n",
       "      <td>0</td>\n",
       "      <td>0</td>\n",
       "      <td>0</td>\n",
       "      <td>0</td>\n",
       "      <td>0</td>\n",
       "      <td>0</td>\n",
       "      <td>0</td>\n",
       "      <td>0</td>\n",
       "    </tr>\n",
       "    <tr>\n",
       "      <th>4</th>\n",
       "      <td>0</td>\n",
       "      <td>0</td>\n",
       "      <td>0</td>\n",
       "      <td>0</td>\n",
       "      <td>0</td>\n",
       "      <td>0</td>\n",
       "      <td>0</td>\n",
       "      <td>0</td>\n",
       "      <td>0</td>\n",
       "      <td>0</td>\n",
       "      <td>...</td>\n",
       "      <td>0</td>\n",
       "      <td>0</td>\n",
       "      <td>0</td>\n",
       "      <td>0</td>\n",
       "      <td>0</td>\n",
       "      <td>0</td>\n",
       "      <td>0</td>\n",
       "      <td>0</td>\n",
       "      <td>0</td>\n",
       "      <td>0</td>\n",
       "    </tr>\n",
       "  </tbody>\n",
       "</table>\n",
       "<p>5 rows × 785 columns</p>\n",
       "</div>"
      ],
      "text/plain": [
       "   label  pixel0  pixel1  pixel2  pixel3  pixel4  pixel5  pixel6  pixel7  \\\n",
       "0      1       0       0       0       0       0       0       0       0   \n",
       "1      0       0       0       0       0       0       0       0       0   \n",
       "2      1       0       0       0       0       0       0       0       0   \n",
       "3      4       0       0       0       0       0       0       0       0   \n",
       "4      0       0       0       0       0       0       0       0       0   \n",
       "\n",
       "   pixel8  ...  pixel774  pixel775  pixel776  pixel777  pixel778  pixel779  \\\n",
       "0       0  ...         0         0         0         0         0         0   \n",
       "1       0  ...         0         0         0         0         0         0   \n",
       "2       0  ...         0         0         0         0         0         0   \n",
       "3       0  ...         0         0         0         0         0         0   \n",
       "4       0  ...         0         0         0         0         0         0   \n",
       "\n",
       "   pixel780  pixel781  pixel782  pixel783  \n",
       "0         0         0         0         0  \n",
       "1         0         0         0         0  \n",
       "2         0         0         0         0  \n",
       "3         0         0         0         0  \n",
       "4         0         0         0         0  \n",
       "\n",
       "[5 rows x 785 columns]"
      ]
     },
     "execution_count": 31,
     "metadata": {},
     "output_type": "execute_result"
    }
   ],
   "source": [
    "train.head()"
   ]
  },
  {
   "cell_type": "code",
   "execution_count": 32,
   "id": "983f4766-5e8f-4f74-bb3c-e8ec53390526",
   "metadata": {},
   "outputs": [
    {
     "data": {
      "text/plain": [
       "34941    6\n",
       "24433    5\n",
       "24432    3\n",
       "8832     4\n",
       "30291    7\n",
       "        ..\n",
       "6265     9\n",
       "11284    9\n",
       "38158    2\n",
       "860      6\n",
       "15795    0\n",
       "Name: label, Length: 33600, dtype: int64"
      ]
     },
     "execution_count": 32,
     "metadata": {},
     "output_type": "execute_result"
    }
   ],
   "source": [
    "y_train"
   ]
  },
  {
   "cell_type": "code",
   "execution_count": 33,
   "id": "3eed13cb-1583-4aab-b5a3-037cf17e7fa5",
   "metadata": {},
   "outputs": [
    {
     "data": {
      "text/html": [
       "<div>\n",
       "<style scoped>\n",
       "    .dataframe tbody tr th:only-of-type {\n",
       "        vertical-align: middle;\n",
       "    }\n",
       "\n",
       "    .dataframe tbody tr th {\n",
       "        vertical-align: top;\n",
       "    }\n",
       "\n",
       "    .dataframe thead th {\n",
       "        text-align: right;\n",
       "    }\n",
       "</style>\n",
       "<table border=\"1\" class=\"dataframe\">\n",
       "  <thead>\n",
       "    <tr style=\"text-align: right;\">\n",
       "      <th></th>\n",
       "      <th>pixel0</th>\n",
       "      <th>pixel1</th>\n",
       "      <th>pixel2</th>\n",
       "      <th>pixel3</th>\n",
       "      <th>pixel4</th>\n",
       "      <th>pixel5</th>\n",
       "      <th>pixel6</th>\n",
       "      <th>pixel7</th>\n",
       "      <th>pixel8</th>\n",
       "      <th>pixel9</th>\n",
       "      <th>...</th>\n",
       "      <th>pixel774</th>\n",
       "      <th>pixel775</th>\n",
       "      <th>pixel776</th>\n",
       "      <th>pixel777</th>\n",
       "      <th>pixel778</th>\n",
       "      <th>pixel779</th>\n",
       "      <th>pixel780</th>\n",
       "      <th>pixel781</th>\n",
       "      <th>pixel782</th>\n",
       "      <th>pixel783</th>\n",
       "    </tr>\n",
       "  </thead>\n",
       "  <tbody>\n",
       "    <tr>\n",
       "      <th>count</th>\n",
       "      <td>33600.0</td>\n",
       "      <td>33600.0</td>\n",
       "      <td>33600.0</td>\n",
       "      <td>33600.0</td>\n",
       "      <td>33600.0</td>\n",
       "      <td>33600.0</td>\n",
       "      <td>33600.0</td>\n",
       "      <td>33600.0</td>\n",
       "      <td>33600.0</td>\n",
       "      <td>33600.0</td>\n",
       "      <td>...</td>\n",
       "      <td>33600.000000</td>\n",
       "      <td>33600.000000</td>\n",
       "      <td>33600.000000</td>\n",
       "      <td>33600.000000</td>\n",
       "      <td>33600.000000</td>\n",
       "      <td>33600.000000</td>\n",
       "      <td>33600.0</td>\n",
       "      <td>33600.0</td>\n",
       "      <td>33600.0</td>\n",
       "      <td>33600.0</td>\n",
       "    </tr>\n",
       "    <tr>\n",
       "      <th>mean</th>\n",
       "      <td>0.0</td>\n",
       "      <td>0.0</td>\n",
       "      <td>0.0</td>\n",
       "      <td>0.0</td>\n",
       "      <td>0.0</td>\n",
       "      <td>0.0</td>\n",
       "      <td>0.0</td>\n",
       "      <td>0.0</td>\n",
       "      <td>0.0</td>\n",
       "      <td>0.0</td>\n",
       "      <td>...</td>\n",
       "      <td>0.232589</td>\n",
       "      <td>0.123899</td>\n",
       "      <td>0.066042</td>\n",
       "      <td>0.025238</td>\n",
       "      <td>0.021548</td>\n",
       "      <td>0.003571</td>\n",
       "      <td>0.0</td>\n",
       "      <td>0.0</td>\n",
       "      <td>0.0</td>\n",
       "      <td>0.0</td>\n",
       "    </tr>\n",
       "    <tr>\n",
       "      <th>std</th>\n",
       "      <td>0.0</td>\n",
       "      <td>0.0</td>\n",
       "      <td>0.0</td>\n",
       "      <td>0.0</td>\n",
       "      <td>0.0</td>\n",
       "      <td>0.0</td>\n",
       "      <td>0.0</td>\n",
       "      <td>0.0</td>\n",
       "      <td>0.0</td>\n",
       "      <td>0.0</td>\n",
       "      <td>...</td>\n",
       "      <td>6.689593</td>\n",
       "      <td>4.625719</td>\n",
       "      <td>3.520927</td>\n",
       "      <td>1.967568</td>\n",
       "      <td>2.118097</td>\n",
       "      <td>0.463160</td>\n",
       "      <td>0.0</td>\n",
       "      <td>0.0</td>\n",
       "      <td>0.0</td>\n",
       "      <td>0.0</td>\n",
       "    </tr>\n",
       "    <tr>\n",
       "      <th>min</th>\n",
       "      <td>0.0</td>\n",
       "      <td>0.0</td>\n",
       "      <td>0.0</td>\n",
       "      <td>0.0</td>\n",
       "      <td>0.0</td>\n",
       "      <td>0.0</td>\n",
       "      <td>0.0</td>\n",
       "      <td>0.0</td>\n",
       "      <td>0.0</td>\n",
       "      <td>0.0</td>\n",
       "      <td>...</td>\n",
       "      <td>0.000000</td>\n",
       "      <td>0.000000</td>\n",
       "      <td>0.000000</td>\n",
       "      <td>0.000000</td>\n",
       "      <td>0.000000</td>\n",
       "      <td>0.000000</td>\n",
       "      <td>0.0</td>\n",
       "      <td>0.0</td>\n",
       "      <td>0.0</td>\n",
       "      <td>0.0</td>\n",
       "    </tr>\n",
       "    <tr>\n",
       "      <th>25%</th>\n",
       "      <td>0.0</td>\n",
       "      <td>0.0</td>\n",
       "      <td>0.0</td>\n",
       "      <td>0.0</td>\n",
       "      <td>0.0</td>\n",
       "      <td>0.0</td>\n",
       "      <td>0.0</td>\n",
       "      <td>0.0</td>\n",
       "      <td>0.0</td>\n",
       "      <td>0.0</td>\n",
       "      <td>...</td>\n",
       "      <td>0.000000</td>\n",
       "      <td>0.000000</td>\n",
       "      <td>0.000000</td>\n",
       "      <td>0.000000</td>\n",
       "      <td>0.000000</td>\n",
       "      <td>0.000000</td>\n",
       "      <td>0.0</td>\n",
       "      <td>0.0</td>\n",
       "      <td>0.0</td>\n",
       "      <td>0.0</td>\n",
       "    </tr>\n",
       "    <tr>\n",
       "      <th>50%</th>\n",
       "      <td>0.0</td>\n",
       "      <td>0.0</td>\n",
       "      <td>0.0</td>\n",
       "      <td>0.0</td>\n",
       "      <td>0.0</td>\n",
       "      <td>0.0</td>\n",
       "      <td>0.0</td>\n",
       "      <td>0.0</td>\n",
       "      <td>0.0</td>\n",
       "      <td>0.0</td>\n",
       "      <td>...</td>\n",
       "      <td>0.000000</td>\n",
       "      <td>0.000000</td>\n",
       "      <td>0.000000</td>\n",
       "      <td>0.000000</td>\n",
       "      <td>0.000000</td>\n",
       "      <td>0.000000</td>\n",
       "      <td>0.0</td>\n",
       "      <td>0.0</td>\n",
       "      <td>0.0</td>\n",
       "      <td>0.0</td>\n",
       "    </tr>\n",
       "    <tr>\n",
       "      <th>75%</th>\n",
       "      <td>0.0</td>\n",
       "      <td>0.0</td>\n",
       "      <td>0.0</td>\n",
       "      <td>0.0</td>\n",
       "      <td>0.0</td>\n",
       "      <td>0.0</td>\n",
       "      <td>0.0</td>\n",
       "      <td>0.0</td>\n",
       "      <td>0.0</td>\n",
       "      <td>0.0</td>\n",
       "      <td>...</td>\n",
       "      <td>0.000000</td>\n",
       "      <td>0.000000</td>\n",
       "      <td>0.000000</td>\n",
       "      <td>0.000000</td>\n",
       "      <td>0.000000</td>\n",
       "      <td>0.000000</td>\n",
       "      <td>0.0</td>\n",
       "      <td>0.0</td>\n",
       "      <td>0.0</td>\n",
       "      <td>0.0</td>\n",
       "    </tr>\n",
       "    <tr>\n",
       "      <th>max</th>\n",
       "      <td>0.0</td>\n",
       "      <td>0.0</td>\n",
       "      <td>0.0</td>\n",
       "      <td>0.0</td>\n",
       "      <td>0.0</td>\n",
       "      <td>0.0</td>\n",
       "      <td>0.0</td>\n",
       "      <td>0.0</td>\n",
       "      <td>0.0</td>\n",
       "      <td>0.0</td>\n",
       "      <td>...</td>\n",
       "      <td>254.000000</td>\n",
       "      <td>254.000000</td>\n",
       "      <td>253.000000</td>\n",
       "      <td>253.000000</td>\n",
       "      <td>254.000000</td>\n",
       "      <td>62.000000</td>\n",
       "      <td>0.0</td>\n",
       "      <td>0.0</td>\n",
       "      <td>0.0</td>\n",
       "      <td>0.0</td>\n",
       "    </tr>\n",
       "  </tbody>\n",
       "</table>\n",
       "<p>8 rows × 784 columns</p>\n",
       "</div>"
      ],
      "text/plain": [
       "        pixel0   pixel1   pixel2   pixel3   pixel4   pixel5   pixel6   pixel7  \\\n",
       "count  33600.0  33600.0  33600.0  33600.0  33600.0  33600.0  33600.0  33600.0   \n",
       "mean       0.0      0.0      0.0      0.0      0.0      0.0      0.0      0.0   \n",
       "std        0.0      0.0      0.0      0.0      0.0      0.0      0.0      0.0   \n",
       "min        0.0      0.0      0.0      0.0      0.0      0.0      0.0      0.0   \n",
       "25%        0.0      0.0      0.0      0.0      0.0      0.0      0.0      0.0   \n",
       "50%        0.0      0.0      0.0      0.0      0.0      0.0      0.0      0.0   \n",
       "75%        0.0      0.0      0.0      0.0      0.0      0.0      0.0      0.0   \n",
       "max        0.0      0.0      0.0      0.0      0.0      0.0      0.0      0.0   \n",
       "\n",
       "        pixel8   pixel9  ...      pixel774      pixel775      pixel776  \\\n",
       "count  33600.0  33600.0  ...  33600.000000  33600.000000  33600.000000   \n",
       "mean       0.0      0.0  ...      0.232589      0.123899      0.066042   \n",
       "std        0.0      0.0  ...      6.689593      4.625719      3.520927   \n",
       "min        0.0      0.0  ...      0.000000      0.000000      0.000000   \n",
       "25%        0.0      0.0  ...      0.000000      0.000000      0.000000   \n",
       "50%        0.0      0.0  ...      0.000000      0.000000      0.000000   \n",
       "75%        0.0      0.0  ...      0.000000      0.000000      0.000000   \n",
       "max        0.0      0.0  ...    254.000000    254.000000    253.000000   \n",
       "\n",
       "           pixel777      pixel778      pixel779  pixel780  pixel781  pixel782  \\\n",
       "count  33600.000000  33600.000000  33600.000000   33600.0   33600.0   33600.0   \n",
       "mean       0.025238      0.021548      0.003571       0.0       0.0       0.0   \n",
       "std        1.967568      2.118097      0.463160       0.0       0.0       0.0   \n",
       "min        0.000000      0.000000      0.000000       0.0       0.0       0.0   \n",
       "25%        0.000000      0.000000      0.000000       0.0       0.0       0.0   \n",
       "50%        0.000000      0.000000      0.000000       0.0       0.0       0.0   \n",
       "75%        0.000000      0.000000      0.000000       0.0       0.0       0.0   \n",
       "max      253.000000    254.000000     62.000000       0.0       0.0       0.0   \n",
       "\n",
       "       pixel783  \n",
       "count   33600.0  \n",
       "mean        0.0  \n",
       "std         0.0  \n",
       "min         0.0  \n",
       "25%         0.0  \n",
       "50%         0.0  \n",
       "75%         0.0  \n",
       "max         0.0  \n",
       "\n",
       "[8 rows x 784 columns]"
      ]
     },
     "execution_count": 33,
     "metadata": {},
     "output_type": "execute_result"
    }
   ],
   "source": [
    "X_train.describe()"
   ]
  },
  {
   "cell_type": "markdown",
   "id": "50e72990-1c82-4207-888c-d17c32621c58",
   "metadata": {},
   "source": [
    "### Applying PCA - dimensionality reduction to MNIST"
   ]
  },
  {
   "cell_type": "code",
   "execution_count": 36,
   "id": "df07acee-7f36-4b74-99ef-ccf10aa52b45",
   "metadata": {},
   "outputs": [],
   "source": [
    "# instantiate PCA and StandardScaler\n",
    "pca = PCA()\n",
    "scaler = StandardScaler()\n",
    "\n",
    "# apply scaler\n",
    "X_scaled = scaler.fit_transform(X_train)\n",
    "\n",
    "# fit pca\n",
    "pca.fit(X_scaled)\n",
    "\n",
    "# make accumulated variance increment in %\n",
    "accumulated_sum = pca.explained_variance_ratio_.cumsum()*100"
   ]
  },
  {
   "cell_type": "code",
   "execution_count": 44,
   "id": "dbf4768d-9cc6-4025-9774-7f334f933609",
   "metadata": {
    "tags": []
   },
   "outputs": [
    {
     "data": {
      "image/png": "[encoded data removed]",
      "text/plain": [
       "<Figure size 576x288 with 1 Axes>"
      ]
     },
     "metadata": {
      "needs_background": "light"
     },
     "output_type": "display_data"
    }
   ],
   "source": [
    "import matplotlib.ticker as ticker\n",
    "\n",
    "# make labels for x axis\n",
    "labels = [f'PC_{i+1}' for i in range(pca.n_components_)]\n",
    "\n",
    "# define explained variance threshold\n",
    "threshold=70\n",
    "\n",
    "# number of features necessary to achieve threshold\n",
    "number_of_features = list(accumulated_sum >= threshold).index(True)\n",
    "\n",
    "# make plot space\n",
    "fig, ax = plt.subplots(1,1,figsize=(8,4))\n",
    "\n",
    "# plot accumulated sum\n",
    "ax.plot(labels, accumulated_sum)\n",
    "\n",
    "# plot horizontal axis with variance threshold\n",
    "ax.axhline(y=threshold, color='black', linestyle=\"--\", linewidth=1)\n",
    "\n",
    "# plot vertical axis with the number of necessary features to reach the threshold\n",
    "ax.axvline(x=number_of_features, color='black', linestyle=\"--\", linewidth=1)\n",
    "\n",
    "# sex sticker to x axis\n",
    "xticks_index = np.arange(0, X.shape[0+1], 100)\n",
    "ax.xaxis.set_major_locator(ticker.FixedLocator(xticks_index))\n",
    "\n",
    "# set title and axis titles\n",
    "ax.set_title(f'Number of features necessary to reach {threshold}% variance threshold: {number_of_features}')\n",
    "ax.set_xlabel('Independent variables'), plt.ylabel('% variance explained')\n",
    "plt.show()"
   ]
  },
  {
   "cell_type": "code",
   "execution_count": 52,
   "id": "9bedb035-5cde-45fd-96fa-394aee9103d2",
   "metadata": {},
   "outputs": [],
   "source": [
    "# apply pca with n_features=0.7\n",
    "pca=PCA(n_components=number_of_features)\n",
    "\n",
    "# make new dataframe with PC data\n",
    "X_pca = pca.fit_transform(X_scaled)"
   ]
  },
  {
   "cell_type": "markdown",
   "id": "6997e05b-dbdd-4cd8-ab05-51a4feecdd36",
   "metadata": {},
   "source": [
    "Remaking images with principal components (PC)"
   ]
  },
  {
   "cell_type": "code",
   "execution_count": 65,
   "id": "5f9c095f-4e57-4523-8f85-670f0a0072c1",
   "metadata": {},
   "outputs": [
    {
     "data": {
      "image/png": "[encoded data removed]",
      "text/plain": [
       "<Figure size 1152x288 with 20 Axes>"
      ]
     },
     "metadata": {
      "needs_background": "light"
     },
     "output_type": "display_data"
    }
   ],
   "source": [
    "# make X_train and y_train as numpy arrays\n",
    "X_array = np.array(X_scaled)\n",
    "y_array = np.array(y_train)\n",
    "\n",
    "# make figure space\n",
    "fig, ax = plt.subplots(2, 10, sharex=True, sharey=True, figsize=(16,4))\n",
    "\n",
    "# remove axis values\n",
    "[i.set_axis_off() for i in fig.axes]\n",
    "\n",
    "# make titles\n",
    "plt.text(0, 1.2, \"base original\",\n",
    "        fontdict=None, transform=ax[0,0].transAxes)\n",
    "\n",
    "# plot original images\n",
    "[ax[0,j].imshow(X_array[n].reshape(28,28),\n",
    "               ) for j, n in enumerate([list(y_array==k).index(True) for k in range(10)])]\n",
    "\n",
    "# make titles\n",
    "plt.text(1, 1.2, f\"After PCA - dimensiality reduction with {number_of_features} PCs\",\n",
    "        fontdict=None, transform=ax[1,0].transAxes)\n",
    "\n",
    "# plot images after PCA\n",
    "[ax[1,j].imshow(\n",
    "    pca.inverse_transform(X_pca[n]).reshape(28,28)) for j, n in enumerate([list(y_array==k).index(True) for k in range(10)])]\n",
    "plt.show;"
   ]
  },
  {
   "cell_type": "markdown",
   "id": "a0902589-743d-43b1-b79a-d05183c48145",
   "metadata": {},
   "source": [
    "It's easy to see that the resulting images have lower sharpness but it is still possible to visualize every number.\n",
    "\n",
    "Now let's apply this knowledge in a pipeline"
   ]
  },
  {
   "cell_type": "code",
   "execution_count": 67,
   "id": "0fe2288b-c880-4568-8eca-44a7f51e3ed1",
   "metadata": {},
   "outputs": [
    {
     "name": "stdout",
     "output_type": "stream",
     "text": [
      "\n",
      "Train Metrics:\n"
     ]
    },
    {
     "data": {
      "image/png": "[encoded data removed]",
      "text/plain": [
       "<Figure size 432x288 with 2 Axes>"
      ]
     },
     "metadata": {
      "needs_background": "light"
     },
     "output_type": "display_data"
    },
    {
     "name": "stdout",
     "output_type": "stream",
     "text": [
      "              precision    recall  f1-score   support\n",
      "\n",
      "           0       1.00      1.00      1.00      3316\n",
      "           1       1.00      1.00      1.00      3775\n",
      "           2       1.00      1.00      1.00      3331\n",
      "           3       1.00      1.00      1.00      3414\n",
      "           4       1.00      1.00      1.00      3233\n",
      "           5       1.00      1.00      1.00      3093\n",
      "           6       1.00      1.00      1.00      3352\n",
      "           7       1.00      1.00      1.00      3508\n",
      "           8       1.00      1.00      1.00      3228\n",
      "           9       1.00      1.00      1.00      3350\n",
      "\n",
      "    accuracy                           1.00     33600\n",
      "   macro avg       1.00      1.00      1.00     33600\n",
      "weighted avg       1.00      1.00      1.00     33600\n",
      "\n",
      "\n",
      " Test Metrics:\n"
     ]
    },
    {
     "data": {
      "image/png": "[encoded data removed]",
      "text/plain": [
       "<Figure size 432x288 with 2 Axes>"
      ]
     },
     "metadata": {
      "needs_background": "light"
     },
     "output_type": "display_data"
    },
    {
     "name": "stdout",
     "output_type": "stream",
     "text": [
      "              precision    recall  f1-score   support\n",
      "\n",
      "           0       0.96      0.97      0.96       816\n",
      "           1       0.98      0.98      0.98       909\n",
      "           2       0.92      0.94      0.93       846\n",
      "           3       0.91      0.92      0.92       937\n",
      "           4       0.94      0.94      0.94       839\n",
      "           5       0.91      0.90      0.91       702\n",
      "           6       0.95      0.97      0.96       785\n",
      "           7       0.94      0.93      0.94       893\n",
      "           8       0.93      0.90      0.92       835\n",
      "           9       0.92      0.90      0.91       838\n",
      "\n",
      "    accuracy                           0.94      8400\n",
      "   macro avg       0.94      0.94      0.94      8400\n",
      "weighted avg       0.94      0.94      0.94      8400\n",
      "\n"
     ]
    }
   ],
   "source": [
    "from sklearn.ensemble import RandomForestClassifier\n",
    "\n",
    "# make pre-processing pipeline (scaler, PCA)\n",
    "preprocessing = Pipeline([\n",
    "    ('scaler', StandardScaler()),\n",
    "    ('pca', PCA(n_components=222))\n",
    "])\n",
    "\n",
    "pipeline = Pipeline([\n",
    "    ('preprocessing', preprocessing),\n",
    "    ('model', RandomForestClassifier(random_state=42))\n",
    "])\n",
    "\n",
    "# fit features and target\n",
    "pipeline.fit(X_train, y_train)\n",
    "\n",
    "# print classification metrics\n",
    "classification_metrics(pipeline, X_train, X_test, y_train, y_test)"
   ]
  }
 ],
 "metadata": {
  "kernelspec": {
   "display_name": "Python 3 (ipykernel)",
   "language": "python",
   "name": "python3"
  },
  "language_info": {
   "codemirror_mode": {
    "name": "ipython",
    "version": 3
   },
   "file_extension": ".py",
   "mimetype": "text/x-python",
   "name": "python",
   "nbconvert_exporter": "python",
   "pygments_lexer": "ipython3",
   "version": "3.9.12"
  }
 },
 "nbformat": 4,
 "nbformat_minor": 5
}
