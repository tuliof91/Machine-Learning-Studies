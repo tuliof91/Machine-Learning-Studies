{
 "cells": [
  {
   "cell_type": "markdown",
   "metadata": {},
   "source": [
    "# KNN: K-Nearest Neighbors\n",
    "\n",
    "### Objectives:\n",
    "\n",
    "- Introduction to KNN concepts\n",
    "- KNN for regression and classification\n",
    "- Apply KNN\n",
    "- Advantages and disadvantages"
   ]
  },
  {
   "cell_type": "markdown",
   "metadata": {},
   "source": [
    "## Intuition\n",
    "What if you wanted to define an animal on the question mark, would you choose dog or horse?\n",
    "\n",
    "<img src=\"images/knn_intuição.png\"  style=\"width: 700px\" />\n",
    "\n",
    "KNN uses the same logic: choosing the closest kneighbor"
   ]
  },
  {
   "cell_type": "markdown",
   "metadata": {},
   "source": [
    "### How KNN works\n",
    "\n",
    "<img src=\"images/knn2.jpg\"  style=\"width: 700px\" text=\"https://cambridgecoding.wordpress.com/\" />"
   ]
  },
  {
   "cell_type": "markdown",
   "metadata": {},
   "source": [
    "### Questions: \n",
    "1. What if there's a new sample, how to define its class?\n",
    "2. What happens if there's 2 yellow and 2 green votes?\n",
    "3. What happens if there's 1 yellow, 1 orange and 1 green vote?\n",
    "4. How is the model's trainning and test made?\n",
    "5. What happens if we're working with big data?\n",
    "6. How does it work for a regression probelm?"
   ]
  },
  {
   "cell_type": "markdown",
   "metadata": {},
   "source": [
    "### 1D Regression"
   ]
  },
  {
   "cell_type": "markdown",
   "metadata": {},
   "source": [
    "<img src=\"images/knn_regressão0.png\" alt=\"Drawing\" style=\"width: 500px;\"/>\n",
    "<img src=\"images\\knn_regressão1.png\" alt=\"Drawing\" style=\"width: 500px;\"/>\n",
    "<img src=\"images\\knn_regressão3.png\" alt=\"Drawing\" style=\"width: 500px;\"/>\n",
    "<img src=\"images\\knn_regressão4.png\" alt=\"Drawing\" style=\"width: 500px;\"/>\n",
    "<img src=\"images\\knn_regressão5.png\" alt=\"Drawing\" style=\"width: 500px;\"/>\n",
    "<img src=\"images/knn_regressão.png\"  alt=\"Drawing\"  style=\"width: 500px\">"
   ]
  },
  {
   "cell_type": "markdown",
   "metadata": {},
   "source": [
    "### 2D Regression\n",
    "\n",
    "<img src=\"images/knn_regressão_x_classificação.png\"  style=\"width: 700px\" text=\"https://realpython.com/knn-python/\"/>"
   ]
  },
  {
   "cell_type": "markdown",
   "metadata": {
    "jp-MarkdownHeadingCollapsed": true,
    "tags": []
   },
   "source": [
    "KNN is an agorythm based on the distance between samples. It's basic premise is that similar observations are close to each other, while different observations are more distant.\n",
    "\n",
    "Many distance measures can be used to find the closest neighbors. Let's use the euclidian distanca to illustrate.\n",
    "\n",
    "$ \\begin{align} d(p,q)=\\sqrt{\\sum \\limits _{i=1} ^n (p_i−q_i)^2} \\end{align} $\n",
    "\n",
    "where $p_i$ and $q_i$ represent the the atribute of point p and q. The measure is made for n dimensions (features),\n",
    "\n",
    "Algorythm steps:\n",
    "1. Calculate distance between the point of interest and other points.\n",
    "2. Rank points with smaller distance.\n",
    "3. Find the k closest points(kneighbors).\n",
    "4. Choose (vote) for the point (classification) or make the mean of the closest points (regression)\n",
    "\n",
    "In a classification problem with n classes, avoid $k*n$ to avoid a tie between classes and $k$ multiple of 2."
   ]
  },
  {
   "cell_type": "markdown",
   "metadata": {},
   "source": [
    "## Applying KNN\n",
    "\n",
    "We will apply KNN to discuss essential points.\n",
    "\n",
    "## Problem\n",
    "data: https://www.kaggle.com/rakeshrau/social-network-ads\n",
    "\n",
    "Predict if the user who clicked in our add in a socialnetwork will make a purchase. This a Binary classification problem.\n",
    "\n",
    "#### Previously we covered some steps to be done before applying a machine elarning model:\n",
    "0. Data cleaning and exploratory data analysis\n",
    "\n",
    "1. Import a machine learning algorythm class.\n",
    "    - We will use scikit-learn for most of our models.\n",
    "\n",
    "2. Instantiate the algorythm class, choosing the desired hyperparameters.\n",
    "    - For our base model, it's common to use default hyperparameters\n",
    "    \n",
    "3. Split data into train and test data\n",
    "    - Also important to apply a Cross Validation for every project.\n",
    "    \n",
    "4. Train the model\n",
    "\n",
    "5. Use trained model to to make predictions using validation dataset\n",
    "\n",
    "6. Evaluate model performance\n",
    "\n",
    "7. Restart the cycle\n",
    "\n",
    "8. When satisfied with the model performance, **deploy**"
   ]
  },
  {
   "cell_type": "code",
   "execution_count": 1,
   "metadata": {},
   "outputs": [
    {
     "data": {
      "text/html": [
       "<div>\n",
       "<style scoped>\n",
       "    .dataframe tbody tr th:only-of-type {\n",
       "        vertical-align: middle;\n",
       "    }\n",
       "\n",
       "    .dataframe tbody tr th {\n",
       "        vertical-align: top;\n",
       "    }\n",
       "\n",
       "    .dataframe thead th {\n",
       "        text-align: right;\n",
       "    }\n",
       "</style>\n",
       "<table border=\"1\" class=\"dataframe\">\n",
       "  <thead>\n",
       "    <tr style=\"text-align: right;\">\n",
       "      <th></th>\n",
       "      <th>User ID</th>\n",
       "      <th>Age</th>\n",
       "      <th>EstimatedSalary</th>\n",
       "      <th>Purchased</th>\n",
       "    </tr>\n",
       "  </thead>\n",
       "  <tbody>\n",
       "    <tr>\n",
       "      <th>0</th>\n",
       "      <td>15624510</td>\n",
       "      <td>19</td>\n",
       "      <td>19000</td>\n",
       "      <td>0</td>\n",
       "    </tr>\n",
       "    <tr>\n",
       "      <th>1</th>\n",
       "      <td>15810944</td>\n",
       "      <td>35</td>\n",
       "      <td>20000</td>\n",
       "      <td>0</td>\n",
       "    </tr>\n",
       "    <tr>\n",
       "      <th>2</th>\n",
       "      <td>15668575</td>\n",
       "      <td>26</td>\n",
       "      <td>43000</td>\n",
       "      <td>0</td>\n",
       "    </tr>\n",
       "    <tr>\n",
       "      <th>3</th>\n",
       "      <td>15603246</td>\n",
       "      <td>27</td>\n",
       "      <td>57000</td>\n",
       "      <td>0</td>\n",
       "    </tr>\n",
       "    <tr>\n",
       "      <th>4</th>\n",
       "      <td>15804002</td>\n",
       "      <td>19</td>\n",
       "      <td>76000</td>\n",
       "      <td>0</td>\n",
       "    </tr>\n",
       "  </tbody>\n",
       "</table>\n",
       "</div>"
      ],
      "text/plain": [
       "    User ID  Age  EstimatedSalary  Purchased\n",
       "0  15624510   19            19000          0\n",
       "1  15810944   35            20000          0\n",
       "2  15668575   26            43000          0\n",
       "3  15603246   27            57000          0\n",
       "4  15804002   19            76000          0"
      ]
     },
     "execution_count": 1,
     "metadata": {},
     "output_type": "execute_result"
    }
   ],
   "source": [
    "# Import libraries\n",
    "import numpy as np\n",
    "import pandas as pd\n",
    "import matplotlib.pyplot as plt\n",
    "import seaborn as sns\n",
    "\n",
    "# Import dataset\n",
    "dataset = pd.read_csv('data/Social_Network_Ads.csv').drop('Gender', axis=1)\n",
    "dataset.head()"
   ]
  },
  {
   "cell_type": "markdown",
   "metadata": {},
   "source": [
    "##### **Metadata**\n",
    "*User ID:* Unique user identifier (integer, positive)\n",
    "\n",
    "*Gender:*\n",
    "\n",
    "*Age:*\n",
    "\n",
    "*Estimated Salary:*\n",
    "\n",
    "*Purchased:* Indicates if a user made a purchase or not (boolean, numeric)"
   ]
  },
  {
   "cell_type": "markdown",
   "metadata": {},
   "source": [
    "### Data Analysis"
   ]
  },
  {
   "cell_type": "code",
   "execution_count": 2,
   "metadata": {},
   "outputs": [
    {
     "data": {
      "text/html": [
       "<div>\n",
       "<style scoped>\n",
       "    .dataframe tbody tr th:only-of-type {\n",
       "        vertical-align: middle;\n",
       "    }\n",
       "\n",
       "    .dataframe tbody tr th {\n",
       "        vertical-align: top;\n",
       "    }\n",
       "\n",
       "    .dataframe thead th {\n",
       "        text-align: right;\n",
       "    }\n",
       "</style>\n",
       "<table border=\"1\" class=\"dataframe\">\n",
       "  <thead>\n",
       "    <tr style=\"text-align: right;\">\n",
       "      <th></th>\n",
       "      <th>User ID</th>\n",
       "      <th>Age</th>\n",
       "      <th>EstimatedSalary</th>\n",
       "      <th>Purchased</th>\n",
       "    </tr>\n",
       "  </thead>\n",
       "  <tbody>\n",
       "    <tr>\n",
       "      <th>count</th>\n",
       "      <td>4.000000e+02</td>\n",
       "      <td>400.000000</td>\n",
       "      <td>400.000000</td>\n",
       "      <td>400.000000</td>\n",
       "    </tr>\n",
       "    <tr>\n",
       "      <th>mean</th>\n",
       "      <td>1.569154e+07</td>\n",
       "      <td>37.655000</td>\n",
       "      <td>69742.500000</td>\n",
       "      <td>0.357500</td>\n",
       "    </tr>\n",
       "    <tr>\n",
       "      <th>std</th>\n",
       "      <td>7.165832e+04</td>\n",
       "      <td>10.482877</td>\n",
       "      <td>34096.960282</td>\n",
       "      <td>0.479864</td>\n",
       "    </tr>\n",
       "    <tr>\n",
       "      <th>min</th>\n",
       "      <td>1.556669e+07</td>\n",
       "      <td>18.000000</td>\n",
       "      <td>15000.000000</td>\n",
       "      <td>0.000000</td>\n",
       "    </tr>\n",
       "    <tr>\n",
       "      <th>25%</th>\n",
       "      <td>1.562676e+07</td>\n",
       "      <td>29.750000</td>\n",
       "      <td>43000.000000</td>\n",
       "      <td>0.000000</td>\n",
       "    </tr>\n",
       "    <tr>\n",
       "      <th>50%</th>\n",
       "      <td>1.569434e+07</td>\n",
       "      <td>37.000000</td>\n",
       "      <td>70000.000000</td>\n",
       "      <td>0.000000</td>\n",
       "    </tr>\n",
       "    <tr>\n",
       "      <th>75%</th>\n",
       "      <td>1.575036e+07</td>\n",
       "      <td>46.000000</td>\n",
       "      <td>88000.000000</td>\n",
       "      <td>1.000000</td>\n",
       "    </tr>\n",
       "    <tr>\n",
       "      <th>max</th>\n",
       "      <td>1.581524e+07</td>\n",
       "      <td>60.000000</td>\n",
       "      <td>150000.000000</td>\n",
       "      <td>1.000000</td>\n",
       "    </tr>\n",
       "  </tbody>\n",
       "</table>\n",
       "</div>"
      ],
      "text/plain": [
       "            User ID         Age  EstimatedSalary   Purchased\n",
       "count  4.000000e+02  400.000000       400.000000  400.000000\n",
       "mean   1.569154e+07   37.655000     69742.500000    0.357500\n",
       "std    7.165832e+04   10.482877     34096.960282    0.479864\n",
       "min    1.556669e+07   18.000000     15000.000000    0.000000\n",
       "25%    1.562676e+07   29.750000     43000.000000    0.000000\n",
       "50%    1.569434e+07   37.000000     70000.000000    0.000000\n",
       "75%    1.575036e+07   46.000000     88000.000000    1.000000\n",
       "max    1.581524e+07   60.000000    150000.000000    1.000000"
      ]
     },
     "execution_count": 2,
     "metadata": {},
     "output_type": "execute_result"
    }
   ],
   "source": [
    "# Find basic statistics\n",
    "dataset.describe()"
   ]
  },
  {
   "cell_type": "markdown",
   "metadata": {},
   "source": [
    "We will make a quick EDA."
   ]
  },
  {
   "cell_type": "code",
   "execution_count": 3,
   "metadata": {},
   "outputs": [
    {
     "data": {
      "image/png": "[encoded data removed]",
      "text/plain": [
       "<Figure size 419.875x360 with 1 Axes>"
      ]
     },
     "metadata": {
      "needs_background": "light"
     },
     "output_type": "display_data"
    }
   ],
   "source": [
    "# Distplot of age, colored by Purchase\n",
    "sns.displot(data=dataset, x=\"Age\", hue='Purchased');"
   ]
  },
  {
   "cell_type": "code",
   "execution_count": 4,
   "metadata": {},
   "outputs": [
    {
     "data": {
      "image/png": "[encoded data removed]",
      "text/plain": [
       "<Figure size 419.875x360 with 1 Axes>"
      ]
     },
     "metadata": {
      "needs_background": "light"
     },
     "output_type": "display_data"
    }
   ],
   "source": [
    "# Distplot of EstmatedSalary, colored by Purchase \n",
    "sns.displot(data=dataset, x=\"EstimatedSalary\", hue=\"Purchased\");"
   ]
  },
  {
   "cell_type": "code",
   "execution_count": 5,
   "metadata": {},
   "outputs": [
    {
     "data": {
      "image/png": "[encoded data removed]",
      "text/plain": [
       "<Figure size 432x288 with 1 Axes>"
      ]
     },
     "metadata": {
      "needs_background": "light"
     },
     "output_type": "display_data"
    }
   ],
   "source": [
    "# Scatterplot between EstimatedSalary and Age, colored by Purchased. \n",
    "sns.scatterplot(data=dataset, x=\"EstimatedSalary\", y=\"Age\", hue=\"Purchased\");"
   ]
  },
  {
   "cell_type": "code",
   "execution_count": 6,
   "metadata": {},
   "outputs": [
    {
     "data": {
      "text/plain": [
       "0    257\n",
       "1    143\n",
       "Name: Purchased, dtype: int64"
      ]
     },
     "execution_count": 6,
     "metadata": {},
     "output_type": "execute_result"
    }
   ],
   "source": [
    "# Is the dataset balanced?\n",
    "dataset.Purchased.value_counts()"
   ]
  },
  {
   "cell_type": "code",
   "execution_count": 7,
   "metadata": {},
   "outputs": [
    {
     "data": {
      "text/plain": [
       "0    64.25\n",
       "1    35.75\n",
       "Name: Purchased, dtype: float64"
      ]
     },
     "execution_count": 7,
     "metadata": {},
     "output_type": "execute_result"
    }
   ],
   "source": [
    "# Calculate % of each class\n",
    "dataset.Purchased.value_counts(normalize=True)*100"
   ]
  },
  {
   "cell_type": "markdown",
   "metadata": {},
   "source": [
    "Is the dataset Balanced?"
   ]
  },
  {
   "cell_type": "code",
   "execution_count": 8,
   "metadata": {},
   "outputs": [
    {
     "data": {
      "text/plain": [
       "User ID            0\n",
       "Age                0\n",
       "EstimatedSalary    0\n",
       "Purchased          0\n",
       "dtype: int64"
      ]
     },
     "execution_count": 8,
     "metadata": {},
     "output_type": "execute_result"
    }
   ],
   "source": [
    "# Check for nans\n",
    "dataset.isna().sum()"
   ]
  },
  {
   "cell_type": "code",
   "execution_count": 9,
   "metadata": {},
   "outputs": [
    {
     "data": {
      "text/plain": [
       "92      15000\n",
       "43      15000\n",
       "155     15000\n",
       "150     15000\n",
       "32      16000\n",
       "        ...  \n",
       "168    148000\n",
       "103    149000\n",
       "240    149000\n",
       "211    150000\n",
       "7      150000\n",
       "Name: EstimatedSalary, Length: 400, dtype: int64"
      ]
     },
     "execution_count": 9,
     "metadata": {},
     "output_type": "execute_result"
    }
   ],
   "source": [
    "dataset.EstimatedSalary.sort_values()"
   ]
  },
  {
   "cell_type": "markdown",
   "metadata": {},
   "source": [
    "<br>"
   ]
  },
  {
   "cell_type": "markdown",
   "metadata": {},
   "source": [
    "### Data Processing"
   ]
  },
  {
   "cell_type": "code",
   "execution_count": 10,
   "metadata": {},
   "outputs": [
    {
     "data": {
      "text/html": [
       "<div>\n",
       "<style scoped>\n",
       "    .dataframe tbody tr th:only-of-type {\n",
       "        vertical-align: middle;\n",
       "    }\n",
       "\n",
       "    .dataframe tbody tr th {\n",
       "        vertical-align: top;\n",
       "    }\n",
       "\n",
       "    .dataframe thead th {\n",
       "        text-align: right;\n",
       "    }\n",
       "</style>\n",
       "<table border=\"1\" class=\"dataframe\">\n",
       "  <thead>\n",
       "    <tr style=\"text-align: right;\">\n",
       "      <th></th>\n",
       "      <th>Age</th>\n",
       "      <th>EstimatedSalary</th>\n",
       "    </tr>\n",
       "  </thead>\n",
       "  <tbody>\n",
       "    <tr>\n",
       "      <th>0</th>\n",
       "      <td>19</td>\n",
       "      <td>19000</td>\n",
       "    </tr>\n",
       "    <tr>\n",
       "      <th>1</th>\n",
       "      <td>35</td>\n",
       "      <td>20000</td>\n",
       "    </tr>\n",
       "    <tr>\n",
       "      <th>2</th>\n",
       "      <td>26</td>\n",
       "      <td>43000</td>\n",
       "    </tr>\n",
       "    <tr>\n",
       "      <th>3</th>\n",
       "      <td>27</td>\n",
       "      <td>57000</td>\n",
       "    </tr>\n",
       "    <tr>\n",
       "      <th>4</th>\n",
       "      <td>19</td>\n",
       "      <td>76000</td>\n",
       "    </tr>\n",
       "  </tbody>\n",
       "</table>\n",
       "</div>"
      ],
      "text/plain": [
       "   Age  EstimatedSalary\n",
       "0   19            19000\n",
       "1   35            20000\n",
       "2   26            43000\n",
       "3   27            57000\n",
       "4   19            76000"
      ]
     },
     "execution_count": 10,
     "metadata": {},
     "output_type": "execute_result"
    }
   ],
   "source": [
    "# Define Target\n",
    "target = 'Purchased'\n",
    "\n",
    "# Split into features X and target y, drop \"Used Id\" from features.\n",
    "X = dataset.drop([target, 'User ID'], axis=1)\n",
    "y = dataset[[target]]\n",
    "\n",
    "X.head()"
   ]
  },
  {
   "cell_type": "code",
   "execution_count": 11,
   "metadata": {},
   "outputs": [
    {
     "name": "stdout",
     "output_type": "stream",
     "text": [
      "Tamanho do treino:  (320, 2)\n",
      "Tamanho do teste:  (80, 2)\n"
     ]
    }
   ],
   "source": [
    "from sklearn.model_selection import train_test_split\n",
    "X_train, X_test, y_train, y_test = train_test_split(X, y, \n",
    "                                                    test_size = 0.20,\n",
    "                                                    random_state = 0,\n",
    "                                                    stratify=y)\n",
    "\n",
    "print(\"Tamanho do treino: \", X_train.shape)\n",
    "print(\"Tamanho do teste: \", X_test.shape)"
   ]
  },
  {
   "cell_type": "markdown",
   "metadata": {},
   "source": [
    "#### Preprocessing:\n",
    "Because our model is based on a distance between points, normalizing our data is required to have accurate results."
   ]
  },
  {
   "cell_type": "markdown",
   "metadata": {},
   "source": [
    "##### Normalizing\n",
    "Inside sklearn we have 3 options to normalize our data.\n",
    "\n",
    "1. MinMaxScale\n",
    "2. StandardScale\n",
    "3. RobustScaler\n"
   ]
  },
  {
   "cell_type": "code",
   "execution_count": 12,
   "metadata": {},
   "outputs": [],
   "source": [
    "# Import scaler\n",
    "from sklearn.preprocessing import MinMaxScaler\n",
    "\n",
    "# Instantiate scaler\n",
    "sc = MinMaxScaler()\n",
    "\n",
    "\n",
    "# Fit and transform train data\n",
    "sc.fit(X_train)\n",
    "X_train = sc.transform(X_train)\n",
    "\n",
    "# Transform test data\n",
    "X_test = sc.transform(X_test)"
   ]
  },
  {
   "cell_type": "code",
   "execution_count": 13,
   "metadata": {
    "collapsed": true,
    "jupyter": {
     "outputs_hidden": true
    },
    "tags": []
   },
   "outputs": [
    {
     "data": {
      "text/plain": [
       "array([[0.4047619 , 0.31851852],\n",
       "       [0.26190476, 0.20740741],\n",
       "       [0.73809524, 0.0962963 ],\n",
       "       [0.38095238, 0.20740741],\n",
       "       [0.71428571, 0.88148148],\n",
       "       [0.47619048, 0.71851852],\n",
       "       [0.26190476, 0.0962963 ],\n",
       "       [0.14285714, 0.08888889],\n",
       "       [0.5       , 0.41481481],\n",
       "       [0.42857143, 0.27407407],\n",
       "       [0.14285714, 0.05925926],\n",
       "       [0.        , 0.52592593],\n",
       "       [0.85714286, 0.40740741],\n",
       "       [0.42857143, 0.28888889],\n",
       "       [0.80952381, 0.91111111],\n",
       "       [0.76190476, 0.21481481],\n",
       "       [0.30952381, 0.54814815],\n",
       "       [0.78571429, 0.05925926],\n",
       "       [0.52380952, 0.42222222],\n",
       "       [0.30952381, 0.41481481],\n",
       "       [0.30952381, 0.        ],\n",
       "       [0.04761905, 0.4962963 ],\n",
       "       [0.95238095, 0.23703704],\n",
       "       [0.97619048, 0.2       ],\n",
       "       [0.69047619, 0.72592593],\n",
       "       [0.92857143, 0.33333333],\n",
       "       [0.52380952, 0.68148148],\n",
       "       [0.28571429, 0.48148148],\n",
       "       [0.64285714, 0.08148148],\n",
       "       [0.26190476, 0.34074074],\n",
       "       [0.45238095, 0.2962963 ],\n",
       "       [0.47619048, 0.41481481],\n",
       "       [0.54761905, 0.42222222],\n",
       "       [1.        , 0.14074074],\n",
       "       [0.71428571, 0.55555556],\n",
       "       [0.42857143, 0.25925926],\n",
       "       [0.52380952, 0.37037037],\n",
       "       [0.97619048, 0.85185185],\n",
       "       [0.16666667, 0.05185185],\n",
       "       [0.16666667, 0.53333333],\n",
       "       [0.19047619, 0.12592593],\n",
       "       [0.71428571, 0.43703704],\n",
       "       [0.61904762, 0.91851852],\n",
       "       [0.33333333, 0.02222222],\n",
       "       [0.45238095, 0.46666667],\n",
       "       [0.26190476, 0.44444444],\n",
       "       [0.42857143, 0.82222222],\n",
       "       [0.28571429, 0.47407407],\n",
       "       [1.        , 0.2       ],\n",
       "       [0.45238095, 0.13333333],\n",
       "       [0.64285714, 0.05185185],\n",
       "       [0.02380952, 0.02962963],\n",
       "       [0.4047619 , 0.25925926],\n",
       "       [0.0952381 , 0.08888889],\n",
       "       [0.45238095, 0.43703704],\n",
       "       [0.35714286, 0.26666667],\n",
       "       [0.66666667, 0.47407407],\n",
       "       [0.33333333, 0.52592593],\n",
       "       [0.26190476, 0.48148148],\n",
       "       [0.21428571, 0.6       ],\n",
       "       [0.9047619 , 0.65925926],\n",
       "       [0.66666667, 0.12592593],\n",
       "       [0.71428571, 0.85925926],\n",
       "       [0.04761905, 0.25185185],\n",
       "       [0.83333333, 0.42222222],\n",
       "       [0.52380952, 0.32592593],\n",
       "       [0.14285714, 0.51111111],\n",
       "       [0.71428571, 0.1037037 ],\n",
       "       [0.21428571, 0.31851852],\n",
       "       [0.5       , 0.2       ],\n",
       "       [0.23809524, 0.21481481],\n",
       "       [0.69047619, 0.66666667],\n",
       "       [0.66666667, 0.54074074],\n",
       "       [0.52380952, 0.23703704],\n",
       "       [0.97619048, 0.1037037 ],\n",
       "       [0.52380952, 0.46666667],\n",
       "       [0.30952381, 0.37777778],\n",
       "       [0.21428571, 0.01481481],\n",
       "       [0.57142857, 0.68888889],\n",
       "       [0.5       , 0.79259259],\n",
       "       [0.95238095, 0.95555556],\n",
       "       [0.30952381, 0.14074074],\n",
       "       [0.5       , 0.32592593],\n",
       "       [1.        , 0.22962963],\n",
       "       [0.45238095, 0.31111111],\n",
       "       [0.5       , 0.47407407],\n",
       "       [0.30952381, 0.39259259],\n",
       "       [0.02380952, 0.51851852],\n",
       "       [0.88095238, 0.81481481],\n",
       "       [0.4047619 , 0.41481481],\n",
       "       [0.35714286, 0.20740741],\n",
       "       [0.54761905, 0.27407407],\n",
       "       [0.5       , 0.67407407],\n",
       "       [0.45238095, 0.45925926],\n",
       "       [0.69047619, 0.20740741],\n",
       "       [0.19047619, 0.20740741],\n",
       "       [0.4047619 , 0.33333333],\n",
       "       [0.54761905, 0.11111111],\n",
       "       [0.4047619 , 0.45925926],\n",
       "       [0.19047619, 0.14814815],\n",
       "       [0.69047619, 0.11111111],\n",
       "       [0.23809524, 0.2962963 ],\n",
       "       [1.        , 0.2       ],\n",
       "       [0.45238095, 0.97037037],\n",
       "       [0.04761905, 0.15555556],\n",
       "       [0.66666667, 0.0962963 ],\n",
       "       [0.47619048, 0.25925926],\n",
       "       [0.54761905, 0.33333333],\n",
       "       [0.57142857, 0.37037037],\n",
       "       [0.57142857, 0.28148148],\n",
       "       [0.14285714, 0.31851852],\n",
       "       [0.33333333, 0.62962963],\n",
       "       [0.69047619, 0.25925926],\n",
       "       [0.92857143, 0.08148148],\n",
       "       [0.38095238, 0.42222222],\n",
       "       [0.28571429, 0.01481481],\n",
       "       [0.54761905, 0.48148148],\n",
       "       [0.54761905, 0.53333333],\n",
       "       [0.30952381, 0.43703704],\n",
       "       [0.45238095, 0.27407407],\n",
       "       [0.54761905, 0.22222222],\n",
       "       [0.52380952, 0.31111111],\n",
       "       [0.5       , 0.6       ],\n",
       "       [0.16666667, 0.13333333],\n",
       "       [0.47619048, 0.37037037],\n",
       "       [0.57142857, 0.48148148],\n",
       "       [0.52380952, 0.44444444],\n",
       "       [0.69047619, 0.07407407],\n",
       "       [0.57142857, 0.99259259],\n",
       "       [0.80952381, 0.73333333],\n",
       "       [0.42857143, 0.62222222],\n",
       "       [0.21428571, 0.03703704],\n",
       "       [0.42857143, 0.13333333],\n",
       "       [0.07142857, 0.54074074],\n",
       "       [0.14285714, 0.54814815],\n",
       "       [0.54761905, 0.41481481],\n",
       "       [0.52380952, 0.44444444],\n",
       "       [0.23809524, 0.12592593],\n",
       "       [0.11904762, 0.03703704],\n",
       "       [0.4047619 , 0.97777778],\n",
       "       [0.19047619, 0.11111111],\n",
       "       [0.73809524, 0.15555556],\n",
       "       [0.85714286, 0.68888889],\n",
       "       [0.02380952, 0.04444444],\n",
       "       [0.57142857, 0.48148148],\n",
       "       [0.42857143, 0.81481481],\n",
       "       [0.47619048, 0.25925926],\n",
       "       [0.45238095, 0.57777778],\n",
       "       [0.57142857, 0.28888889],\n",
       "       [0.07142857, 0.42222222],\n",
       "       [0.71428571, 0.77037037],\n",
       "       [0.23809524, 0.54814815],\n",
       "       [0.14285714, 0.2962963 ],\n",
       "       [0.71428571, 0.91111111],\n",
       "       [0.21428571, 0.55555556],\n",
       "       [0.28571429, 0.25185185],\n",
       "       [0.5       , 0.44444444],\n",
       "       [0.35714286, 0.99259259],\n",
       "       [0.28571429, 0.88888889],\n",
       "       [0.57142857, 0.47407407],\n",
       "       [0.23809524, 0.53333333],\n",
       "       [0.19047619, 0.51111111],\n",
       "       [0.4047619 , 0.42222222],\n",
       "       [0.04761905, 0.52592593],\n",
       "       [0.71428571, 0.13333333],\n",
       "       [0.42857143, 0.44444444],\n",
       "       [0.73809524, 0.54074074],\n",
       "       [0.02380952, 0.45185185],\n",
       "       [0.19047619, 0.42222222],\n",
       "       [0.4047619 , 0.44444444],\n",
       "       [0.21428571, 0.28888889],\n",
       "       [0.73809524, 0.54814815],\n",
       "       [0.76190476, 0.54074074],\n",
       "       [0.69047619, 0.68148148],\n",
       "       [0.0952381 , 0.35555556],\n",
       "       [0.95238095, 0.63703704],\n",
       "       [0.26190476, 0.5037037 ],\n",
       "       [0.4047619 , 0.32592593],\n",
       "       [0.42857143, 0.35555556],\n",
       "       [0.28571429, 0.74814815],\n",
       "       [0.5952381 , 0.87407407],\n",
       "       [0.97619048, 0.45185185],\n",
       "       [0.02380952, 0.07407407],\n",
       "       [0.83333333, 0.65925926],\n",
       "       [0.54761905, 0.47407407],\n",
       "       [0.04761905, 0.4962963 ],\n",
       "       [0.88095238, 0.85185185],\n",
       "       [0.42857143, 0.95555556],\n",
       "       [0.64285714, 0.22222222],\n",
       "       [0.33333333, 0.75555556],\n",
       "       [0.78571429, 0.88148148],\n",
       "       [0.19047619, 0.        ],\n",
       "       [0.76190476, 0.15555556],\n",
       "       [0.4047619 , 0.42222222],\n",
       "       [0.21428571, 0.31111111],\n",
       "       [0.28571429, 0.54814815],\n",
       "       [0.54761905, 0.42222222],\n",
       "       [0.14285714, 0.02962963],\n",
       "       [0.5952381 , 0.71851852],\n",
       "       [0.        , 0.39259259],\n",
       "       [0.30952381, 0.02222222],\n",
       "       [0.57142857, 0.55555556],\n",
       "       [0.85714286, 0.65925926],\n",
       "       [0.66666667, 0.32592593],\n",
       "       [0.33333333, 0.77777778],\n",
       "       [0.04761905, 0.43703704],\n",
       "       [0.83333333, 0.94814815],\n",
       "       [0.4047619 , 0.05925926],\n",
       "       [0.80952381, 0.04444444],\n",
       "       [0.14285714, 0.2962963 ],\n",
       "       [0.71428571, 0.14814815],\n",
       "       [0.9047619 , 0.33333333],\n",
       "       [0.5       , 0.88148148],\n",
       "       [0.71428571, 0.13333333],\n",
       "       [0.45238095, 0.9037037 ],\n",
       "       [0.45238095, 0.48148148],\n",
       "       [0.21428571, 0.51111111],\n",
       "       [0.07142857, 0.39259259],\n",
       "       [1.        , 0.5037037 ],\n",
       "       [0.23809524, 0.51111111],\n",
       "       [0.33333333, 0.88888889],\n",
       "       [0.19047619, 0.00740741],\n",
       "       [0.64285714, 0.47407407],\n",
       "       [0.14285714, 0.12592593],\n",
       "       [0.07142857, 0.00740741],\n",
       "       [0.26190476, 0.20740741],\n",
       "       [0.45238095, 0.41481481],\n",
       "       [0.4047619 , 0.17037037],\n",
       "       [0.73809524, 0.37037037],\n",
       "       [0.11904762, 0.24444444],\n",
       "       [0.35714286, 0.11851852],\n",
       "       [0.47619048, 0.72592593],\n",
       "       [0.26190476, 0.98518519],\n",
       "       [0.92857143, 0.79259259],\n",
       "       [0.04761905, 0.05925926],\n",
       "       [0.42857143, 0.33333333],\n",
       "       [0.4047619 , 0.05185185],\n",
       "       [0.5       , 0.88148148],\n",
       "       [0.4047619 , 0.44444444],\n",
       "       [0.        , 0.4962963 ],\n",
       "       [0.35714286, 0.0962963 ],\n",
       "       [0.35714286, 0.72592593],\n",
       "       [0.23809524, 0.16296296],\n",
       "       [0.35714286, 0.33333333],\n",
       "       [0.57142857, 0.40740741],\n",
       "       [0.66666667, 0.4962963 ],\n",
       "       [0.38095238, 0.74074074],\n",
       "       [0.42857143, 0.76296296],\n",
       "       [0.9047619 , 0.87407407],\n",
       "       [0.23809524, 0.51851852],\n",
       "       [0.92857143, 0.13333333],\n",
       "       [0.57142857, 0.42962963],\n",
       "       [0.69047619, 0.05925926],\n",
       "       [0.4047619 , 0.07407407],\n",
       "       [0.57142857, 0.28888889],\n",
       "       [0.38095238, 0.71851852],\n",
       "       [0.16666667, 0.55555556],\n",
       "       [0.64285714, 0.05185185],\n",
       "       [0.80952381, 0.55555556],\n",
       "       [0.4047619 , 0.54074074],\n",
       "       [0.16666667, 0.48148148],\n",
       "       [0.54761905, 0.26666667],\n",
       "       [0.92857143, 0.43703704],\n",
       "       [0.19047619, 0.        ],\n",
       "       [0.73809524, 0.52592593],\n",
       "       [0.69047619, 0.03703704],\n",
       "       [0.47619048, 0.34074074],\n",
       "       [0.54761905, 0.27407407],\n",
       "       [0.38095238, 0.07407407],\n",
       "       [0.61904762, 0.17777778],\n",
       "       [0.4047619 , 0.68888889],\n",
       "       [0.4047619 , 0.23703704],\n",
       "       [0.69047619, 0.95555556],\n",
       "       [0.95238095, 0.59259259],\n",
       "       [0.4047619 , 0.37037037],\n",
       "       [0.52380952, 0.33333333],\n",
       "       [0.71428571, 0.11111111],\n",
       "       [0.45238095, 0.42222222],\n",
       "       [0.0952381 , 0.02222222],\n",
       "       [0.5       , 0.34074074],\n",
       "       [0.30952381, 0.31851852],\n",
       "       [0.19047619, 0.01481481],\n",
       "       [0.66666667, 0.05925926],\n",
       "       [0.30952381, 0.45185185],\n",
       "       [0.80952381, 1.        ],\n",
       "       [0.88095238, 0.17777778],\n",
       "       [0.64285714, 0.85925926],\n",
       "       [0.19047619, 0.27407407],\n",
       "       [0.57142857, 0.37037037],\n",
       "       [0.28571429, 0.68148148],\n",
       "       [0.47619048, 0.48148148],\n",
       "       [0.66666667, 0.05185185],\n",
       "       [0.97619048, 0.54074074],\n",
       "       [0.28571429, 0.53333333],\n",
       "       [0.26190476, 0.23703704],\n",
       "       [0.95238095, 0.17037037],\n",
       "       [0.45238095, 0.28148148],\n",
       "       [0.5       , 0.42962963],\n",
       "       [0.71428571, 0.93333333],\n",
       "       [0.71428571, 0.19259259],\n",
       "       [0.52380952, 0.31111111],\n",
       "       [0.4047619 , 0.60740741],\n",
       "       [0.4047619 , 0.03703704],\n",
       "       [0.35714286, 0.19259259],\n",
       "       [0.11904762, 0.4962963 ],\n",
       "       [0.4047619 , 0.47407407],\n",
       "       [0.57142857, 0.44444444],\n",
       "       [0.26190476, 0.5037037 ],\n",
       "       [0.23809524, 0.47407407],\n",
       "       [0.21428571, 0.9037037 ],\n",
       "       [0.5       , 0.41481481],\n",
       "       [0.        , 0.27407407],\n",
       "       [0.54761905, 0.42222222],\n",
       "       [0.45238095, 0.40740741],\n",
       "       [0.5       , 0.2       ],\n",
       "       [0.11904762, 0.0962963 ],\n",
       "       [1.        , 0.68888889],\n",
       "       [0.97619048, 0.5037037 ],\n",
       "       [0.69047619, 0.25185185],\n",
       "       [0.47619048, 0.26666667]])"
      ]
     },
     "execution_count": 13,
     "metadata": {},
     "output_type": "execute_result"
    }
   ],
   "source": [
    "X_train"
   ]
  },
  {
   "cell_type": "markdown",
   "metadata": {},
   "source": [
    "### Train Model - KNeighborsClassifier\n",
    "[sklearn.neighbors.KNeighborsClassifier](https://scikit-learn.org/stable/modules/generated/sklearn.neighbors.KNeighborsClassifier.html)"
   ]
  },
  {
   "cell_type": "code",
   "execution_count": 14,
   "metadata": {},
   "outputs": [],
   "source": [
    "# Import model\n",
    "from sklearn.neighbors import KNeighborsClassifier\n",
    "\n",
    "# Instantiate model with 3 kneighbors (n_neighbors=3) and euclidian distance (p=2).\n",
    "knn = KNeighborsClassifier(n_neighbors=3, p=2)"
   ]
  },
  {
   "cell_type": "code",
   "execution_count": 15,
   "metadata": {},
   "outputs": [
    {
     "data": {
      "text/plain": [
       "pandas.core.frame.DataFrame"
      ]
     },
     "execution_count": 15,
     "metadata": {},
     "output_type": "execute_result"
    }
   ],
   "source": [
    "type(y_train)"
   ]
  },
  {
   "cell_type": "code",
   "execution_count": 16,
   "metadata": {},
   "outputs": [
    {
     "name": "stderr",
     "output_type": "stream",
     "text": [
      "/home/tulio/anaconda3/lib/python3.9/site-packages/sklearn/neighbors/_classification.py:200: DataConversionWarning: A column-vector y was passed when a 1d array was expected. Please change the shape of y to (n_samples,), for example using ravel().\n",
      "  return self._fit(X, y)\n"
     ]
    },
    {
     "data": {
      "text/html": [
       "<style>#sk-container-id-1 {color: black;background-color: white;}#sk-container-id-1 pre{padding: 0;}#sk-container-id-1 div.sk-toggleable {background-color: white;}#sk-container-id-1 label.sk-toggleable__label {cursor: pointer;display: block;width: 100%;margin-bottom: 0;padding: 0.3em;box-sizing: border-box;text-align: center;}#sk-container-id-1 label.sk-toggleable__label-arrow:before {content: \"▸\";float: left;margin-right: 0.25em;color: #696969;}#sk-container-id-1 label.sk-toggleable__label-arrow:hover:before {color: black;}#sk-container-id-1 div.sk-estimator:hover label.sk-toggleable__label-arrow:before {color: black;}#sk-container-id-1 div.sk-toggleable__content {max-height: 0;max-width: 0;overflow: hidden;text-align: left;background-color: #f0f8ff;}#sk-container-id-1 div.sk-toggleable__content pre {margin: 0.2em;color: black;border-radius: 0.25em;background-color: #f0f8ff;}#sk-container-id-1 input.sk-toggleable__control:checked~div.sk-toggleable__content {max-height: 200px;max-width: 100%;overflow: auto;}#sk-container-id-1 input.sk-toggleable__control:checked~label.sk-toggleable__label-arrow:before {content: \"▾\";}#sk-container-id-1 div.sk-estimator input.sk-toggleable__control:checked~label.sk-toggleable__label {background-color: #d4ebff;}#sk-container-id-1 div.sk-label input.sk-toggleable__control:checked~label.sk-toggleable__label {background-color: #d4ebff;}#sk-container-id-1 input.sk-hidden--visually {border: 0;clip: rect(1px 1px 1px 1px);clip: rect(1px, 1px, 1px, 1px);height: 1px;margin: -1px;overflow: hidden;padding: 0;position: absolute;width: 1px;}#sk-container-id-1 div.sk-estimator {font-family: monospace;background-color: #f0f8ff;border: 1px dotted black;border-radius: 0.25em;box-sizing: border-box;margin-bottom: 0.5em;}#sk-container-id-1 div.sk-estimator:hover {background-color: #d4ebff;}#sk-container-id-1 div.sk-parallel-item::after {content: \"\";width: 100%;border-bottom: 1px solid gray;flex-grow: 1;}#sk-container-id-1 div.sk-label:hover label.sk-toggleable__label {background-color: #d4ebff;}#sk-container-id-1 div.sk-serial::before {content: \"\";position: absolute;border-left: 1px solid gray;box-sizing: border-box;top: 0;bottom: 0;left: 50%;z-index: 0;}#sk-container-id-1 div.sk-serial {display: flex;flex-direction: column;align-items: center;background-color: white;padding-right: 0.2em;padding-left: 0.2em;position: relative;}#sk-container-id-1 div.sk-item {position: relative;z-index: 1;}#sk-container-id-1 div.sk-parallel {display: flex;align-items: stretch;justify-content: center;background-color: white;position: relative;}#sk-container-id-1 div.sk-item::before, #sk-container-id-1 div.sk-parallel-item::before {content: \"\";position: absolute;border-left: 1px solid gray;box-sizing: border-box;top: 0;bottom: 0;left: 50%;z-index: -1;}#sk-container-id-1 div.sk-parallel-item {display: flex;flex-direction: column;z-index: 1;position: relative;background-color: white;}#sk-container-id-1 div.sk-parallel-item:first-child::after {align-self: flex-end;width: 50%;}#sk-container-id-1 div.sk-parallel-item:last-child::after {align-self: flex-start;width: 50%;}#sk-container-id-1 div.sk-parallel-item:only-child::after {width: 0;}#sk-container-id-1 div.sk-dashed-wrapped {border: 1px dashed gray;margin: 0 0.4em 0.5em 0.4em;box-sizing: border-box;padding-bottom: 0.4em;background-color: white;}#sk-container-id-1 div.sk-label label {font-family: monospace;font-weight: bold;display: inline-block;line-height: 1.2em;}#sk-container-id-1 div.sk-label-container {text-align: center;}#sk-container-id-1 div.sk-container {/* jupyter's `normalize.less` sets `[hidden] { display: none; }` but bootstrap.min.css set `[hidden] { display: none !important; }` so we also need the `!important` here to be able to override the default hidden behavior on the sphinx rendered scikit-learn.org. See: https://github.com/scikit-learn/scikit-learn/issues/21755 */display: inline-block !important;position: relative;}#sk-container-id-1 div.sk-text-repr-fallback {display: none;}</style><div id=\"sk-container-id-1\" class=\"sk-top-container\"><div class=\"sk-text-repr-fallback\"><pre>KNeighborsClassifier(n_neighbors=3)</pre><b>In a Jupyter environment, please rerun this cell to show the HTML representation or trust the notebook. <br />On GitHub, the HTML representation is unable to render, please try loading this page with nbviewer.org.</b></div><div class=\"sk-container\" hidden><div class=\"sk-item\"><div class=\"sk-estimator sk-toggleable\"><input class=\"sk-toggleable__control sk-hidden--visually\" id=\"sk-estimator-id-1\" type=\"checkbox\" checked><label for=\"sk-estimator-id-1\" class=\"sk-toggleable__label sk-toggleable__label-arrow\">KNeighborsClassifier</label><div class=\"sk-toggleable__content\"><pre>KNeighborsClassifier(n_neighbors=3)</pre></div></div></div></div></div>"
      ],
      "text/plain": [
       "KNeighborsClassifier(n_neighbors=3)"
      ]
     },
     "execution_count": 16,
     "metadata": {},
     "output_type": "execute_result"
    }
   ],
   "source": [
    "# Fit model with X_train and y_train\n",
    "knn.fit(X_train, y_train)"
   ]
  },
  {
   "cell_type": "code",
   "execution_count": 17,
   "metadata": {},
   "outputs": [],
   "source": [
    "# Predict on test dataset\n",
    "y_pred = knn.predict(X_test)"
   ]
  },
  {
   "cell_type": "code",
   "execution_count": 18,
   "metadata": {},
   "outputs": [],
   "source": [
    "y_pred_train = knn.predict(X_train)"
   ]
  },
  {
   "cell_type": "code",
   "execution_count": 19,
   "metadata": {},
   "outputs": [
    {
     "data": {
      "text/plain": [
       "array([0, 0, 1, 0, 1, 1, 0, 0, 0, 0, 0, 0, 1, 0, 1, 1, 0, 1, 0, 0, 0, 0,\n",
       "       1, 1, 1, 1, 1, 0, 1, 0, 0, 0, 0, 1, 1, 0, 0, 1, 0, 0, 0, 1, 1, 0,\n",
       "       0, 0, 1, 0, 1, 0, 1, 0, 0, 0, 0, 0, 0, 0, 0, 0, 1, 1, 1, 0, 1, 0,\n",
       "       0, 1, 0, 0, 0, 1, 1, 0, 1, 0, 0, 0, 1, 1, 1, 0, 0, 1, 0, 0, 0, 0,\n",
       "       1, 0, 0, 0, 1, 0, 1, 0, 0, 0, 0, 0, 1, 0, 1, 1, 0, 1, 0, 0, 0, 0,\n",
       "       0, 1, 1, 1, 0, 0, 0, 1, 0, 0, 0, 0, 1, 0, 0, 0, 0, 1, 1, 1, 1, 0,\n",
       "       0, 0, 0, 0, 0, 0, 0, 1, 0, 1, 1, 0, 0, 1, 0, 1, 0, 0, 1, 0, 0, 1,\n",
       "       0, 0, 0, 1, 1, 0, 0, 0, 0, 0, 1, 0, 1, 0, 0, 0, 0, 1, 1, 1, 0, 1,\n",
       "       0, 0, 0, 0, 1, 1, 0, 1, 0, 0, 1, 1, 0, 0, 1, 0, 1, 0, 0, 0, 0, 0,\n",
       "       1, 0, 0, 1, 1, 1, 0, 0, 1, 0, 1, 0, 1, 1, 1, 1, 1, 0, 0, 0, 1, 0,\n",
       "       1, 0, 0, 0, 0, 0, 0, 0, 0, 0, 0, 1, 1, 1, 0, 0, 0, 1, 0, 0, 0, 0,\n",
       "       0, 0, 0, 0, 0, 1, 1, 0, 1, 0, 1, 0, 0, 0, 0, 1, 1, 1, 0, 0, 1, 0,\n",
       "       1, 1, 0, 0, 0, 1, 0, 0, 1, 1, 0, 0, 1, 0, 0, 0, 0, 0, 1, 0, 1, 1,\n",
       "       1, 0, 0, 1, 0, 1, 1, 0, 0, 1, 0, 0, 1, 1, 0, 1, 0, 0, 0, 0, 0, 0,\n",
       "       0, 1, 0, 0, 0, 0, 0, 0, 1, 1, 1, 0])"
      ]
     },
     "execution_count": 19,
     "metadata": {},
     "output_type": "execute_result"
    }
   ],
   "source": [
    "y_pred_train"
   ]
  },
  {
   "cell_type": "code",
   "execution_count": 20,
   "metadata": {},
   "outputs": [
    {
     "data": {
      "text/plain": [
       "array([1, 1, 1, 0, 1, 1, 1, 0, 1, 0, 1, 1, 0, 0, 0, 0, 0, 1, 0, 0, 1, 0,\n",
       "       0, 0, 0, 1, 1, 0, 0, 0, 0, 1, 0, 0, 0, 1, 1, 0, 0, 0, 1, 0, 0, 0,\n",
       "       0, 0, 0, 0, 0, 1, 0, 0, 1, 1, 1, 0, 0, 1, 1, 0, 1, 1, 0, 1, 0, 0,\n",
       "       0, 1, 1, 0, 0, 0, 0, 0, 1, 0, 0, 0, 0, 1])"
      ]
     },
     "execution_count": 20,
     "metadata": {},
     "output_type": "execute_result"
    }
   ],
   "source": [
    "y_pred"
   ]
  },
  {
   "cell_type": "code",
   "execution_count": 21,
   "metadata": {
    "collapsed": true,
    "jupyter": {
     "outputs_hidden": true
    },
    "tags": []
   },
   "outputs": [
    {
     "data": {
      "text/plain": [
       "array([[0.        , 1.        ],\n",
       "       [0.        , 1.        ],\n",
       "       [0.33333333, 0.66666667],\n",
       "       [1.        , 0.        ],\n",
       "       [0.33333333, 0.66666667],\n",
       "       [0.33333333, 0.66666667],\n",
       "       [0.33333333, 0.66666667],\n",
       "       [1.        , 0.        ],\n",
       "       [0.33333333, 0.66666667],\n",
       "       [1.        , 0.        ],\n",
       "       [0.33333333, 0.66666667],\n",
       "       [0.        , 1.        ],\n",
       "       [1.        , 0.        ],\n",
       "       [1.        , 0.        ],\n",
       "       [1.        , 0.        ],\n",
       "       [1.        , 0.        ],\n",
       "       [1.        , 0.        ],\n",
       "       [0.33333333, 0.66666667],\n",
       "       [1.        , 0.        ],\n",
       "       [1.        , 0.        ],\n",
       "       [0.        , 1.        ],\n",
       "       [1.        , 0.        ],\n",
       "       [1.        , 0.        ],\n",
       "       [1.        , 0.        ],\n",
       "       [1.        , 0.        ],\n",
       "       [0.33333333, 0.66666667],\n",
       "       [0.        , 1.        ],\n",
       "       [1.        , 0.        ],\n",
       "       [1.        , 0.        ],\n",
       "       [1.        , 0.        ],\n",
       "       [1.        , 0.        ],\n",
       "       [0.        , 1.        ],\n",
       "       [1.        , 0.        ],\n",
       "       [1.        , 0.        ],\n",
       "       [0.66666667, 0.33333333],\n",
       "       [0.        , 1.        ],\n",
       "       [0.        , 1.        ],\n",
       "       [1.        , 0.        ],\n",
       "       [1.        , 0.        ],\n",
       "       [1.        , 0.        ],\n",
       "       [0.        , 1.        ],\n",
       "       [1.        , 0.        ],\n",
       "       [1.        , 0.        ],\n",
       "       [1.        , 0.        ],\n",
       "       [1.        , 0.        ],\n",
       "       [1.        , 0.        ],\n",
       "       [1.        , 0.        ],\n",
       "       [1.        , 0.        ],\n",
       "       [1.        , 0.        ],\n",
       "       [0.        , 1.        ],\n",
       "       [1.        , 0.        ],\n",
       "       [0.66666667, 0.33333333],\n",
       "       [0.        , 1.        ],\n",
       "       [0.        , 1.        ],\n",
       "       [0.        , 1.        ],\n",
       "       [1.        , 0.        ],\n",
       "       [0.66666667, 0.33333333],\n",
       "       [0.        , 1.        ],\n",
       "       [0.        , 1.        ],\n",
       "       [1.        , 0.        ],\n",
       "       [0.33333333, 0.66666667],\n",
       "       [0.33333333, 0.66666667],\n",
       "       [1.        , 0.        ],\n",
       "       [0.33333333, 0.66666667],\n",
       "       [1.        , 0.        ],\n",
       "       [0.66666667, 0.33333333],\n",
       "       [1.        , 0.        ],\n",
       "       [0.        , 1.        ],\n",
       "       [0.        , 1.        ],\n",
       "       [1.        , 0.        ],\n",
       "       [0.66666667, 0.33333333],\n",
       "       [1.        , 0.        ],\n",
       "       [1.        , 0.        ],\n",
       "       [1.        , 0.        ],\n",
       "       [0.        , 1.        ],\n",
       "       [1.        , 0.        ],\n",
       "       [1.        , 0.        ],\n",
       "       [1.        , 0.        ],\n",
       "       [1.        , 0.        ],\n",
       "       [0.        , 1.        ]])"
      ]
     },
     "execution_count": 21,
     "metadata": {},
     "output_type": "execute_result"
    }
   ],
   "source": [
    "knn.predict_proba(X_test)"
   ]
  },
  {
   "cell_type": "code",
   "execution_count": 22,
   "metadata": {},
   "outputs": [
    {
     "data": {
      "text/plain": [
       "{'algorithm': 'auto',\n",
       " 'leaf_size': 30,\n",
       " 'metric': 'minkowski',\n",
       " 'metric_params': None,\n",
       " 'n_jobs': None,\n",
       " 'n_neighbors': 3,\n",
       " 'p': 2,\n",
       " 'weights': 'uniform'}"
      ]
     },
     "execution_count": 22,
     "metadata": {},
     "output_type": "execute_result"
    }
   ],
   "source": [
    "# model parameters\n",
    "knn.get_params()"
   ]
  },
  {
   "cell_type": "markdown",
   "metadata": {},
   "source": [
    "#### Model evaluation\n",
    "[Documentatio ConfusionMatrixDisplay](https://scikit-learn.org/stable/modules/generated/sklearn.metrics.ConfusionMatrixDisplay.html?highlight=confusionmatrixdisplay)\n",
    "\n",
    "[Documentation Acurracy Score](https://scikit-learn.org/stable/modules/generated/sklearn.metrics.accuracy_score.html?highlight=accuracy%20score#sklearn.metrics.accuracy_score)"
   ]
  },
  {
   "cell_type": "code",
   "execution_count": 23,
   "metadata": {},
   "outputs": [
    {
     "data": {
      "text/plain": [
       "array([0, 0, 1, 0, 1, 1, 0, 0, 0, 0, 0, 0, 1, 0, 1, 1, 0, 1, 0, 0, 0, 0,\n",
       "       1, 1, 1, 1, 1, 0, 1, 0, 0, 0, 0, 1, 1, 0, 0, 1, 0, 0, 0, 1, 1, 0,\n",
       "       0, 0, 1, 0, 1, 0, 1, 0, 0, 0, 0, 0, 0, 0, 0, 0, 1, 1, 1, 0, 1, 0,\n",
       "       0, 1, 0, 0, 0, 1, 1, 0, 1, 0, 0, 0, 1, 1, 1, 0, 0, 1, 0, 0, 0, 0,\n",
       "       1, 0, 0, 0, 1, 0, 1, 0, 0, 0, 0, 0, 1, 0, 1, 1, 0, 1, 0, 0, 0, 0,\n",
       "       0, 1, 1, 1, 0, 0, 0, 1, 0, 0, 0, 0, 1, 0, 0, 0, 0, 1, 1, 1, 1, 0,\n",
       "       0, 0, 0, 0, 0, 0, 0, 1, 0, 1, 1, 0, 0, 1, 0, 1, 0, 0, 1, 0, 0, 1,\n",
       "       0, 0, 0, 1, 1, 0, 0, 0, 0, 0, 1, 0, 1, 0, 0, 0, 0, 1, 1, 1, 0, 1,\n",
       "       0, 0, 0, 0, 1, 1, 0, 1, 0, 0, 1, 1, 0, 0, 1, 0, 1, 0, 0, 0, 0, 0,\n",
       "       1, 0, 0, 1, 1, 1, 0, 0, 1, 0, 1, 0, 1, 1, 1, 1, 1, 0, 0, 0, 1, 0,\n",
       "       1, 0, 0, 0, 0, 0, 0, 0, 0, 0, 0, 1, 1, 1, 0, 0, 0, 1, 0, 0, 0, 0,\n",
       "       0, 0, 0, 0, 0, 1, 1, 0, 1, 0, 1, 0, 0, 0, 0, 1, 1, 1, 0, 0, 1, 0,\n",
       "       1, 1, 0, 0, 0, 1, 0, 0, 1, 1, 0, 0, 1, 0, 0, 0, 0, 0, 1, 0, 1, 1,\n",
       "       1, 0, 0, 1, 0, 1, 1, 0, 0, 1, 0, 0, 1, 1, 0, 1, 0, 0, 0, 0, 0, 0,\n",
       "       0, 1, 0, 0, 0, 0, 0, 0, 1, 1, 1, 0])"
      ]
     },
     "execution_count": 23,
     "metadata": {},
     "output_type": "execute_result"
    }
   ],
   "source": [
    "y_pred_train"
   ]
  },
  {
   "cell_type": "code",
   "execution_count": 24,
   "metadata": {},
   "outputs": [
    {
     "name": "stdout",
     "output_type": "stream",
     "text": [
      "Acurácia do teste: 88.8%\n",
      "Acurácia do treino: 92.8%\n"
     ]
    },
    {
     "data": {
      "image/png": "[encoded data removed]",
      "text/plain": [
       "<Figure size 432x288 with 2 Axes>"
      ]
     },
     "metadata": {
      "needs_background": "light"
     },
     "output_type": "display_data"
    }
   ],
   "source": [
    "from sklearn.metrics import accuracy_score, ConfusionMatrixDisplay\n",
    "\n",
    "# Compute accuracy with accuracy score\n",
    "ac = accuracy_score(y_test, y_pred)\n",
    "ac_train = accuracy_score(y_train, y_pred_train)\n",
    "\n",
    "print(f\"Acurácia do teste: {ac:.1%}\")\n",
    "print(f\"Acurácia do treino: {ac_train:.1%}\")\n",
    "\n",
    "ConfusionMatrixDisplay.from_estimator(knn, X_test, y_test);"
   ]
  },
  {
   "cell_type": "markdown",
   "metadata": {},
   "source": [
    "### With cross validation"
   ]
  },
  {
   "cell_type": "code",
   "execution_count": 25,
   "metadata": {},
   "outputs": [
    {
     "name": "stdout",
     "output_type": "stream",
     "text": [
      "Train size:  (320, 2)\n",
      "Test size:  (80, 2)\n",
      "Split:  0\n",
      "TREINO valor MIN 18  MAX 150000\n",
      "VAL valor MIN 18  MAX 146000\n",
      "Split:  1\n",
      "TREINO valor MIN 18  MAX 149000\n",
      "VAL valor MIN 18  MAX 150000\n",
      "Split:  2\n",
      "TREINO valor MIN 18  MAX 150000\n",
      "VAL valor MIN 18  MAX 147000\n",
      "Split:  3\n",
      "TREINO valor MIN 18  MAX 150000\n",
      "VAL valor MIN 19  MAX 149000\n",
      "Split:  4\n",
      "TREINO valor MIN 18  MAX 150000\n",
      "VAL valor MIN 18  MAX 138000\n",
      "CV mean train score: 0.9273, std: 0.0077.\n",
      "CV mean validation score: 0.9094, std: 0.0230.\n"
     ]
    }
   ],
   "source": [
    "from sklearn.preprocessing import MinMaxScaler\n",
    "from sklearn.neighbors import KNeighborsClassifier\n",
    "from sklearn.model_selection import StratifiedKFold\n",
    "from sklearn.model_selection import train_test_split\n",
    "\n",
    "X_train, X_test, y_train, y_test = train_test_split(X, y, \n",
    "                                                    test_size = 0.20,\n",
    "                                                    random_state = 0,\n",
    "                                                    stratify=y)\n",
    "\n",
    "print(\"Train size: \", X_train.shape)\n",
    "print(\"Test size: \", X_test.shape)\n",
    "\n",
    "\n",
    "# Instantiace StratifiedKFold\n",
    "folds = StratifiedKFold(5, shuffle=True, random_state=42)\n",
    "\n",
    "# Instantiate model considering 3 neighbors and euclidian distance\n",
    "k=3\n",
    "knn = KNeighborsClassifier(n_neighbors=k, \n",
    "                           p=2)\n",
    "\n",
    "def train_model(X, y, folds, model, metric):\n",
    "    '''\n",
    "    Train and return accuracy score for each fold.\n",
    "    '''\n",
    "    train_scores=[]\n",
    "    val_scores=[]\n",
    "\n",
    "    # Check if it's a np array\n",
    "    if not isinstance(y, np.ndarray):\n",
    "        y = np.array(y).ravel()\n",
    "    if not isinstance(X, np.ndarray):\n",
    "        X = np.array(X)\n",
    "    \n",
    "    for n_fold, (train_index, valid_index) in enumerate(folds.split(X, y)):\n",
    "        # Select train and validation data (necessary when not using a pipeline)\n",
    "        X_train, X_val = X[train_index], X[valid_index]\n",
    "        y_train, y_val = y[train_index], y[valid_index]\n",
    "\n",
    "        # Print Min and Max in the training and validation dataset\n",
    "        print(\"Split: \", n_fold)\n",
    "        print(f\"TREINO valor MIN {X_train.min()}  MAX {X_train.max()}\")\n",
    "        print(f\"VAL valor MIN {X_val.min()}  MAX {X_val.max()}\")\n",
    "\n",
    "        # Instantiate MinMaxScaler\n",
    "        sc = MinMaxScaler()\n",
    "\n",
    "        # Scale train data\n",
    "        X_train = sc.fit_transform(X_train)\n",
    "\n",
    "        # scale validation data\n",
    "        X_val = sc.transform(X_val)\n",
    "\n",
    "        # fin train data\n",
    "        model.fit(X_train, y_train)\n",
    "\n",
    "        # predict train data\n",
    "        y_pred_train = model.predict(X_train)\n",
    "\n",
    "        # predict validation data\n",
    "        y_pred_val = model.predict(X_val)\n",
    "\n",
    "        # Store metric\n",
    "        train_scores.append(metric(y_train, y_pred_train))\n",
    "        val_scores.append(metric(y_val, y_pred_val))\n",
    "\n",
    "        \n",
    "\n",
    "    print('CV mean train score: {0:.4f}, std: {1:.4f}.'.format(np.mean(train_scores), np.std(train_scores)))\n",
    "    print('CV mean validation score: {0:.4f}, std: {1:.4f}.'.format(np.mean(val_scores), np.std(val_scores)))\n",
    "    return train_scores, val_scores\n",
    "\n",
    "\n",
    "train_scores, val_scores = train_model(X_train, y_train, folds, knn, accuracy_score)"
   ]
  },
  {
   "cell_type": "code",
   "execution_count": 26,
   "metadata": {},
   "outputs": [
    {
     "data": {
      "text/plain": [
       "[0.92578125, 0.92578125, 0.92578125, 0.94140625, 0.91796875]"
      ]
     },
     "execution_count": 26,
     "metadata": {},
     "output_type": "execute_result"
    }
   ],
   "source": [
    "train_scores"
   ]
  },
  {
   "cell_type": "code",
   "execution_count": 72,
   "metadata": {},
   "outputs": [
    {
     "data": {
      "text/plain": [
       "list"
      ]
     },
     "execution_count": 72,
     "metadata": {},
     "output_type": "execute_result"
    }
   ],
   "source": [
    "type(train_scores)"
   ]
  },
  {
   "cell_type": "code",
   "execution_count": 27,
   "metadata": {},
   "outputs": [
    {
     "data": {
      "text/plain": [
       "[0.921875, 0.921875, 0.9375, 0.875, 0.890625]"
      ]
     },
     "execution_count": 27,
     "metadata": {},
     "output_type": "execute_result"
    }
   ],
   "source": [
    "val_scores"
   ]
  },
  {
   "cell_type": "markdown",
   "metadata": {},
   "source": [
    "Our KNN baseline is ready, it will serve as reference for tuture improvements."
   ]
  },
  {
   "cell_type": "markdown",
   "metadata": {},
   "source": [
    "## Measures of distance\n",
    "\n",
    "<img src=\"images/9_distance_metrics.png\" width=\"600px\" text=\"https://towardsdatascience.com/9-distance-measures-in-data-science-918109d069fa\">\n",
    "\n",
    "### Distância euclidiana\n",
    "$$ D(x,y) = \\sqrt{\\sum_{i=1}^{n}{(x_i - y_i)^2}}$$\n",
    "__Vantagens:__\n",
    "- Muito fácil de entender e aplicar\n",
    "- É a menor distância entre dois pontos em um plano cartesiano\n",
    "- Tem resultados muito bons em dados com baixa dimensionalidade e quando a magnitude do vetor é importante\n",
    "\n",
    "__Desvantagens:__\n",
    "- Não é invariante à escala\n",
    "- Quanto maior a dimensionalidade dos seus dados, menos útil é essa distância (Maldição da Dimensionalidade)\n",
    "- Não é recomendada quando o dataset possui atributos discretos e/ou binários\n",
    "\n",
    "### Distância de Manhattan \n",
    "$$ D(x,y) = \\sum_{i=1}^{n}{|x_i - y_i|}$$\n",
    "__Vantagens:__\n",
    "- Utilizada quando podemos apenas se mover em ângulos de 90º como em um tabuleiro de xadrez ou uma cidade. Nesse caso, não há movimentação na diagonal\n",
    "- Não sofre com a maldição da dimensionalidade\n",
    "- Quando o dataset possui atributos discretos e/ou binários\n",
    "\n",
    "__Desvantagens:__\n",
    "- É menos intuitiva, principalmente em grandes dimensões\n",
    "- Fornece distâncias maiores que a Euclidiana (não necessariamente ruim)\n",
    "\n",
    "### Distância de Minkowski\n",
    "$$ D(x,y) = \\begin{pmatrix}\\sum_{i=1}^{n}{|x_i - y_i|^p}\\end{pmatrix}^{1/p}$$\n",
    "\n",
    "- p=1 — Distância de Manhattan\n",
    "- p=2 — Distância euclidiana\n",
    "- p=∞ — Distância de Chebyshev\n",
    "\n",
    "<img src=\"images/distance.jpg\" width=\"600px\" text=\"https://iq.opengenus.org/euclidean-vs-manhattan-vs-chebyshev-distance/\">\n",
    "\n",
    "## Maldição da Dimensionalidade\n",
    "<img src=\"images/The-effect-of-the-curse-of-dimensionality-when-projected-in-1-one-dimension-2-two.png\" width=\"600px\" text=\"www.researchgate.net/figure/The-effect-of-the-curse-of-dimensionality-when-projected-in-1-one-dimension-2-two_fig3_342638066\">\n",
    "\n",
    "<img src=\"images/maldição.png\" width=\"600px\" text=\"https://iq.opengenus.org/euclidean-vs-manhattan-vs-chebyshev-distance/Elements of Statistical Learnings. You can freely and legally download a .pdf here http://www-stat.stanford.edu/~tibs/ElemStatLearn/\">"
   ]
  },
  {
   "cell_type": "markdown",
   "metadata": {},
   "source": [
    "## Improvements:\n",
    "- Define a better value for k\n",
    "\n",
    "<img src=\"https://images.squarespace-cdn.com/content/v1/5d782753c70af105c29a9b14/1580261947016-XODPUVKWPGGMJJMAXSNF/Screen+Shot+2020-01-28+at+8.38.55+PM.png?format=1500w\" width=600>\n",
    "\n",
    "<img src=\"https://nickmccullum.com/images/python-machine-learning/introduction-k-nearest-neighbors/k-value-error-rates.png\" width=600>\n",
    "\n",
    "- Define the best distance metric\n",
    "- Apply higher weight for closer poits\n",
    "- Apply higher weight for more important features\n",
    "- Balance classes\n",
    "- Choose a better metric for unbalanced data"
   ]
  },
  {
   "cell_type": "markdown",
   "metadata": {},
   "source": [
    "## Notes about KNN:\n",
    "\n",
    "- It is a superviser algorythm (needs a target feature)\n",
    "- It's a lazy algorythm (makes all calculations during test)\n",
    "\n",
    "#### Pros \n",
    "\n",
    "1. Can be used for regression and classification\n",
    "2. It's simple to apply\n",
    "3. More complex models, like Neural Networks need a huge amount of data to train\n",
    "4. Few hyperparameters (n_neighbors, distance metric, weight)\n",
    "5. Quick to fit the model, because it stores data in RAM\n",
    "6. Easy to interpret\n",
    "7. It's learning metht is non linear, this means that it does not use hyperplans to split data\n",
    "8. Can be used with small datasets\n",
    "9. Outliers are not a problem in the training data, but can be a problem to predit.\n",
    "\n",
    "#### Cons\n",
    "\n",
    "1. Slow durint test, with high memory usage.\n",
    "2. Not recomended for big datasets because the time needed to compute all the distances between all the points..\n",
    "3. Important to scale data because it's a distance based algorythm.\n",
    "4. Highly unbalanced data results in the majority class dictating the pretictions (can be mitigated using class weight)\n",
    "5. Very sensitive to irrelevant features."
   ]
  },
  {
   "cell_type": "markdown",
   "metadata": {},
   "source": [
    "____________\n",
    "Special thanks to [Patricia](https://www.linkedin.com/in/patr%C3%ADcia-bongiovanni-catandi-13650ba1/) and [Kuma](https://www.linkedin.com/in/thiagokuma/) for the machine learning instruction at Let's Code.\n",
    "\n",
    "### Bibliography\n",
    "\n",
    "- https://www.slideshare.net/jorisschelfaut/knn-154482179\n",
    "- https://www.kaggle.com/rakeshrau/social-network-ads\n",
    "- https://realpython.com/knn-python/\n",
    "- https://cambridgecoding.wordpress.com/\n",
    "- https://www.cs.cornell.edu/courses/cs4780/2018fa/lectures/lecturenote02_kNN.html\n",
    "\n",
    "### Articles to dig deeper\n",
    "\n",
    "- [KD-Tree](https://www.youtube.com/watch?v=Glp7THUpGow) <br>\n",
    "- [Maldição da dimensionalidade](https://www.youtube.com/watch?v=DyxQUHz4jWg) <br>\n",
    "- [KNN and High Dimensional Data](https://www.baeldung.com/cs/k-nearest-neighbors)\n",
    "- [Medidas de distância](https://towardsdatascience.com/9-distance-measures-in-data-science-918109d069fa)\n",
    "- [Why is Euclidean distance not a good metric in high dimensions?](https://stats.stackexchange.com/questions/99171/why-is-euclidean-distance-not-a-good-metric-in-high-dimensions)\n",
    "- [k-Nearest Neighbors (kNN) for anomaly detection](https://towardsdatascience.com/k-nearest-neighbors-knn-for-anomaly-detection-fdf8ee160d13)\n",
    "- [Mahalanobis Distance](https://blogs.sas.com/content/iml/2012/02/15/what-is-mahalanobis-distance.html)\n",
    "- [Elements of Statistical Learnings. You can freely and legally download a .pdf here](http://www-stat.stanford.edu/~tibs/ElemStatLearn/)\n",
    "- [Nearest Neighbor Algorithms](https://scikit-learn.org/stable/modules/neighbors.html#nearest-neighbor-algorithms)\n",
    "- [Artigo: Effects of Distance Measure Choice on KNN Classifier Performance - A Review](https://arxiv.org/pdf/1708.04321.pdf)\n",
    "- (https://www.datasklr.com/select-classification-methods/k-nearest-neighbors)### Material de Aprofundamento\n",
    "- [KD-Tree](https://www.youtube.com/watch?v=Glp7THUpGow) <br>\n",
    "- [Maldição da dimensionalidade](https://www.youtube.com/watch?v=DyxQUHz4jWg) <br>\n",
    "- [KNN and High Dimensional Data](https://www.baeldung.com/cs/k-nearest-neighbors)\n",
    "- [Medidas de distância](https://towardsdatascience.com/9-distance-measures-in-data-science-918109d069fa)\n",
    "- [Why is Euclidean distance not a good metric in high dimensions?](https://stats.stackexchange.com/questions/99171/why-is-euclidean-distance-not-a-good-metric-in-high-dimensions)\n",
    "- [k-Nearest Neighbors (kNN) for anomaly detection](https://towardsdatascience.com/k-nearest-neighbors-knn-for-anomaly-detection-fdf8ee160d13)\n",
    "- [Mahalanobis Distance](https://blogs.sas.com/content/iml/2012/02/15/what-is-mahalanobis-distance.html)\n",
    "- [Elements of Statistical Learnings. You can freely and legally download a .pdf here](http://www-stat.stanford.edu/~tibs/ElemStatLearn/)\n",
    "- [Nearest Neighbor Algorithms](https://scikit-learn.org/stable/modules/neighbors.html#nearest-neighbor-algorithms)\n",
    "- [Artigo: Effects of Distance Measure Choice on KNN Classifier Performance - A Review](https://arxiv.org/pdf/1708.04321.pdf)\n",
    "- (https://www.datasklr.com/select-classification-methods/k-nearest-neighbors)"
   ]
  },
  {
   "cell_type": "markdown",
   "metadata": {
    "tags": []
   },
   "source": [
    "## Practice\n",
    "Use `breast_cancer.csv` to make a KNN baseline (no data processing or hyperparameter tuning) and apply improvements to the model."
   ]
  },
  {
   "cell_type": "markdown",
   "metadata": {},
   "source": [
    "# Breast Cancer"
   ]
  },
  {
   "cell_type": "code",
   "execution_count": 92,
   "metadata": {},
   "outputs": [],
   "source": [
    "import numpy as np\n",
    "import pandas as pd\n",
    "\n",
    "import matplotlib.pyplot as plt\n",
    "import seaborn as sns\n",
    "\n",
    "from sklearn.neighbors import KNeighborsClassifier\n",
    "from sklearn.model_selection import train_test_split\n",
    "from sklearn.model_selection import cross_validate, cross_val_score, StratifiedKFold\n",
    "from sklearn.preprocessing import StandardScaler, MinMaxScaler\n",
    "from sklearn.metrics import classification_report, confusion_matrix, get_scorer_names, accuracy_score, ConfusionMatrixDisplay"
   ]
  },
  {
   "cell_type": "code",
   "execution_count": 29,
   "metadata": {},
   "outputs": [],
   "source": [
    "# Read dataset\n",
    "from sklearn.datasets import load_breast_cancer\n",
    "X, y = load_breast_cancer(return_X_y=True, as_frame=True)"
   ]
  },
  {
   "cell_type": "markdown",
   "metadata": {},
   "source": [
    "#### Metadata"
   ]
  },
  {
   "cell_type": "markdown",
   "metadata": {},
   "source": [
    "### Look ate the data"
   ]
  },
  {
   "cell_type": "code",
   "execution_count": 30,
   "metadata": {},
   "outputs": [
    {
     "data": {
      "text/html": [
       "<div>\n",
       "<style scoped>\n",
       "    .dataframe tbody tr th:only-of-type {\n",
       "        vertical-align: middle;\n",
       "    }\n",
       "\n",
       "    .dataframe tbody tr th {\n",
       "        vertical-align: top;\n",
       "    }\n",
       "\n",
       "    .dataframe thead th {\n",
       "        text-align: right;\n",
       "    }\n",
       "</style>\n",
       "<table border=\"1\" class=\"dataframe\">\n",
       "  <thead>\n",
       "    <tr style=\"text-align: right;\">\n",
       "      <th></th>\n",
       "      <th>mean radius</th>\n",
       "      <th>mean texture</th>\n",
       "      <th>mean perimeter</th>\n",
       "      <th>mean area</th>\n",
       "      <th>mean smoothness</th>\n",
       "      <th>mean compactness</th>\n",
       "      <th>mean concavity</th>\n",
       "      <th>mean concave points</th>\n",
       "      <th>mean symmetry</th>\n",
       "      <th>mean fractal dimension</th>\n",
       "      <th>...</th>\n",
       "      <th>worst radius</th>\n",
       "      <th>worst texture</th>\n",
       "      <th>worst perimeter</th>\n",
       "      <th>worst area</th>\n",
       "      <th>worst smoothness</th>\n",
       "      <th>worst compactness</th>\n",
       "      <th>worst concavity</th>\n",
       "      <th>worst concave points</th>\n",
       "      <th>worst symmetry</th>\n",
       "      <th>worst fractal dimension</th>\n",
       "    </tr>\n",
       "  </thead>\n",
       "  <tbody>\n",
       "    <tr>\n",
       "      <th>0</th>\n",
       "      <td>17.99</td>\n",
       "      <td>10.38</td>\n",
       "      <td>122.80</td>\n",
       "      <td>1001.0</td>\n",
       "      <td>0.11840</td>\n",
       "      <td>0.27760</td>\n",
       "      <td>0.3001</td>\n",
       "      <td>0.14710</td>\n",
       "      <td>0.2419</td>\n",
       "      <td>0.07871</td>\n",
       "      <td>...</td>\n",
       "      <td>25.38</td>\n",
       "      <td>17.33</td>\n",
       "      <td>184.60</td>\n",
       "      <td>2019.0</td>\n",
       "      <td>0.1622</td>\n",
       "      <td>0.6656</td>\n",
       "      <td>0.7119</td>\n",
       "      <td>0.2654</td>\n",
       "      <td>0.4601</td>\n",
       "      <td>0.11890</td>\n",
       "    </tr>\n",
       "    <tr>\n",
       "      <th>1</th>\n",
       "      <td>20.57</td>\n",
       "      <td>17.77</td>\n",
       "      <td>132.90</td>\n",
       "      <td>1326.0</td>\n",
       "      <td>0.08474</td>\n",
       "      <td>0.07864</td>\n",
       "      <td>0.0869</td>\n",
       "      <td>0.07017</td>\n",
       "      <td>0.1812</td>\n",
       "      <td>0.05667</td>\n",
       "      <td>...</td>\n",
       "      <td>24.99</td>\n",
       "      <td>23.41</td>\n",
       "      <td>158.80</td>\n",
       "      <td>1956.0</td>\n",
       "      <td>0.1238</td>\n",
       "      <td>0.1866</td>\n",
       "      <td>0.2416</td>\n",
       "      <td>0.1860</td>\n",
       "      <td>0.2750</td>\n",
       "      <td>0.08902</td>\n",
       "    </tr>\n",
       "    <tr>\n",
       "      <th>2</th>\n",
       "      <td>19.69</td>\n",
       "      <td>21.25</td>\n",
       "      <td>130.00</td>\n",
       "      <td>1203.0</td>\n",
       "      <td>0.10960</td>\n",
       "      <td>0.15990</td>\n",
       "      <td>0.1974</td>\n",
       "      <td>0.12790</td>\n",
       "      <td>0.2069</td>\n",
       "      <td>0.05999</td>\n",
       "      <td>...</td>\n",
       "      <td>23.57</td>\n",
       "      <td>25.53</td>\n",
       "      <td>152.50</td>\n",
       "      <td>1709.0</td>\n",
       "      <td>0.1444</td>\n",
       "      <td>0.4245</td>\n",
       "      <td>0.4504</td>\n",
       "      <td>0.2430</td>\n",
       "      <td>0.3613</td>\n",
       "      <td>0.08758</td>\n",
       "    </tr>\n",
       "    <tr>\n",
       "      <th>3</th>\n",
       "      <td>11.42</td>\n",
       "      <td>20.38</td>\n",
       "      <td>77.58</td>\n",
       "      <td>386.1</td>\n",
       "      <td>0.14250</td>\n",
       "      <td>0.28390</td>\n",
       "      <td>0.2414</td>\n",
       "      <td>0.10520</td>\n",
       "      <td>0.2597</td>\n",
       "      <td>0.09744</td>\n",
       "      <td>...</td>\n",
       "      <td>14.91</td>\n",
       "      <td>26.50</td>\n",
       "      <td>98.87</td>\n",
       "      <td>567.7</td>\n",
       "      <td>0.2098</td>\n",
       "      <td>0.8663</td>\n",
       "      <td>0.6869</td>\n",
       "      <td>0.2575</td>\n",
       "      <td>0.6638</td>\n",
       "      <td>0.17300</td>\n",
       "    </tr>\n",
       "    <tr>\n",
       "      <th>4</th>\n",
       "      <td>20.29</td>\n",
       "      <td>14.34</td>\n",
       "      <td>135.10</td>\n",
       "      <td>1297.0</td>\n",
       "      <td>0.10030</td>\n",
       "      <td>0.13280</td>\n",
       "      <td>0.1980</td>\n",
       "      <td>0.10430</td>\n",
       "      <td>0.1809</td>\n",
       "      <td>0.05883</td>\n",
       "      <td>...</td>\n",
       "      <td>22.54</td>\n",
       "      <td>16.67</td>\n",
       "      <td>152.20</td>\n",
       "      <td>1575.0</td>\n",
       "      <td>0.1374</td>\n",
       "      <td>0.2050</td>\n",
       "      <td>0.4000</td>\n",
       "      <td>0.1625</td>\n",
       "      <td>0.2364</td>\n",
       "      <td>0.07678</td>\n",
       "    </tr>\n",
       "  </tbody>\n",
       "</table>\n",
       "<p>5 rows × 30 columns</p>\n",
       "</div>"
      ],
      "text/plain": [
       "   mean radius  mean texture  mean perimeter  mean area  mean smoothness  \\\n",
       "0        17.99         10.38          122.80     1001.0          0.11840   \n",
       "1        20.57         17.77          132.90     1326.0          0.08474   \n",
       "2        19.69         21.25          130.00     1203.0          0.10960   \n",
       "3        11.42         20.38           77.58      386.1          0.14250   \n",
       "4        20.29         14.34          135.10     1297.0          0.10030   \n",
       "\n",
       "   mean compactness  mean concavity  mean concave points  mean symmetry  \\\n",
       "0           0.27760          0.3001              0.14710         0.2419   \n",
       "1           0.07864          0.0869              0.07017         0.1812   \n",
       "2           0.15990          0.1974              0.12790         0.2069   \n",
       "3           0.28390          0.2414              0.10520         0.2597   \n",
       "4           0.13280          0.1980              0.10430         0.1809   \n",
       "\n",
       "   mean fractal dimension  ...  worst radius  worst texture  worst perimeter  \\\n",
       "0                 0.07871  ...         25.38          17.33           184.60   \n",
       "1                 0.05667  ...         24.99          23.41           158.80   \n",
       "2                 0.05999  ...         23.57          25.53           152.50   \n",
       "3                 0.09744  ...         14.91          26.50            98.87   \n",
       "4                 0.05883  ...         22.54          16.67           152.20   \n",
       "\n",
       "   worst area  worst smoothness  worst compactness  worst concavity  \\\n",
       "0      2019.0            0.1622             0.6656           0.7119   \n",
       "1      1956.0            0.1238             0.1866           0.2416   \n",
       "2      1709.0            0.1444             0.4245           0.4504   \n",
       "3       567.7            0.2098             0.8663           0.6869   \n",
       "4      1575.0            0.1374             0.2050           0.4000   \n",
       "\n",
       "   worst concave points  worst symmetry  worst fractal dimension  \n",
       "0                0.2654          0.4601                  0.11890  \n",
       "1                0.1860          0.2750                  0.08902  \n",
       "2                0.2430          0.3613                  0.08758  \n",
       "3                0.2575          0.6638                  0.17300  \n",
       "4                0.1625          0.2364                  0.07678  \n",
       "\n",
       "[5 rows x 30 columns]"
      ]
     },
     "execution_count": 30,
     "metadata": {},
     "output_type": "execute_result"
    }
   ],
   "source": [
    "X.head()"
   ]
  },
  {
   "cell_type": "code",
   "execution_count": 31,
   "metadata": {},
   "outputs": [
    {
     "name": "stdout",
     "output_type": "stream",
     "text": [
      "<class 'pandas.core.frame.DataFrame'>\n",
      "RangeIndex: 569 entries, 0 to 568\n",
      "Data columns (total 30 columns):\n",
      " #   Column                   Non-Null Count  Dtype  \n",
      "---  ------                   --------------  -----  \n",
      " 0   mean radius              569 non-null    float64\n",
      " 1   mean texture             569 non-null    float64\n",
      " 2   mean perimeter           569 non-null    float64\n",
      " 3   mean area                569 non-null    float64\n",
      " 4   mean smoothness          569 non-null    float64\n",
      " 5   mean compactness         569 non-null    float64\n",
      " 6   mean concavity           569 non-null    float64\n",
      " 7   mean concave points      569 non-null    float64\n",
      " 8   mean symmetry            569 non-null    float64\n",
      " 9   mean fractal dimension   569 non-null    float64\n",
      " 10  radius error             569 non-null    float64\n",
      " 11  texture error            569 non-null    float64\n",
      " 12  perimeter error          569 non-null    float64\n",
      " 13  area error               569 non-null    float64\n",
      " 14  smoothness error         569 non-null    float64\n",
      " 15  compactness error        569 non-null    float64\n",
      " 16  concavity error          569 non-null    float64\n",
      " 17  concave points error     569 non-null    float64\n",
      " 18  symmetry error           569 non-null    float64\n",
      " 19  fractal dimension error  569 non-null    float64\n",
      " 20  worst radius             569 non-null    float64\n",
      " 21  worst texture            569 non-null    float64\n",
      " 22  worst perimeter          569 non-null    float64\n",
      " 23  worst area               569 non-null    float64\n",
      " 24  worst smoothness         569 non-null    float64\n",
      " 25  worst compactness        569 non-null    float64\n",
      " 26  worst concavity          569 non-null    float64\n",
      " 27  worst concave points     569 non-null    float64\n",
      " 28  worst symmetry           569 non-null    float64\n",
      " 29  worst fractal dimension  569 non-null    float64\n",
      "dtypes: float64(30)\n",
      "memory usage: 133.5 KB\n"
     ]
    }
   ],
   "source": [
    "X.info()"
   ]
  },
  {
   "cell_type": "code",
   "execution_count": 32,
   "metadata": {},
   "outputs": [
    {
     "data": {
      "text/plain": [
       "1    357\n",
       "0    212\n",
       "Name: target, dtype: int64"
      ]
     },
     "execution_count": 32,
     "metadata": {},
     "output_type": "execute_result"
    }
   ],
   "source": [
    "y.value_counts()"
   ]
  },
  {
   "cell_type": "code",
   "execution_count": 33,
   "metadata": {},
   "outputs": [
    {
     "data": {
      "text/plain": [
       "1    62.741652\n",
       "0    37.258348\n",
       "Name: target, dtype: float64"
      ]
     },
     "execution_count": 33,
     "metadata": {},
     "output_type": "execute_result"
    }
   ],
   "source": [
    "y.value_counts(normalize=True)*100"
   ]
  },
  {
   "cell_type": "markdown",
   "metadata": {},
   "source": [
    "The target class proportion is in the order of $60pct == 1$ and $40pct == 0$. I considerer this to be a balanced dataset."
   ]
  },
  {
   "cell_type": "code",
   "execution_count": 34,
   "metadata": {},
   "outputs": [
    {
     "data": {
      "text/plain": [
       "Series([], dtype: int64)"
      ]
     },
     "execution_count": 34,
     "metadata": {},
     "output_type": "execute_result"
    }
   ],
   "source": [
    "# check for missing and NAN\n",
    "nulls = X.isnull().sum()\n",
    "nulls[nulls>0]"
   ]
  },
  {
   "cell_type": "code",
   "execution_count": 35,
   "metadata": {},
   "outputs": [
    {
     "data": {
      "text/plain": [
       "Series([], dtype: float64)"
      ]
     },
     "execution_count": 35,
     "metadata": {},
     "output_type": "execute_result"
    }
   ],
   "source": [
    "# check for missing data\n",
    "(nulls[nulls>0]/X.shape[0])*100"
   ]
  },
  {
   "cell_type": "markdown",
   "metadata": {},
   "source": [
    "All features are numeric features and there are no nulls or nans."
   ]
  },
  {
   "cell_type": "markdown",
   "metadata": {},
   "source": [
    "# What is this step called?"
   ]
  },
  {
   "cell_type": "code",
   "execution_count": 102,
   "metadata": {},
   "outputs": [],
   "source": [
    "# split data\n",
    "X_train, X_test, y_train, y_test = train_test_split(\n",
    "    X, y, test_size=0.2, shuffle=True, random_state=42)"
   ]
  },
  {
   "cell_type": "code",
   "execution_count": 103,
   "metadata": {},
   "outputs": [
    {
     "data": {
      "text/html": [
       "<div>\n",
       "<style scoped>\n",
       "    .dataframe tbody tr th:only-of-type {\n",
       "        vertical-align: middle;\n",
       "    }\n",
       "\n",
       "    .dataframe tbody tr th {\n",
       "        vertical-align: top;\n",
       "    }\n",
       "\n",
       "    .dataframe thead th {\n",
       "        text-align: right;\n",
       "    }\n",
       "</style>\n",
       "<table border=\"1\" class=\"dataframe\">\n",
       "  <thead>\n",
       "    <tr style=\"text-align: right;\">\n",
       "      <th></th>\n",
       "      <th>mean radius</th>\n",
       "      <th>mean texture</th>\n",
       "      <th>mean perimeter</th>\n",
       "      <th>mean area</th>\n",
       "      <th>mean smoothness</th>\n",
       "      <th>mean compactness</th>\n",
       "      <th>mean concavity</th>\n",
       "      <th>mean concave points</th>\n",
       "      <th>mean symmetry</th>\n",
       "      <th>mean fractal dimension</th>\n",
       "      <th>...</th>\n",
       "      <th>worst radius</th>\n",
       "      <th>worst texture</th>\n",
       "      <th>worst perimeter</th>\n",
       "      <th>worst area</th>\n",
       "      <th>worst smoothness</th>\n",
       "      <th>worst compactness</th>\n",
       "      <th>worst concavity</th>\n",
       "      <th>worst concave points</th>\n",
       "      <th>worst symmetry</th>\n",
       "      <th>worst fractal dimension</th>\n",
       "    </tr>\n",
       "  </thead>\n",
       "  <tbody>\n",
       "    <tr>\n",
       "      <th>68</th>\n",
       "      <td>9.029</td>\n",
       "      <td>17.33</td>\n",
       "      <td>58.79</td>\n",
       "      <td>250.5</td>\n",
       "      <td>0.10660</td>\n",
       "      <td>0.14130</td>\n",
       "      <td>0.31300</td>\n",
       "      <td>0.04375</td>\n",
       "      <td>0.2111</td>\n",
       "      <td>0.08046</td>\n",
       "      <td>...</td>\n",
       "      <td>10.31</td>\n",
       "      <td>22.65</td>\n",
       "      <td>65.50</td>\n",
       "      <td>324.7</td>\n",
       "      <td>0.14820</td>\n",
       "      <td>0.43650</td>\n",
       "      <td>1.25200</td>\n",
       "      <td>0.17500</td>\n",
       "      <td>0.4228</td>\n",
       "      <td>0.11750</td>\n",
       "    </tr>\n",
       "    <tr>\n",
       "      <th>181</th>\n",
       "      <td>21.090</td>\n",
       "      <td>26.57</td>\n",
       "      <td>142.70</td>\n",
       "      <td>1311.0</td>\n",
       "      <td>0.11410</td>\n",
       "      <td>0.28320</td>\n",
       "      <td>0.24870</td>\n",
       "      <td>0.14960</td>\n",
       "      <td>0.2395</td>\n",
       "      <td>0.07398</td>\n",
       "      <td>...</td>\n",
       "      <td>26.68</td>\n",
       "      <td>33.48</td>\n",
       "      <td>176.50</td>\n",
       "      <td>2089.0</td>\n",
       "      <td>0.14910</td>\n",
       "      <td>0.75840</td>\n",
       "      <td>0.67800</td>\n",
       "      <td>0.29030</td>\n",
       "      <td>0.4098</td>\n",
       "      <td>0.12840</td>\n",
       "    </tr>\n",
       "    <tr>\n",
       "      <th>63</th>\n",
       "      <td>9.173</td>\n",
       "      <td>13.86</td>\n",
       "      <td>59.20</td>\n",
       "      <td>260.9</td>\n",
       "      <td>0.07721</td>\n",
       "      <td>0.08751</td>\n",
       "      <td>0.05988</td>\n",
       "      <td>0.02180</td>\n",
       "      <td>0.2341</td>\n",
       "      <td>0.06963</td>\n",
       "      <td>...</td>\n",
       "      <td>10.01</td>\n",
       "      <td>19.23</td>\n",
       "      <td>65.59</td>\n",
       "      <td>310.1</td>\n",
       "      <td>0.09836</td>\n",
       "      <td>0.16780</td>\n",
       "      <td>0.13970</td>\n",
       "      <td>0.05087</td>\n",
       "      <td>0.3282</td>\n",
       "      <td>0.08490</td>\n",
       "    </tr>\n",
       "    <tr>\n",
       "      <th>248</th>\n",
       "      <td>10.650</td>\n",
       "      <td>25.22</td>\n",
       "      <td>68.01</td>\n",
       "      <td>347.0</td>\n",
       "      <td>0.09657</td>\n",
       "      <td>0.07234</td>\n",
       "      <td>0.02379</td>\n",
       "      <td>0.01615</td>\n",
       "      <td>0.1897</td>\n",
       "      <td>0.06329</td>\n",
       "      <td>...</td>\n",
       "      <td>12.25</td>\n",
       "      <td>35.19</td>\n",
       "      <td>77.98</td>\n",
       "      <td>455.7</td>\n",
       "      <td>0.14990</td>\n",
       "      <td>0.13980</td>\n",
       "      <td>0.11250</td>\n",
       "      <td>0.06136</td>\n",
       "      <td>0.3409</td>\n",
       "      <td>0.08147</td>\n",
       "    </tr>\n",
       "    <tr>\n",
       "      <th>60</th>\n",
       "      <td>10.170</td>\n",
       "      <td>14.88</td>\n",
       "      <td>64.55</td>\n",
       "      <td>311.9</td>\n",
       "      <td>0.11340</td>\n",
       "      <td>0.08061</td>\n",
       "      <td>0.01084</td>\n",
       "      <td>0.01290</td>\n",
       "      <td>0.2743</td>\n",
       "      <td>0.06960</td>\n",
       "      <td>...</td>\n",
       "      <td>11.02</td>\n",
       "      <td>17.45</td>\n",
       "      <td>69.86</td>\n",
       "      <td>368.6</td>\n",
       "      <td>0.12750</td>\n",
       "      <td>0.09866</td>\n",
       "      <td>0.02168</td>\n",
       "      <td>0.02579</td>\n",
       "      <td>0.3557</td>\n",
       "      <td>0.08020</td>\n",
       "    </tr>\n",
       "  </tbody>\n",
       "</table>\n",
       "<p>5 rows × 30 columns</p>\n",
       "</div>"
      ],
      "text/plain": [
       "     mean radius  mean texture  mean perimeter  mean area  mean smoothness  \\\n",
       "68         9.029         17.33           58.79      250.5          0.10660   \n",
       "181       21.090         26.57          142.70     1311.0          0.11410   \n",
       "63         9.173         13.86           59.20      260.9          0.07721   \n",
       "248       10.650         25.22           68.01      347.0          0.09657   \n",
       "60        10.170         14.88           64.55      311.9          0.11340   \n",
       "\n",
       "     mean compactness  mean concavity  mean concave points  mean symmetry  \\\n",
       "68            0.14130         0.31300              0.04375         0.2111   \n",
       "181           0.28320         0.24870              0.14960         0.2395   \n",
       "63            0.08751         0.05988              0.02180         0.2341   \n",
       "248           0.07234         0.02379              0.01615         0.1897   \n",
       "60            0.08061         0.01084              0.01290         0.2743   \n",
       "\n",
       "     mean fractal dimension  ...  worst radius  worst texture  \\\n",
       "68                  0.08046  ...         10.31          22.65   \n",
       "181                 0.07398  ...         26.68          33.48   \n",
       "63                  0.06963  ...         10.01          19.23   \n",
       "248                 0.06329  ...         12.25          35.19   \n",
       "60                  0.06960  ...         11.02          17.45   \n",
       "\n",
       "     worst perimeter  worst area  worst smoothness  worst compactness  \\\n",
       "68             65.50       324.7           0.14820            0.43650   \n",
       "181           176.50      2089.0           0.14910            0.75840   \n",
       "63             65.59       310.1           0.09836            0.16780   \n",
       "248            77.98       455.7           0.14990            0.13980   \n",
       "60             69.86       368.6           0.12750            0.09866   \n",
       "\n",
       "     worst concavity  worst concave points  worst symmetry  \\\n",
       "68           1.25200               0.17500          0.4228   \n",
       "181          0.67800               0.29030          0.4098   \n",
       "63           0.13970               0.05087          0.3282   \n",
       "248          0.11250               0.06136          0.3409   \n",
       "60           0.02168               0.02579          0.3557   \n",
       "\n",
       "     worst fractal dimension  \n",
       "68                   0.11750  \n",
       "181                  0.12840  \n",
       "63                   0.08490  \n",
       "248                  0.08147  \n",
       "60                   0.08020  \n",
       "\n",
       "[5 rows x 30 columns]"
      ]
     },
     "execution_count": 103,
     "metadata": {},
     "output_type": "execute_result"
    }
   ],
   "source": [
    "X_train.head()"
   ]
  },
  {
   "cell_type": "markdown",
   "metadata": {},
   "source": [
    "# Cross Validate"
   ]
  },
  {
   "cell_type": "code",
   "execution_count": 104,
   "metadata": {},
   "outputs": [
    {
     "name": "stdout",
     "output_type": "stream",
     "text": [
      "Split:  0\n",
      "TREINO valor MIN 0.0  MAX 3234.0\n",
      "VAL valor MIN 0.0  MAX 4254.0\n",
      "Split:  1\n",
      "TREINO valor MIN 0.0  MAX 4254.0\n",
      "VAL valor MIN 0.0  MAX 3216.0\n",
      "Split:  2\n",
      "TREINO valor MIN 0.0  MAX 4254.0\n",
      "VAL valor MIN 0.0  MAX 2398.0\n",
      "Split:  3\n",
      "TREINO valor MIN 0.0  MAX 4254.0\n",
      "VAL valor MIN 0.0  MAX 2499.0\n",
      "Split:  4\n",
      "TREINO valor MIN 0.0  MAX 4254.0\n",
      "VAL valor MIN 0.0  MAX 3234.0\n",
      "CV mean train score: 0.9868, std: 0.0032.\n",
      "CV mean validation score: 0.9473, std: 0.0189.\n"
     ]
    }
   ],
   "source": [
    "# 5 folds\n",
    "kf5 = StratifiedKFold(n_splits=5, shuffle=True, random_state=42)\n",
    "\n",
    "# classification metric\n",
    "scoring = ['accuracy_score']\n",
    "\n",
    "# estimator\n",
    "knn = KNeighborsClassifier(n_neighbors=2)\n",
    "\n",
    "def train_model(X, y, folds, model, metric):\n",
    "    '''\n",
    "    Train and return accuracy score for each fold.\n",
    "    '''\n",
    "    train_scores=[]\n",
    "    val_scores=[]\n",
    "\n",
    "    # Check if it's a np array\n",
    "    if not isinstance(y, np.ndarray):\n",
    "        y = np.array(y).ravel()\n",
    "    if not isinstance(X, np.ndarray):\n",
    "        X = np.array(X)\n",
    "    \n",
    "    for n_fold, (train_index, valid_index) in enumerate(folds.split(X, y)):\n",
    "        # Select train and validation data (necessary when not using a pipeline)\n",
    "        X_train, X_val = X[train_index], X[valid_index]\n",
    "        y_train, y_val = y[train_index], y[valid_index]\n",
    "\n",
    "        # Print Min and Max in the training and validation dataset\n",
    "        print(\"Split: \", n_fold)\n",
    "        print(f\"TREINO valor MIN {X_train.min()}  MAX {X_train.max()}\")\n",
    "        print(f\"VAL valor MIN {X_val.min()}  MAX {X_val.max()}\")\n",
    "\n",
    "        # Instantiate MinMaxScaler\n",
    "        sc = MinMaxScaler()\n",
    "\n",
    "        # Scale train data\n",
    "        X_train = sc.fit_transform(X_train)\n",
    "\n",
    "        # scale validation data\n",
    "        X_val = sc.transform(X_val)\n",
    "\n",
    "        # fin train data\n",
    "        model.fit(X_train, y_train)\n",
    "\n",
    "        # predict train data\n",
    "        y_pred_train = model.predict(X_train)\n",
    "\n",
    "        # predict validation data\n",
    "        y_pred_val = model.predict(X_val)\n",
    "\n",
    "        # Store metric\n",
    "        train_scores.append(metric(y_train, y_pred_train))\n",
    "        val_scores.append(metric(y_val, y_pred_val))\n",
    "\n",
    "        \n",
    "\n",
    "    print('CV mean train score: {0:.4f}, std: {1:.4f}.'.format(np.mean(train_scores), np.std(train_scores)))\n",
    "    print('CV mean validation score: {0:.4f}, std: {1:.4f}.'.format(np.mean(val_scores), np.std(val_scores)))\n",
    "    return train_scores, val_scores\n",
    "\n",
    "\n",
    "train_scores, val_scores = train_model(X_train, y_train, folds, knn, accuracy_score)"
   ]
  },
  {
   "cell_type": "code",
   "execution_count": 105,
   "metadata": {},
   "outputs": [
    {
     "data": {
      "text/plain": [
       "[0.9807692307692307,\n",
       " 0.9862637362637363,\n",
       " 0.989010989010989,\n",
       " 0.989010989010989,\n",
       " 0.989010989010989]"
      ]
     },
     "execution_count": 105,
     "metadata": {},
     "output_type": "execute_result"
    }
   ],
   "source": [
    "train_scores"
   ]
  },
  {
   "cell_type": "code",
   "execution_count": 106,
   "metadata": {},
   "outputs": [],
   "source": [
    "train_score_df = pd.DataFrame(train_scores)"
   ]
  },
  {
   "cell_type": "code",
   "execution_count": 107,
   "metadata": {},
   "outputs": [
    {
     "data": {
      "text/html": [
       "<div>\n",
       "<style scoped>\n",
       "    .dataframe tbody tr th:only-of-type {\n",
       "        vertical-align: middle;\n",
       "    }\n",
       "\n",
       "    .dataframe tbody tr th {\n",
       "        vertical-align: top;\n",
       "    }\n",
       "\n",
       "    .dataframe thead th {\n",
       "        text-align: right;\n",
       "    }\n",
       "</style>\n",
       "<table border=\"1\" class=\"dataframe\">\n",
       "  <thead>\n",
       "    <tr style=\"text-align: right;\">\n",
       "      <th></th>\n",
       "      <th>0</th>\n",
       "    </tr>\n",
       "  </thead>\n",
       "  <tbody>\n",
       "    <tr>\n",
       "      <th>count</th>\n",
       "      <td>5.000000</td>\n",
       "    </tr>\n",
       "    <tr>\n",
       "      <th>mean</th>\n",
       "      <td>0.986813</td>\n",
       "    </tr>\n",
       "    <tr>\n",
       "      <th>std</th>\n",
       "      <td>0.003582</td>\n",
       "    </tr>\n",
       "    <tr>\n",
       "      <th>min</th>\n",
       "      <td>0.980769</td>\n",
       "    </tr>\n",
       "    <tr>\n",
       "      <th>25%</th>\n",
       "      <td>0.986264</td>\n",
       "    </tr>\n",
       "    <tr>\n",
       "      <th>50%</th>\n",
       "      <td>0.989011</td>\n",
       "    </tr>\n",
       "    <tr>\n",
       "      <th>75%</th>\n",
       "      <td>0.989011</td>\n",
       "    </tr>\n",
       "    <tr>\n",
       "      <th>max</th>\n",
       "      <td>0.989011</td>\n",
       "    </tr>\n",
       "  </tbody>\n",
       "</table>\n",
       "</div>"
      ],
      "text/plain": [
       "              0\n",
       "count  5.000000\n",
       "mean   0.986813\n",
       "std    0.003582\n",
       "min    0.980769\n",
       "25%    0.986264\n",
       "50%    0.989011\n",
       "75%    0.989011\n",
       "max    0.989011"
      ]
     },
     "execution_count": 107,
     "metadata": {},
     "output_type": "execute_result"
    }
   ],
   "source": [
    "train_score_df.describe()"
   ]
  },
  {
   "cell_type": "code",
   "execution_count": 108,
   "metadata": {},
   "outputs": [
    {
     "data": {
      "text/plain": [
       "[0.967032967032967,\n",
       " 0.9560439560439561,\n",
       " 0.9120879120879121,\n",
       " 0.9560439560439561,\n",
       " 0.945054945054945]"
      ]
     },
     "execution_count": 108,
     "metadata": {},
     "output_type": "execute_result"
    }
   ],
   "source": [
    "val_scores"
   ]
  },
  {
   "cell_type": "code",
   "execution_count": 109,
   "metadata": {},
   "outputs": [],
   "source": [
    "val_scores_df = pd.DataFrame(val_scores)"
   ]
  },
  {
   "cell_type": "code",
   "execution_count": 110,
   "metadata": {},
   "outputs": [
    {
     "data": {
      "text/html": [
       "<div>\n",
       "<style scoped>\n",
       "    .dataframe tbody tr th:only-of-type {\n",
       "        vertical-align: middle;\n",
       "    }\n",
       "\n",
       "    .dataframe tbody tr th {\n",
       "        vertical-align: top;\n",
       "    }\n",
       "\n",
       "    .dataframe thead th {\n",
       "        text-align: right;\n",
       "    }\n",
       "</style>\n",
       "<table border=\"1\" class=\"dataframe\">\n",
       "  <thead>\n",
       "    <tr style=\"text-align: right;\">\n",
       "      <th></th>\n",
       "      <th>0</th>\n",
       "    </tr>\n",
       "  </thead>\n",
       "  <tbody>\n",
       "    <tr>\n",
       "      <th>count</th>\n",
       "      <td>5.000000</td>\n",
       "    </tr>\n",
       "    <tr>\n",
       "      <th>mean</th>\n",
       "      <td>0.947253</td>\n",
       "    </tr>\n",
       "    <tr>\n",
       "      <th>std</th>\n",
       "      <td>0.021138</td>\n",
       "    </tr>\n",
       "    <tr>\n",
       "      <th>min</th>\n",
       "      <td>0.912088</td>\n",
       "    </tr>\n",
       "    <tr>\n",
       "      <th>25%</th>\n",
       "      <td>0.945055</td>\n",
       "    </tr>\n",
       "    <tr>\n",
       "      <th>50%</th>\n",
       "      <td>0.956044</td>\n",
       "    </tr>\n",
       "    <tr>\n",
       "      <th>75%</th>\n",
       "      <td>0.956044</td>\n",
       "    </tr>\n",
       "    <tr>\n",
       "      <th>max</th>\n",
       "      <td>0.967033</td>\n",
       "    </tr>\n",
       "  </tbody>\n",
       "</table>\n",
       "</div>"
      ],
      "text/plain": [
       "              0\n",
       "count  5.000000\n",
       "mean   0.947253\n",
       "std    0.021138\n",
       "min    0.912088\n",
       "25%    0.945055\n",
       "50%    0.956044\n",
       "75%    0.956044\n",
       "max    0.967033"
      ]
     },
     "execution_count": 110,
     "metadata": {},
     "output_type": "execute_result"
    }
   ],
   "source": [
    "val_scores_df.describe()"
   ]
  },
  {
   "cell_type": "markdown",
   "metadata": {},
   "source": [
    "Satisfied with our cv results, it's time to train our model on the train data"
   ]
  },
  {
   "cell_type": "code",
   "execution_count": 111,
   "metadata": {},
   "outputs": [
    {
     "data": {
      "text/html": [
       "<style>#sk-container-id-3 {color: black;background-color: white;}#sk-container-id-3 pre{padding: 0;}#sk-container-id-3 div.sk-toggleable {background-color: white;}#sk-container-id-3 label.sk-toggleable__label {cursor: pointer;display: block;width: 100%;margin-bottom: 0;padding: 0.3em;box-sizing: border-box;text-align: center;}#sk-container-id-3 label.sk-toggleable__label-arrow:before {content: \"▸\";float: left;margin-right: 0.25em;color: #696969;}#sk-container-id-3 label.sk-toggleable__label-arrow:hover:before {color: black;}#sk-container-id-3 div.sk-estimator:hover label.sk-toggleable__label-arrow:before {color: black;}#sk-container-id-3 div.sk-toggleable__content {max-height: 0;max-width: 0;overflow: hidden;text-align: left;background-color: #f0f8ff;}#sk-container-id-3 div.sk-toggleable__content pre {margin: 0.2em;color: black;border-radius: 0.25em;background-color: #f0f8ff;}#sk-container-id-3 input.sk-toggleable__control:checked~div.sk-toggleable__content {max-height: 200px;max-width: 100%;overflow: auto;}#sk-container-id-3 input.sk-toggleable__control:checked~label.sk-toggleable__label-arrow:before {content: \"▾\";}#sk-container-id-3 div.sk-estimator input.sk-toggleable__control:checked~label.sk-toggleable__label {background-color: #d4ebff;}#sk-container-id-3 div.sk-label input.sk-toggleable__control:checked~label.sk-toggleable__label {background-color: #d4ebff;}#sk-container-id-3 input.sk-hidden--visually {border: 0;clip: rect(1px 1px 1px 1px);clip: rect(1px, 1px, 1px, 1px);height: 1px;margin: -1px;overflow: hidden;padding: 0;position: absolute;width: 1px;}#sk-container-id-3 div.sk-estimator {font-family: monospace;background-color: #f0f8ff;border: 1px dotted black;border-radius: 0.25em;box-sizing: border-box;margin-bottom: 0.5em;}#sk-container-id-3 div.sk-estimator:hover {background-color: #d4ebff;}#sk-container-id-3 div.sk-parallel-item::after {content: \"\";width: 100%;border-bottom: 1px solid gray;flex-grow: 1;}#sk-container-id-3 div.sk-label:hover label.sk-toggleable__label {background-color: #d4ebff;}#sk-container-id-3 div.sk-serial::before {content: \"\";position: absolute;border-left: 1px solid gray;box-sizing: border-box;top: 0;bottom: 0;left: 50%;z-index: 0;}#sk-container-id-3 div.sk-serial {display: flex;flex-direction: column;align-items: center;background-color: white;padding-right: 0.2em;padding-left: 0.2em;position: relative;}#sk-container-id-3 div.sk-item {position: relative;z-index: 1;}#sk-container-id-3 div.sk-parallel {display: flex;align-items: stretch;justify-content: center;background-color: white;position: relative;}#sk-container-id-3 div.sk-item::before, #sk-container-id-3 div.sk-parallel-item::before {content: \"\";position: absolute;border-left: 1px solid gray;box-sizing: border-box;top: 0;bottom: 0;left: 50%;z-index: -1;}#sk-container-id-3 div.sk-parallel-item {display: flex;flex-direction: column;z-index: 1;position: relative;background-color: white;}#sk-container-id-3 div.sk-parallel-item:first-child::after {align-self: flex-end;width: 50%;}#sk-container-id-3 div.sk-parallel-item:last-child::after {align-self: flex-start;width: 50%;}#sk-container-id-3 div.sk-parallel-item:only-child::after {width: 0;}#sk-container-id-3 div.sk-dashed-wrapped {border: 1px dashed gray;margin: 0 0.4em 0.5em 0.4em;box-sizing: border-box;padding-bottom: 0.4em;background-color: white;}#sk-container-id-3 div.sk-label label {font-family: monospace;font-weight: bold;display: inline-block;line-height: 1.2em;}#sk-container-id-3 div.sk-label-container {text-align: center;}#sk-container-id-3 div.sk-container {/* jupyter's `normalize.less` sets `[hidden] { display: none; }` but bootstrap.min.css set `[hidden] { display: none !important; }` so we also need the `!important` here to be able to override the default hidden behavior on the sphinx rendered scikit-learn.org. See: https://github.com/scikit-learn/scikit-learn/issues/21755 */display: inline-block !important;position: relative;}#sk-container-id-3 div.sk-text-repr-fallback {display: none;}</style><div id=\"sk-container-id-3\" class=\"sk-top-container\"><div class=\"sk-text-repr-fallback\"><pre>KNeighborsClassifier(n_neighbors=2)</pre><b>In a Jupyter environment, please rerun this cell to show the HTML representation or trust the notebook. <br />On GitHub, the HTML representation is unable to render, please try loading this page with nbviewer.org.</b></div><div class=\"sk-container\" hidden><div class=\"sk-item\"><div class=\"sk-estimator sk-toggleable\"><input class=\"sk-toggleable__control sk-hidden--visually\" id=\"sk-estimator-id-3\" type=\"checkbox\" checked><label for=\"sk-estimator-id-3\" class=\"sk-toggleable__label sk-toggleable__label-arrow\">KNeighborsClassifier</label><div class=\"sk-toggleable__content\"><pre>KNeighborsClassifier(n_neighbors=2)</pre></div></div></div></div></div>"
      ],
      "text/plain": [
       "KNeighborsClassifier(n_neighbors=2)"
      ]
     },
     "execution_count": 111,
     "metadata": {},
     "output_type": "execute_result"
    }
   ],
   "source": [
    "knn.fit(X_train, y_train)"
   ]
  },
  {
   "cell_type": "code",
   "execution_count": 112,
   "metadata": {},
   "outputs": [],
   "source": [
    "y_pred_train = knn.predict(X_train)\n",
    "y_pred_test = knn.predict(X_test)"
   ]
  },
  {
   "cell_type": "code",
   "execution_count": 113,
   "metadata": {},
   "outputs": [
    {
     "name": "stdout",
     "output_type": "stream",
     "text": [
      "Acurácia do teste: 93.0%\n",
      "Acurácia do treino: 96.5%\n"
     ]
    },
    {
     "data": {
      "image/png": "[encoded data removed]",
      "text/plain": [
       "<Figure size 432x288 with 2 Axes>"
      ]
     },
     "metadata": {
      "needs_background": "light"
     },
     "output_type": "display_data"
    }
   ],
   "source": [
    "# Compute accuracy with accuracy score\n",
    "ac = accuracy_score(y_test, y_pred_test)\n",
    "ac_train = accuracy_score(y_train, y_pred_train)\n",
    "\n",
    "print(f\"Acurácia do teste: {ac:.1%}\")\n",
    "print(f\"Acurácia do treino: {ac_train:.1%}\")\n",
    "\n",
    "ConfusionMatrixDisplay.from_estimator(knn, X_test, y_test);"
   ]
  },
  {
   "cell_type": "markdown",
   "metadata": {},
   "source": [
    "# Thought about breast cancer\n",
    "\n",
    "It looks to me that this is a simple and easy to learn dataset, without any preprocessing, the accuracy of this method is above 90%. The question is, what is an acceptable score for sensitive case like determining if there's cancer or not? and what is the best classification metric for a problem like this?\n",
    "\n",
    "Looking at the confusion matrix, in this particular case, it's important to minimize false negatives (samples that are labeled False(no cancer) when it is true(cancer)) than allowing false positives (samples labeled True(cancer) when it's False(no cancer))\n",
    "\n",
    "Scaler had any role in this score?"
   ]
  },
  {
   "cell_type": "code",
   "execution_count": 114,
   "metadata": {},
   "outputs": [],
   "source": [
    "# 5 folds\n",
    "folds = StratifiedKFold(n_splits=5, shuffle=True, random_state=42)\n",
    "\n",
    "scoring = ['accuracy_score']\n",
    "\n",
    "def train_model(X, y, folds, model, metric):\n",
    "    '''\n",
    "    Train and return accuracy score for each fold.\n",
    "    '''\n",
    "    train_scores=[]\n",
    "    val_scores=[]\n",
    "\n",
    "    # Check if it's a np array\n",
    "    if not isinstance(y, np.ndarray):\n",
    "        y = np.array(y).ravel()\n",
    "    if not isinstance(X, np.ndarray):\n",
    "        X = np.array(X)\n",
    "    \n",
    "    for n_fold, (train_index, valid_index) in enumerate(folds.split(X, y)):\n",
    "        # Select train and validation data (necessary when not using a pipeline)\n",
    "        X_train, X_val = X[train_index], X[valid_index]\n",
    "        y_train, y_val = y[train_index], y[valid_index]\n",
    "\n",
    "        # Print Min and Max in the training and validation dataset\n",
    "        print(\"Split: \", n_fold)\n",
    "        print(f\"TREINO valor MIN {X_train.min()}  MAX {X_train.max()}\")\n",
    "        print(f\"VAL valor MIN {X_val.min()}  MAX {X_val.max()}\")\n",
    "\n",
    "        # Instantiate MinMaxScaler\n",
    "        # sc = MinMaxScaler()\n",
    "\n",
    "        # # Scale train data\n",
    "        # X_train = sc.fit_transform(X_train)\n",
    "\n",
    "        # scale validation data\n",
    "        # X_val = sc.transform(X_val)\n",
    "\n",
    "        # fin train data\n",
    "        model.fit(X_train, y_train)\n",
    "\n",
    "        # predict train data\n",
    "        y_pred_train = model.predict(X_train)\n",
    "\n",
    "        # predict validation data\n",
    "        y_pred_val = model.predict(X_val)\n",
    "\n",
    "        # Store metric\n",
    "        train_scores.append(metric(y_train, y_pred_train))\n",
    "        val_scores.append(metric(y_val, y_pred_val))\n",
    "\n",
    "        \n",
    "\n",
    "    print('CV mean train score: {0:.4f}, std: {1:.4f}.'.format(np.mean(train_scores), np.std(train_scores)))\n",
    "    print('CV mean validation score: {0:.4f}, std: {1:.4f}.'.format(np.mean(val_scores), np.std(val_scores)))\n",
    "    return train_scores, val_scores"
   ]
  },
  {
   "cell_type": "code",
   "execution_count": 115,
   "metadata": {},
   "outputs": [
    {
     "name": "stdout",
     "output_type": "stream",
     "text": [
      "Split:  0\n",
      "TREINO valor MIN 0.0  MAX 3234.0\n",
      "VAL valor MIN 0.0  MAX 4254.0\n",
      "Split:  1\n",
      "TREINO valor MIN 0.0  MAX 4254.0\n",
      "VAL valor MIN 0.0  MAX 3216.0\n",
      "Split:  2\n",
      "TREINO valor MIN 0.0  MAX 4254.0\n",
      "VAL valor MIN 0.0  MAX 2398.0\n",
      "Split:  3\n",
      "TREINO valor MIN 0.0  MAX 4254.0\n",
      "VAL valor MIN 0.0  MAX 2499.0\n",
      "Split:  4\n",
      "TREINO valor MIN 0.0  MAX 4254.0\n",
      "VAL valor MIN 0.0  MAX 3234.0\n",
      "CV mean train score: 0.9659, std: 0.0093.\n",
      "CV mean validation score: 0.9099, std: 0.0408.\n"
     ]
    }
   ],
   "source": [
    "train_scores2, val_scores2 = train_model(X_train, y_train, folds, knn, accuracy_score)"
   ]
  },
  {
   "cell_type": "code",
   "execution_count": 116,
   "metadata": {},
   "outputs": [
    {
     "name": "stdout",
     "output_type": "stream",
     "text": [
      "[0.9807692307692307, 0.9862637362637363, 0.989010989010989, 0.989010989010989, 0.989010989010989]\n"
     ]
    }
   ],
   "source": [
    "print(train_scores)"
   ]
  },
  {
   "cell_type": "code",
   "execution_count": 118,
   "metadata": {},
   "outputs": [
    {
     "name": "stdout",
     "output_type": "stream",
     "text": [
      "[0.9505494505494505, 0.9642857142857143, 0.9725274725274725, 0.978021978021978, 0.9642857142857143]\n"
     ]
    }
   ],
   "source": [
    "print(train_scores2)"
   ]
  },
  {
   "cell_type": "code",
   "execution_count": 117,
   "metadata": {},
   "outputs": [
    {
     "name": "stdout",
     "output_type": "stream",
     "text": [
      "[0.967032967032967, 0.9560439560439561, 0.9120879120879121, 0.9560439560439561, 0.945054945054945]\n"
     ]
    }
   ],
   "source": [
    "print(val_scores)"
   ]
  },
  {
   "cell_type": "code",
   "execution_count": 119,
   "metadata": {},
   "outputs": [
    {
     "name": "stdout",
     "output_type": "stream",
     "text": [
      "[0.945054945054945, 0.8791208791208791, 0.8571428571428571, 0.9010989010989011, 0.967032967032967]\n"
     ]
    }
   ],
   "source": [
    "print(val_scores2)"
   ]
  }
 ],
 "metadata": {
  "interpreter": {
   "hash": "5ca4efd453f89b69dfc80cbb5ef222b3d24fc169b1efe916ea8f932329929361"
  },
  "kernelspec": {
   "display_name": "Python 3 (ipykernel)",
   "language": "python",
   "name": "python3"
  },
  "language_info": {
   "codemirror_mode": {
    "name": "ipython",
    "version": 3
   },
   "file_extension": ".py",
   "mimetype": "text/x-python",
   "name": "python",
   "nbconvert_exporter": "python",
   "pygments_lexer": "ipython3",
   "version": "3.9.12"
  }
 },
 "nbformat": 4,
 "nbformat_minor": 4
}
