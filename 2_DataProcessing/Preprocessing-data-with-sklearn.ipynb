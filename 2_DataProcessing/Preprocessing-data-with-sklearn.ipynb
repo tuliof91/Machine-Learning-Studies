{
 "cells": [
  {
   "cell_type": "markdown",
   "id": "c7b01cbf-59a6-4f7a-98f2-8611e56a9412",
   "metadata": {},
   "source": [
    "# Data Processing with sklearn\n",
    "\n",
    "*aka feature engineering*"
   ]
  },
  {
   "cell_type": "markdown",
   "id": "4b238404-70ef-4480-b71b-a8c6ebbffc38",
   "metadata": {},
   "source": [
    "Feature engineering the process to represent data that improves the model performance.\n",
    "\n",
    "> It's easy to feed raw data into a machine learning. **The difference is in the data processing**\n",
    "\n",
    "Many factor influence a model performance. It's clear that if a feature doesn't have nay relation with the result, any representation of this data is irrelevant.\n",
    "\n",
    "Keep in mid that different models has it's own needs and limitations. Examples are:\n",
    "\n",
    "- Some models can't process multicolinearity or correlation between features\n",
    "- Many models can't have NANs\n",
    "- Some models are severely penalized with irrelevant features.\n",
    "\n",
    "Feature engineering and feature selection play an important role dealing with this problems.\n",
    "\n",
    "## Data processing workflow\n",
    "\n",
    "<img src=\"https://miro.medium.com/max/875/1*QRVI4dwzTN89P8awT8FC6A.png\"  width=700>\n",
    "\n",
    "## Data pre-processing steps\n",
    "<img src=\"./images/pre-processing_order.png\" width=700>"
   ]
  },
  {
   "cell_type": "markdown",
   "id": "af07e0ed-a610-4aa4-af95-fd051d1d6a2e",
   "metadata": {},
   "source": [
    "## Pre-processing\n",
    "\n",
    "- Split\n",
    "    - Train-test split \n",
    "- Cleaning\n",
    "    - drop irrelevant columns\n",
    "    - remove duplicates\n",
    "    - remove samples based on filter techniques\n",
    "    - remove outliers\n",
    "    - remove incorrect data\n",
    "    - change dtypes\n",
    "    - flag missing as NAN\n",
    "    \n",
    "Data cleaning must be done before missing values imputation and one-hot encoding.\n",
    "\n",
    "- Imput missing values\n",
    "    - SimpleImputer (mean, mode)\n",
    "    - KNNImputer\n",
    "    - IterativeImputer\n",
    "    \n",
    "Imput must be done before one-hot encoding (oht does not accept NANs)\n",
    "\n",
    "- Transform features:\n",
    "    - Categorical Features:\n",
    "        - OrdinalEncoder\n",
    "        - LabelEncoder\n",
    "        - One-Hot Encoding\n",
    "    - Numerical Features:\n",
    "        - Binarizer\n",
    "        - KBinsDiscretizer\n",
    "        - MinMaxScale\n",
    "        - StandardScale\n",
    "        - RobustScale\n",
    "\n",
    "*Nans and dtypes must be done before imputation.\n",
    "\n",
    "- Feature Engineering\n",
    "    - PolynomialFeature\n",
    "    - PowerTransformer\n",
    "    - Feature aggregation (combining features)\n",
    "    \n",
    "- Feature Selection:\n",
    "    - Univariate Statistical Test\n",
    "    - Recursive Feature Engineering (RFE)\n",
    "    - Mutual_info_classifier\n",
    "    - Variance inflation factor (VIF)\n",
    "    \n",
    "- Dimensionality Reduction:\n",
    "    - Principal Component Analysis (PCA)\n",
    "    - Linear Discriminant Analysis (LDA)\n",
    "    - t-SNE\n",
    "    \n",
    "These classes are called **transformers**. The idea is to transform data to ensure it can run the model as well as improve it's performance.\n",
    "\n",
    "> Fit é coisa de crosfiteiro e tem relacao com treino\n",
    "\n",
    "It's important that the transformers are fitted with trainning data to avoid **data leakage** (when test data is used for training)"
   ]
  },
  {
   "cell_type": "markdown",
   "id": "d3b49724-28f7-4cbe-9397-041569589440",
   "metadata": {},
   "source": [
    "Follow this simple recipe:\n",
    "\n",
    "1. Make `train-test split`\n",
    "2. Use `.fit()` on training data\n",
    "3. Use `.transform()` on training data\n",
    "4. Use `.transform()` on test data (with the same transformer trained on the training data)"
   ]
  },
  {
   "cell_type": "code",
   "execution_count": 14,
   "id": "4b87d882-780b-45ac-9173-8f099bd9362b",
   "metadata": {},
   "outputs": [],
   "source": [
    "# General imports\n",
    "import numpy as np\n",
    "import pandas as pd\n",
    "\n",
    "# Import data viz\n",
    "import matplotlib.pyplot as plt\n",
    "import seaborn as sns"
   ]
  },
  {
   "cell_type": "markdown",
   "id": "f95e0c28-075e-42ad-88cd-0091c4d34930",
   "metadata": {},
   "source": [
    "# Missing data\n",
    "<img src=\"images/pre-processing_order.png\" width=600>"
   ]
  },
  {
   "cell_type": "markdown",
   "id": "5a389163-b88e-4081-8446-19ce58ec5b51",
   "metadata": {},
   "source": [
    "## SimpleImputer\n",
    "\n",
    "[**SimpleImputer**](https://scikit-learn.org/stable/modules/generated/sklearn.impute.SimpleImputer.html) is an `sklearn.impute` module used to fill missing values. Strategy options are:\n",
    "\n",
    "- `mean`\n",
    "- `median`\n",
    "- `mosrt frequent`\n",
    "- `constant`\n",
    "\n",
    "### Recipe\n",
    "```python\n",
    "# import module\n",
    "from sklearn.impute import SimpleImputer\n",
    "\n",
    "# instantiate encoder\n",
    "imputer = SimpleImputer(strategy='mean')\n",
    "\n",
    "# train encoder and transform data\n",
    "X_imp = imputer.fit(X_train)\n",
    "X_imp = imputer.transform(X_train)\n",
    "```"
   ]
  },
  {
   "cell_type": "code",
   "execution_count": 15,
   "id": "a33fa1fa-58c9-4dba-bf1c-8e5102a4c95f",
   "metadata": {},
   "outputs": [],
   "source": [
    "# Make a dataset\n",
    "X = np.array([[-1.0], \n",
    "              [-0.5], \n",
    "              [np.nan], \n",
    "              [0.5], \n",
    "              [1.0]])"
   ]
  },
  {
   "cell_type": "code",
   "execution_count": 16,
   "id": "c91139fa-36eb-422e-b968-3cff8533d748",
   "metadata": {},
   "outputs": [
    {
     "name": "stdout",
     "output_type": "stream",
     "text": [
      "[[-1. ]\n",
      " [-0.5]\n",
      " [ 0. ]\n",
      " [ 0.5]\n",
      " [ 1. ]]\n"
     ]
    }
   ],
   "source": [
    "from sklearn.impute import SimpleImputer\n",
    "\n",
    "# Instantiate encoder\n",
    "imputer = SimpleImputer(strategy='median')\n",
    "\n",
    "# Train encoder and transform imput data\n",
    "X_imp = imputer.fit(X)\n",
    "X_imp = imputer.transform(X)\n",
    "\n",
    "# Show Results\n",
    "print(X_imp)"
   ]
  },
  {
   "cell_type": "markdown",
   "id": "39007c55-6c53-4b94-a025-e86e0ad0876c",
   "metadata": {},
   "source": [
    "## [KNNImputer](https://scikit-learn.org/stable/modules/generated/sklearn.impute.KNNImputer.html#sklearn.impute.KNNImputer)\n",
    "\n",
    "Missing values are imput with the k nearest neighbors mean in the training data. Two samples are near when non missing features are near.\n",
    "\n",
    "> Do not use for big data"
   ]
  },
  {
   "cell_type": "code",
   "execution_count": 17,
   "id": "ba81bed3-7818-45f6-b4bf-a70d9bf3972c",
   "metadata": {},
   "outputs": [
    {
     "name": "stdout",
     "output_type": "stream",
     "text": [
      "[[ 1.  2. nan]\n",
      " [ 3.  4.  3.]\n",
      " [nan  6.  5.]\n",
      " [ 8.  8.  7.]]\n"
     ]
    }
   ],
   "source": [
    "# Make data\n",
    "X = np.array([[1, 2, np.nan], [3, 4, 3], [np.nan, 6, 5], [8, 8, 7]])\n",
    "print(X)"
   ]
  },
  {
   "cell_type": "code",
   "execution_count": 18,
   "id": "7ea4a0ef-c6c2-420e-8217-45e0360d3bad",
   "metadata": {},
   "outputs": [
    {
     "data": {
      "text/plain": [
       "array([[1. , 2. , 4. ],\n",
       "       [3. , 4. , 3. ],\n",
       "       [5.5, 6. , 5. ],\n",
       "       [8. , 8. , 7. ]])"
      ]
     },
     "execution_count": 18,
     "metadata": {},
     "output_type": "execute_result"
    }
   ],
   "source": [
    "# Revcipe\n",
    "from sklearn.impute import KNNImputer\n",
    "\n",
    "imputer = KNNImputer(n_neighbors=2)\n",
    "\n",
    "imputer.fit_transform(X)"
   ]
  },
  {
   "cell_type": "markdown",
   "id": "d0f5590f-257c-414b-97e0-5d415d6acd54",
   "metadata": {},
   "source": [
    "# Transform Features - categorical data \n",
    "<img src=\"images/pre-processing_order.png\" width=600>\n",
    "\n",
    "We already know how to use `pd.get_dummies()`. To make it easyer to integrate this process to a pipeline, it's important to use sklearn.\n",
    "\n",
    "The relevant classes are:\n",
    "- [OrdinalEncoder](https://scikit-learn.org/stable/modules/generated/sklearn.preprocessing.OrdinalEncoder.html#sklearn.preprocessing.OrdinalEncoder)\n",
    "- [LabelEncoder](https://scikit-learn.org/stable/modules/generated/sklearn.preprocessing.LabelEncoder.html?highlight=labelencoder#sklearn.preprocessing.LabelEncoder)\n",
    "- [OneHotEncoder](https://scikit-learn.org/stable/modules/generated/sklearn.preprocessing.OneHotEncoder.html#sklearn.preprocessing.OneHotEncoder)\n",
    "\n",
    "`LabelEncoder` should only be used on target."
   ]
  },
  {
   "cell_type": "markdown",
   "id": "f71ade36-341b-45d2-9c72-889cd24697bb",
   "metadata": {},
   "source": [
    "## OrdinalEncoder and LabelEncoder\n",
    "\n",
    "Transforms categories in an ordered sequence, the order is chosen alphabetically. For an ordered list, `OrdinalEncoder` should be used, and an order array must be passed.\n",
    "\n",
    "<img src=\"https://i.imgur.com/tEogUAr.png\" width=1000>\n",
    "\n",
    "### What's the difference between them?\n",
    "- `OrdinalEncoder` is used for 2D data with shape(n_samples, n_features) and therefore is used in feature transformation;\n",
    "\n",
    "- `LabelEncoder` is for 1D data with shape(n_samples), and therefore it's used for label transformation (Target)\n",
    "\n",
    "Another difference is the learned parameter:\n",
    "- `LabelEncoder` learns `classes_`\n",
    "- `OrdinalEncoder` learns `categories_`"
   ]
  },
  {
   "cell_type": "code",
   "execution_count": 22,
   "id": "e47dfb64-f7fa-41c2-8c67-1a41d8166214",
   "metadata": {},
   "outputs": [],
   "source": [
    "# Creating data\n",
    "X = np.array([['Paris', 'Île-de-France', 105.4],\n",
    "              ['Yvelines', 'Île-de-France', 2284.0],\n",
    "              ['Grenoble', 'Auvergne-Rhône-Alpes', 18.13],\n",
    "              ['Lyon Metropolis', 'Auvergne-Rhône-Alpes', 533.68]])\n",
    "\n",
    "# Which ones are cool and uncool?\n",
    "y = ['uncool', 'cool', 'uncool', 'cool']"
   ]
  },
  {
   "cell_type": "code",
   "execution_count": 23,
   "id": "74b7171c-56be-4f24-9134-bf891b876718",
   "metadata": {},
   "outputs": [],
   "source": [
    "# Imports\n",
    "from sklearn.preprocessing import OrdinalEncoder, LabelEncoder\n",
    "\n",
    "# Instantiate encoders\n",
    "feature_encoder = OrdinalEncoder()\n",
    "label_encoder = LabelEncoder()\n",
    "\n",
    "# Train and transform encoders\n",
    "X_encoded = feature_encoder.fit_transform(X[:, :2]) # choose 2 first columns (categorical)\n",
    "y_encoded = label_encoder.fit_transform(y)"
   ]
  },
  {
   "cell_type": "code",
   "execution_count": 25,
   "id": "81e35535-d709-4ea1-ab24-841b57551b16",
   "metadata": {},
   "outputs": [
    {
     "name": "stdout",
     "output_type": "stream",
     "text": [
      "X:\n",
      " [['Paris' 'Île-de-France' '105.4']\n",
      " ['Yvelines' 'Île-de-France' '2284.0']\n",
      " ['Grenoble' 'Auvergne-Rhône-Alpes' '18.13']\n",
      " ['Lyon Metropolis' 'Auvergne-Rhône-Alpes' '533.68']]\n",
      "\n",
      "\n",
      "X_encoded:\n",
      " [[2. 1.]\n",
      " [3. 1.]\n",
      " [0. 0.]\n",
      " [1. 0.]]\n",
      "\n",
      "categories:  [array(['Grenoble', 'Lyon Metropolis', 'Paris', 'Yvelines'], dtype='<U32'), array(['Auvergne-Rhône-Alpes', 'Île-de-France'], dtype='<U32')]\n",
      "\n",
      "\n",
      "y_encoded: \n",
      " [1 0 1 0]\n",
      "\n",
      "classes:  ['cool' 'uncool']\n"
     ]
    }
   ],
   "source": [
    "# Before\n",
    "print(\"X:\\n\", X)\n",
    "\n",
    "# Result X\n",
    "print(\"\\n\\nX_encoded:\\n\", X_encoded)\n",
    "print(\"\\ncategories: \", feature_encoder.categories_)\n",
    "\n",
    "# Result y\n",
    "print(\"\\n\\ny_encoded: \\n\", y_encoded)\n",
    "print(\"\\nclasses: \", label_encoder.classes_)"
   ]
  },
  {
   "cell_type": "code",
   "execution_count": 26,
   "id": "ef69c8e9-cbb8-481e-a94c-1ab90c08a3e7",
   "metadata": {},
   "outputs": [
    {
     "data": {
      "text/plain": [
       "array([2., 1., 1., 0.])"
      ]
     },
     "execution_count": 26,
     "metadata": {},
     "output_type": "execute_result"
    }
   ],
   "source": [
    "# Give OrdinalEncoder an specific order:\n",
    "OrdinalEncoder(categories=[['cold', 'warm', 'hot']])\\\n",
    ".fit_transform([['hot'], ['warm'], ['warm'], ['cold']])\\\n",
    ".reshape((1,-1))[0]"
   ]
  },
  {
   "cell_type": "markdown",
   "id": "5496bf20-17fe-4061-8430-eeee1249f7b4",
   "metadata": {},
   "source": [
    "## [OneHotEncoder](https://scikit-learn.org/stable/modules/generated/sklearn.preprocessing.OneHotEncoder.html?highlight=onehotencoder#sklearn.preprocessing.OneHotEncoder)\n",
    "\n",
    "Transforms each category in a binary column.\n",
    "\n",
    "<img src=\"https://i.imgur.com/TW5m0aJ.png\" width=1000>"
   ]
  },
  {
   "cell_type": "code",
   "execution_count": 28,
   "id": "b9ad79b0-148f-4f58-8167-db8f45a2b2a3",
   "metadata": {},
   "outputs": [],
   "source": [
    "# Create data\n",
    "X = np.array([['abacate'], \n",
    "              ['Irmão do Jorel'], \n",
    "              ['Vovó Juju'], \n",
    "              ['Vovó Juju'], \n",
    "              ['Irmão do Jorel']])"
   ]
  },
  {
   "cell_type": "code",
   "execution_count": 29,
   "id": "a22b7b19-941a-4a74-ab50-662a09338ffe",
   "metadata": {},
   "outputs": [
    {
     "name": "stdout",
     "output_type": "stream",
     "text": [
      "  (0, 2)\t1.0\n",
      "  (1, 0)\t1.0\n",
      "  (2, 1)\t1.0\n",
      "  (3, 1)\t1.0\n",
      "  (4, 0)\t1.0\n",
      " \n",
      "[array(['Irmão do Jorel', 'Vovó Juju', 'abacate'], dtype='<U14')]\n"
     ]
    }
   ],
   "source": [
    "from sklearn.preprocessing import OneHotEncoder\n",
    "\n",
    "# Instantiate encoder\n",
    "dummy_encoder = OneHotEncoder()\n",
    "\n",
    "# Train encoder\n",
    "X_onehot = dummy_encoder.fit_transform(X)#.toarray()\n",
    "\n",
    "# Show results\n",
    "print(X_onehot)\n",
    "print(' ')\n",
    "print(dummy_encoder.categories_) # order with ASCII"
   ]
  },
  {
   "cell_type": "markdown",
   "id": "a14a86c4-d4a4-4048-ac4c-f435415c2a18",
   "metadata": {},
   "source": [
    "OneHotEncoder returns a scipy sparse matrix"
   ]
  },
  {
   "cell_type": "code",
   "execution_count": 31,
   "id": "eeae0de5-ce5d-45a0-bc57-737c9dd7d850",
   "metadata": {},
   "outputs": [
    {
     "name": "stdout",
     "output_type": "stream",
     "text": [
      "<class 'scipy.sparse.csr.csr_matrix'>\n"
     ]
    }
   ],
   "source": [
    "print(type(X_onehot))"
   ]
  },
  {
   "cell_type": "markdown",
   "id": "39af62de-ba56-4b98-98ab-c07c3403eb21",
   "metadata": {},
   "source": [
    "A sparce matrix is one way to represent a matrix. Inside the parêntesis the position (line, column) is written and outside the atributed value.\n",
    "\n",
    "**To return a numpy array `sparse=False` is used or apply `X_onehot.toarray()`.**\n",
    "\n",
    "`drop='first'` is used to to exclude the first column. **check documentation before implementation**"
   ]
  },
  {
   "cell_type": "code",
   "execution_count": 33,
   "id": "b325b6af-8d8b-4b8d-ae42-3f28f0a55330",
   "metadata": {},
   "outputs": [],
   "source": [
    "# Make data\n",
    "X = np.array([['abacate'], \n",
    "              ['Irmão do Jorel'], \n",
    "              ['Vovó Juju'], \n",
    "              ['Vovó Juju'], \n",
    "              ['Irmão do Jorel']])"
   ]
  },
  {
   "cell_type": "code",
   "execution_count": 34,
   "id": "741b2ded-0944-4a8f-8cf9-68f682c46d6b",
   "metadata": {},
   "outputs": [
    {
     "name": "stdout",
     "output_type": "stream",
     "text": [
      "  (0, 1)\t1.0\n",
      "  (2, 0)\t1.0\n",
      "  (3, 0)\t1.0\n",
      " \n",
      "[array(['Irmão do Jorel', 'Vovó Juju', 'abacate'], dtype='<U14')]\n"
     ]
    }
   ],
   "source": [
    "# Instantiate encoder\n",
    "dummy_encoder = OneHotEncoder(drop='first', sparse='False')\n",
    "\n",
    "# Train encoder and transform imput features\n",
    "X_onehot = dummy_encoder.fit_transform(X)\n",
    "\n",
    "# Show results\n",
    "print(X_onehot)\n",
    "print(' ')\n",
    "print(dummy_encoder.categories_)"
   ]
  },
  {
   "cell_type": "markdown",
   "id": "81652a7e-1f5b-4047-8b91-6da1cd00f5b6",
   "metadata": {},
   "source": [
    "# Transform Features - Numerical data\n",
    "\n",
    "Contnuous data can cause problems during modeling. Models like KNN and SVM are sensitive to features with distorted distribution and outliers. On the other side Tree based models are not affected with these problems.\n",
    "\n",
    "Common Problems are:\n",
    "- Features with very different scale\n",
    "- Features with assymetric distribution\n",
    "- Extreme values (outiers)\n",
    "- Redundant features, this means colinear features"
   ]
  },
  {
   "cell_type": "markdown",
   "id": "d04f285f-0255-4fe6-baf6-0281f2b9b2e0",
   "metadata": {},
   "source": [
    "## Scale\n",
    "\n",
    "Generally scaling means to modify the interval distribution of values. the \"shape\" of the distribution does not change.\n",
    "\n",
    "For some ML models scaling is essential.\n",
    "- Linear and Logistic Regression\n",
    "- KNN\n",
    "- Neural networks(NN)\n",
    "- Suport Vector Machines with radial bias kernel functions (SVM)\n",
    "- Principal Component Analysis (PCA)\n",
    "- Linear Discriminant Analysis (LDA)"
   ]
  },
  {
   "cell_type": "markdown",
   "id": "af16047f-caff-45e0-8a91-ddecf774c670",
   "metadata": {},
   "source": [
    "## [StandardScaler](https://scikit-learn.org/stable/modules/generated/sklearn.preprocessing.StandardScaler.html)\n",
    "\n",
    "$\\frac{x_i - mean(x)}{std(x)}$"
   ]
  },
  {
   "cell_type": "code",
   "execution_count": 36,
   "id": "0297eee0-c6d2-4976-82b4-f311b2383546",
   "metadata": {},
   "outputs": [],
   "source": [
    "# Create data\n",
    "X = np.array([[-1.0], \n",
    "              [-0.5], \n",
    "              [0.], \n",
    "              [0.5], \n",
    "              [1.0]])"
   ]
  },
  {
   "cell_type": "code",
   "execution_count": 37,
   "id": "0fdbed17-07df-4a6e-8739-7762155db1e6",
   "metadata": {},
   "outputs": [
    {
     "name": "stdout",
     "output_type": "stream",
     "text": [
      "[[-1.41421356]\n",
      " [-0.70710678]\n",
      " [ 0.        ]\n",
      " [ 0.70710678]\n",
      " [ 1.41421356]]\n",
      " \n",
      "[0.] [0.70710678]\n"
     ]
    }
   ],
   "source": [
    "from sklearn.preprocessing import StandardScaler\n",
    "\n",
    "# Instantiate encoder\n",
    "standard_scaler = StandardScaler()\n",
    "\n",
    "# Train and transform imput features\n",
    "X_std = standard_scaler.fit_transform(X)\n",
    "\n",
    "# Show results.\n",
    "print(X_std)\n",
    "print(' ')\n",
    "print(standard_scaler.mean_, standard_scaler.scale_)"
   ]
  },
  {
   "cell_type": "markdown",
   "id": "6999c915-9713-4c4f-8bf3-fac19fe83d5b",
   "metadata": {},
   "source": [
    "## [MinMaxScaler](https://scikit-learn.org/stable/modules/generated/sklearn.preprocessing.MinMaxScaler.html)\n",
    "\n",
    "Values range from (0, 1) or (-1, 1) if there are negative values.\n",
    "\n",
    "$\\frac{x_i - min(x)}{max(x)-min(x)}$"
   ]
  },
  {
   "cell_type": "code",
   "execution_count": null,
   "id": "edaf6ad8-f262-4c8a-86cd-e468f89fab05",
   "metadata": {},
   "outputs": [],
   "source": [
    "# Make data\n",
    "X = np.array([[-1.0], \n",
    "              [-0.5], \n",
    "              [0.], \n",
    "              [0.5], \n",
    "              [1.0]])"
   ]
  },
  {
   "cell_type": "code",
   "execution_count": 38,
   "id": "d2d0ea70-b895-41dc-ad73-85595623d469",
   "metadata": {},
   "outputs": [
    {
     "name": "stdout",
     "output_type": "stream",
     "text": [
      "[[0.  ]\n",
      " [0.25]\n",
      " [0.5 ]\n",
      " [0.75]\n",
      " [1.  ]]\n",
      " \n",
      "[-1.] [1.]\n"
     ]
    }
   ],
   "source": [
    "from sklearn.preprocessing import MinMaxScaler\n",
    "\n",
    "# Instantiate encoder\n",
    "minmax_scaler = MinMaxScaler()\n",
    "\n",
    "# Train and transform imput features\n",
    "X_minmax = minmax_scaler.fit_transform(X)\n",
    "\n",
    "# Show Results\n",
    "print(X_minmax)\n",
    "print(' ')\n",
    "print(minmax_scaler.data_min_, minmax_scaler.data_max_)"
   ]
  },
  {
   "cell_type": "markdown",
   "id": "dcd7ddf2-f51e-4827-bbeb-51a5ad873a9f",
   "metadata": {},
   "source": [
    "It's possible to choose the min and max range with `feature_range(min, max)`"
   ]
  },
  {
   "cell_type": "markdown",
   "id": "5ead3400-60a6-4706-8f71-21e3d2873889",
   "metadata": {},
   "source": [
    "With outliers, both `StandardScale` and `MinMaxScale ` results in a smaller range of values."
   ]
  },
  {
   "cell_type": "markdown",
   "id": "d7951e4c-53c6-43db-acaf-f7ad3ca94d7a",
   "metadata": {},
   "source": [
    "## [RobustScaler](https://scikit-learn.org/stable/modules/generated/sklearn.preprocessing.RobustScaler.html)\n",
    "\n",
    "Scales using IQR\n",
    "\n",
    "$\\frac{x_i - Q_1(x)}{Q_3(x)-Q_1(x)}$"
   ]
  },
  {
   "cell_type": "markdown",
   "id": "e0d80d0a-5656-4962-8fb0-d9b1ae4bfb86",
   "metadata": {},
   "source": [
    "## Comparing Scalers"
   ]
  },
  {
   "cell_type": "code",
   "execution_count": 40,
   "id": "e5690e74-ac1a-4f28-83b5-44fc1913c3b6",
   "metadata": {},
   "outputs": [
    {
     "data": {
      "image/png": "[encoded data removed]",
      "text/plain": [
       "<Figure size 1440x360 with 4 Axes>"
      ]
     },
     "metadata": {},
     "output_type": "display_data"
    }
   ],
   "source": [
    "# Importing libraries\n",
    "import pandas as pd\n",
    "import numpy as np\n",
    "from sklearn import preprocessing\n",
    "import matplotlib\n",
    "import matplotlib.pyplot as plt\n",
    "import seaborn as sns\n",
    "\n",
    "matplotlib.style.use('fivethirtyeight')\n",
    "\n",
    "# Creates 2 features , x1 and x2. The first with outliers to the left and the second with outliers to the right.\n",
    "x = pd.DataFrame({\n",
    "\t# Distribution with lower outliers\n",
    "\t'x1': np.concatenate([np.random.normal(20, 2, 1000), np.random.normal(1, 2, 25)]),\n",
    "\t# Distribution with higher outliers\n",
    "\t'x2': np.concatenate([np.random.normal(30, 2, 1000), np.random.normal(50, 2, 25)]),\n",
    "})\n",
    "np.random.normal\n",
    "\n",
    "scaler = preprocessing.RobustScaler()\n",
    "robust_df = scaler.fit_transform(x)\n",
    "robust_df = pd.DataFrame(robust_df, columns =['x1', 'x2'])\n",
    "\n",
    "scaler = preprocessing.StandardScaler()\n",
    "standard_df = scaler.fit_transform(x)\n",
    "standard_df = pd.DataFrame(standard_df, columns =['x1', 'x2'])\n",
    "\n",
    "scaler = preprocessing.MinMaxScaler()\n",
    "minmax_df = scaler.fit_transform(x)\n",
    "minmax_df = pd.DataFrame(minmax_df, columns =['x1', 'x2'])\n",
    "\n",
    "fig, (ax1, ax2, ax3, ax4) = plt.subplots(ncols = 4, figsize =(20, 5))\n",
    "\n",
    "ax1.set_title('Before Scaling')\n",
    "sns.kdeplot(x['x1'], ax = ax1, color ='r')\n",
    "sns.kdeplot(x['x2'], ax = ax1, color ='b')\n",
    "\n",
    "ax2.set_title('After Robust Scaling')\n",
    "sns.kdeplot(robust_df['x1'], ax = ax2, color ='red')\n",
    "sns.kdeplot(robust_df['x2'], ax = ax2, color ='blue')\n",
    "\n",
    "ax3.set_title('After Standard Scaling')\n",
    "sns.kdeplot(standard_df['x1'], ax = ax3, color ='black')\n",
    "sns.kdeplot(standard_df['x2'], ax = ax3, color ='g')\n",
    "\n",
    "ax4.set_title('After Min-Max Scaling')\n",
    "sns.kdeplot(minmax_df['x1'], ax = ax4, color ='black')\n",
    "sns.kdeplot(minmax_df['x2'], ax = ax4, color ='g')\n",
    "\n",
    "plt.show()\n",
    "\n",
    "# Fonte: https://www.geeksforgeeks.org/standardscaler-minmaxscaler-and-robustscaler-techniques-ml/\n"
   ]
  },
  {
   "cell_type": "markdown",
   "id": "cd82f908-6bc2-4e6d-83dd-a35962b855c8",
   "metadata": {},
   "source": [
    "Scikit-learn Function |\tRange | Mean | When Use | Definition | Notes\n",
    "----------------------|-------|------|----------|------------|-------\n",
    "MinMaxScaler | 0 to 1 default, can override\t| varies | When want a light touch. | Subtracts the mimimum value in the column and then divides by the difference between the original maximum and original minimum. | Preserves the shape of the original distribution. Doesn't reduce the importance of outliers. Least disruptive to the information in the original data.\n",
    "RobustScaler |\tvaries | varies | Use if have outliers and don't want them to have much influence. \t| Standardizes a feature by removing the median and dividing each feature by the interquartile range. | Outliers have less influence than with MinMaxScaler. Range is larger than MinMaxScaler or StandardScaler.\n",
    "StandardScaler | varies |0| When need features with zero mean and unit standard deviation | Standardizes a feature by removing the mean and dividing each value by the standard deviation.  | Results in a distribution with a standard deviation equal to 1 (and variance equal to 1). If you have outliers in your feature, using this will scale most of the data to a small interval. \n",
    "\n",
    "[Font](https://docs.google.com/spreadsheets/d/1woVi7wq13628HJ-tN6ApaRGVZ85OdmHsDBKLAf5ylaQ/edit#gid=0)\n"
   ]
  },
  {
   "cell_type": "markdown",
   "id": "23edd539-6542-4018-87c3-bb9cab686e9c",
   "metadata": {},
   "source": [
    "# Discretization\n",
    "\n",
    "AKA **binning** is the process torepresent a **quantitative feature** in **qualitative** buckets."
   ]
  },
  {
   "cell_type": "markdown",
   "id": "486f9ae6-5c7d-4c07-8d4a-a02515074ac0",
   "metadata": {},
   "source": [
    "## [Binarizer](https://scikit-learn.org/stable/modules/generated/sklearn.preprocessing.Binarizer.html?highlight=binarizer#sklearn.preprocessing.Binarizer)\n",
    "\n",
    "Transform values to 0 or 1 accordind to a threshold. Values higher than the threshold are mapped as 1 and values smaller than the threshold are mapped as 0."
   ]
  },
  {
   "cell_type": "code",
   "execution_count": 41,
   "id": "3284e797-319a-4bd9-bf3a-df3b888954a1",
   "metadata": {},
   "outputs": [],
   "source": [
    "# Make data\n",
    "X = np.array([[-1.0], \n",
    "              [0.75], \n",
    "              [0.99], \n",
    "              [1.01], \n",
    "              [1.76],\n",
    "              [2.97]])"
   ]
  },
  {
   "cell_type": "code",
   "execution_count": 42,
   "id": "0dae17fc-ec4d-4dcf-b10d-1486b145f19b",
   "metadata": {},
   "outputs": [
    {
     "name": "stdout",
     "output_type": "stream",
     "text": [
      "[[0.]\n",
      " [0.]\n",
      " [0.]\n",
      " [0.]\n",
      " [1.]\n",
      " [1.]]\n",
      " \n",
      "1.5\n"
     ]
    }
   ],
   "source": [
    "from sklearn.preprocessing import Binarizer\n",
    "\n",
    "binarizer = Binarizer(threshold=1.5)\n",
    "\n",
    "X_binary = binarizer.fit_transform(X)\n",
    "\n",
    "print(X_binary)\n",
    "print(' ')\n",
    "print(binarizer.threshold)"
   ]
  },
  {
   "cell_type": "markdown",
   "id": "7e8e965e-ae16-44ee-8e6d-09c0711f18e3",
   "metadata": {},
   "source": [
    "## [KBinsDiscretizer](https://scikit-learn.org/stable/modules/generated/sklearn.preprocessing.KBinsDiscretizer.html?highlight=kbinsdiscretizer#sklearn.preprocessing.KBinsDiscretizer)\n",
    "\n",
    "Convert continuous data into k groups followed by encoding (ordinal or one-hot encoder)"
   ]
  },
  {
   "cell_type": "code",
   "execution_count": 44,
   "id": "77b0d594-4e4a-416c-8c7b-2bb965705589",
   "metadata": {},
   "outputs": [
    {
     "name": "stdout",
     "output_type": "stream",
     "text": [
      "[[-1.  ]\n",
      " [ 0.75]\n",
      " [ 0.99]\n",
      " [ 1.01]\n",
      " [ 1.76]\n",
      " [ 2.97]]\n"
     ]
    }
   ],
   "source": [
    "print(X)"
   ]
  },
  {
   "cell_type": "code",
   "execution_count": 45,
   "id": "201fd53a-ec5e-456c-90b2-cdeb7d51e43a",
   "metadata": {},
   "outputs": [
    {
     "name": "stdout",
     "output_type": "stream",
     "text": [
      "[[1. 0. 0.]\n",
      " [1. 0. 0.]\n",
      " [0. 1. 0.]\n",
      " [0. 1. 0.]\n",
      " [0. 0. 1.]\n",
      " [0. 0. 1.]]\n",
      " \n",
      "3\n"
     ]
    }
   ],
   "source": [
    "from sklearn.preprocessing import KBinsDiscretizer\n",
    "\n",
    "k_binarizador = KBinsDiscretizer(n_bins=3, encode='onehot-dense')\n",
    "\n",
    "X_multiclass = k_binarizador.fit_transform(X)\n",
    "\n",
    "print(X_multiclass)\n",
    "print(' ')\n",
    "print(k_binarizador.n_bins)"
   ]
  },
  {
   "cell_type": "markdown",
   "id": "d01a9f03-3272-4aa1-912e-bf50f1e92471",
   "metadata": {},
   "source": [
    "## [Usando Decision Tree](https://towardsdatascience.com/discretisation-using-decision-trees-21910483fa4b)"
   ]
  },
  {
   "cell_type": "markdown",
   "id": "362a06c6-a06b-481e-8865-be5e4c0caae0",
   "metadata": {},
   "source": [
    "# Feature Engineering\n",
    "\n",
    "- PolinomialFeatures\n",
    "- PowerTransformer"
   ]
  },
  {
   "cell_type": "markdown",
   "id": "050fa878-6384-4ae3-bc16-6d5d0834b341",
   "metadata": {},
   "source": [
    "## [PowerTransformer](https://scikit-learn.org/stable/modules/generated/sklearn.preprocessing.PowerTransformer.html)\n",
    "\n",
    "Applies a power transformer to make the distribution closer to a gaussian distribution.\n",
    "\n",
    "Power Transformers parametric and monotonic transformations applied to transform the data distriburion closer to a gaussian distribution and consequently stabilizes variance and minimizes asymmetri. It's useful when normal data is desired. (What are those situations?)\n",
    "\n",
    "Power transformer supports `box-cox` and `yeo-johnson`. The ideal $\\lambda$ parameter to stabilize variance and minimize asymmetri is estimated based on the maximum ~~\"verossimilhanca\"~~ (in english?)\n",
    "\n",
    "Some $\\lambda$ values are:\n",
    "- $\\lambda=1$ (no transformation)\n",
    "- $\\lambda=0$ (log)\n",
    "- $\\lambda=0.5$ (square root)\n",
    "- $\\lambda=-1$ (invert)\n",
    "\n",
    "**Box-cox** requires strictly **positive data**\n",
    "\n",
    "**Yeo-Johnson** supports **positive and negative data**\n",
    "\n",
    "These are non-supervised transformations. While the transformation can improve data distribution, **there's no garantee it will have any impact in the model**. However parametric models like **most linear models, neural networks and suport vector machine models** use polynomial calculations in it's features. For these models a distorted data distribution might have a negative impact, because the tail of the distribution can dominate the calculations."
   ]
  },
  {
   "cell_type": "markdown",
   "id": "94e3de92-a223-4fc8-842b-44bf6d34c799",
   "metadata": {},
   "source": [
    "## Bibliografia e Aprofundamento dos temas:\n",
    "- [Scikit-Learn: common pitfalls](https://scikit-learn.org/0.24/common_pitfalls.html)\n",
    "- [Learning from data](https://work.caltech.edu/telecourse)\n",
    "- [Efeito dos scalers em vários tipos de distribuição](https://towardsdatascience.com/scale-standardize-or-normalize-with-scikit-learn-6ccc7d176a02)\n",
    "- [Efeito dos scaler nos dados](https://towardsdatascience.com/feature-scaling-effect-of-different-scikit-learn-scalers-deep-dive-8dec775d4946)\n",
    "- [LabelEncoder x OrdinalEncoder](https://datascience.stackexchange.com/questions/39317/difference-between-ordinalencoder-and-labelencoder)\n",
    "- [Imputation Strategies Sklearn](https://scikit-learn.org/stable/modules/impute.html)\n",
    "- [Classes de Preprocessing do Sklearn](https://scikit-learn.org/stable/modules/classes.html#module-sklearn.preprocessing)\n",
    "- [Effect of transforming the targets in regression mode](https://scikit-learn.org/stable/auto_examples/compose/plot_transformed_target.html#sphx-glr-auto-examples-compose-plot-transformed-target-py)\n",
    "- [Feature Engineering and Feature Selection](https://www.kaggle.com/code/nkitgupta/feature-engineering-and-feature-selection/notebook)\n",
    "- [Data Pre-processing](https://medium.com/@patel.rd299/data-science-data-preprocessing-using-data-reduction-techniques-2db69688fb5c)\n",
    "- [Pre-processing](https://machinelearningmastery.com/data-preparation-techniques-for-machine-learning/)\n",
    "- [Pre-processing](https://serokell.io/blog/data-preprocessing)"
   ]
  }
 ],
 "metadata": {
  "kernelspec": {
   "display_name": "Python 3 (ipykernel)",
   "language": "python",
   "name": "python3"
  },
  "language_info": {
   "codemirror_mode": {
    "name": "ipython",
    "version": 3
   },
   "file_extension": ".py",
   "mimetype": "text/x-python",
   "name": "python",
   "nbconvert_exporter": "python",
   "pygments_lexer": "ipython3",
   "version": "3.9.12"
  }
 },
 "nbformat": 4,
 "nbformat_minor": 5
}
